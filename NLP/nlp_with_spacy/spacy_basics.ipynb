{
 "cells": [
  {
   "cell_type": "markdown",
   "id": "c2d211ac-e216-4e56-8ec1-351bcae7f3fc",
   "metadata": {},
   "source": [
    "# spaCy\n",
    "\n",
    "spaCy is a free and open-source library for NLP in Python, which is designed to simplify building systems for information extraction. spaCy provides production-ready code widely used for NLP use cases. It supports 64+ languages. It is robust, fast and has built-in visualizers for various NLP functionalities."
   ]
  },
  {
   "cell_type": "code",
   "execution_count": 1,
   "id": "d95f5dc0-981b-44df-8190-e594f68de0d5",
   "metadata": {},
   "outputs": [],
   "source": [
    "# import required libraries\n",
    "import spacy"
   ]
  },
  {
   "cell_type": "markdown",
   "id": "b868b811-c101-4f1e-bb03-75e4a39b6269",
   "metadata": {},
   "source": [
    "#### en_core_web_sm\n",
    "\n",
    "<b>en_core_web_sm</b> is a pre-trained small English language model provided by spaCy. It is designed to support tasks like part-of-speech tagging, dependency parsing, named entity recognition (NER), and tokenization in English text.\n",
    "\n",
    "It can be installed with following command\n",
    "\n",
    "*python -m spacy download en_core_web_sm*"
   ]
  },
  {
   "cell_type": "code",
   "execution_count": 2,
   "id": "18b24c00-a51e-42e1-a700-03c5298a5cc6",
   "metadata": {},
   "outputs": [],
   "source": [
    "# load en_core_web_sm for further processing\n",
    "# Let us run spaCy nlp pipeline for text processing which returns a language object\n",
    "nlp = spacy.load(\"en_core_web_sm\")"
   ]
  },
  {
   "cell_type": "code",
   "execution_count": 3,
   "id": "ad2dfe0c-525e-4a54-921b-aeb137cbaafc",
   "metadata": {},
   "outputs": [
    {
     "data": {
      "text/plain": [
       "spacy.lang.en.English"
      ]
     },
     "execution_count": 3,
     "metadata": {},
     "output_type": "execute_result"
    }
   ],
   "source": [
    "type(nlp)"
   ]
  },
  {
   "cell_type": "code",
   "execution_count": 4,
   "id": "7ec99583-628b-412e-8291-0a7591850ade",
   "metadata": {},
   "outputs": [],
   "source": [
    "# let us process a sample string with spaCy\n",
    "\n",
    "text = 'We are learning spaCy for Natural Language Processing'\n",
    "doc = nlp(text)"
   ]
  },
  {
   "cell_type": "code",
   "execution_count": 5,
   "id": "9b5cc49b-e4da-47bd-96f9-fe7938016c3e",
   "metadata": {},
   "outputs": [
    {
     "data": {
      "text/plain": [
       "spacy.tokens.doc.Doc"
      ]
     },
     "execution_count": 5,
     "metadata": {},
     "output_type": "execute_result"
    }
   ],
   "source": [
    "type(doc)"
   ]
  },
  {
   "cell_type": "markdown",
   "id": "9c808480-1a3b-4b56-907d-c937d7130417",
   "metadata": {},
   "source": [
    "#### As we see above, nlp object converts the text ino a Doc object(container) which contains tokens, linguistic annotations, relationships, etc of the processes text "
   ]
  },
  {
   "cell_type": "code",
   "execution_count": 6,
   "id": "38edba7d-e717-4f7b-af04-e4b525af9f83",
   "metadata": {},
   "outputs": [
    {
     "data": {
      "text/plain": [
       "'We are learning spaCy for Natural Language Processing'"
      ]
     },
     "execution_count": 6,
     "metadata": {},
     "output_type": "execute_result"
    }
   ],
   "source": [
    "doc.text"
   ]
  },
  {
   "cell_type": "markdown",
   "id": "862f4cb6-446a-4974-8832-deb3de2b3174",
   "metadata": {},
   "source": [
    "#### Tokenization"
   ]
  },
  {
   "cell_type": "code",
   "execution_count": 7,
   "id": "8b33ff70-22cf-4f0e-a7de-b8a99dd9ed35",
   "metadata": {},
   "outputs": [
    {
     "name": "stdout",
     "output_type": "stream",
     "text": [
      "['We', 'are', 'learning', 'spaCy', 'for', 'Natural', 'Language', 'Processing']\n"
     ]
    }
   ],
   "source": [
    "# Let us look at the tokens created\n",
    "print([token.text for token in doc])"
   ]
  },
  {
   "cell_type": "markdown",
   "id": "78d7bd01-6a80-4dbc-9038-afdc52028564",
   "metadata": {},
   "source": [
    "#### Sentence Segmentation"
   ]
  },
  {
   "cell_type": "code",
   "execution_count": 8,
   "id": "dea80982-942c-4788-a279-d082ea71e0eb",
   "metadata": {},
   "outputs": [
    {
     "name": "stdout",
     "output_type": "stream",
     "text": [
      "['We are learning NLP.', 'We are getting introduced to spaCy.']\n"
     ]
    }
   ],
   "source": [
    "doc =  nlp('We are learning NLP. We are getting introduced to spaCy.')\n",
    "\n",
    "print([sent.text for sent in doc.sents])"
   ]
  },
  {
   "cell_type": "code",
   "execution_count": 9,
   "id": "3bdf739e-3784-4367-9186-bfb48fbbf5ae",
   "metadata": {},
   "outputs": [
    {
     "name": "stdout",
     "output_type": "stream",
     "text": [
      "Sentence is \"We are learning NLP.\" with length 5\n",
      "Sentence is \"We are getting introduced to spaCy.\" with length 7\n"
     ]
    }
   ],
   "source": [
    "# print sentence and length of each sentence\n",
    "\n",
    "doc =  nlp('We are learning NLP. We are getting introduced to spaCy.')\n",
    "\n",
    "for sent in doc.sents:\n",
    "    print('Sentence is \"{0}\" with length {1}'.format(sent.text,len(sent)))"
   ]
  },
  {
   "cell_type": "markdown",
   "id": "176c2724-5ab7-4c9c-9e46-3518324c2997",
   "metadata": {},
   "source": [
    "#### Lemmatization"
   ]
  },
  {
   "cell_type": "code",
   "execution_count": 10,
   "id": "c61dc3b8-e643-4df8-9393-05f62524d769",
   "metadata": {},
   "outputs": [
    {
     "name": "stdout",
     "output_type": "stream",
     "text": [
      "Token:  We  Lemma:  we\n",
      "Token:  are  Lemma:  be\n",
      "Token:  learning  Lemma:  learn\n",
      "Token:  NLP  Lemma:  NLP\n"
     ]
    }
   ],
   "source": [
    "doc = nlp('We are learning NLP')\n",
    "\n",
    "for token in doc:\n",
    "    print('Token: ',token.text,' Lemma: ', token.lemma_)"
   ]
  },
  {
   "cell_type": "markdown",
   "id": "7bda3a2f-3199-4ec7-a24e-f9edf141b959",
   "metadata": {},
   "source": [
    "#### POS(part of speech) tagging with spaCy\n",
    "\n",
    "POS tags depend on the context, surrounding words and their tags"
   ]
  },
  {
   "cell_type": "code",
   "execution_count": 11,
   "id": "1197a297-0045-403c-baf9-724234fec687",
   "metadata": {},
   "outputs": [
    {
     "name": "stdout",
     "output_type": "stream",
     "text": [
      "Token: My, POS: PRON, POS Explaination: pronoun\n",
      "Token: cat, POS: NOUN, POS Explaination: noun\n",
      "Token: will, POS: AUX, POS Explaination: auxiliary\n",
      "Token: fish, POS: VERB, POS Explaination: verb\n",
      "Token: for, POS: ADP, POS Explaination: adposition\n",
      "Token: a, POS: DET, POS Explaination: determiner\n",
      "Token: fish, POS: NOUN, POS Explaination: noun\n",
      "Token: tomorrow, POS: NOUN, POS Explaination: noun\n",
      "Token: in, POS: ADP, POS Explaination: adposition\n",
      "Token: a, POS: DET, POS Explaination: determiner\n",
      "Token: fishy, POS: ADJ, POS Explaination: adjective\n",
      "Token: way, POS: NOUN, POS Explaination: noun\n",
      "Token: ., POS: PUNCT, POS Explaination: punctuation\n"
     ]
    }
   ],
   "source": [
    "# let us see another complex example to see how POS tagging is done on the context\n",
    "\n",
    "for token in nlp('My cat will fish for a fish tomorrow in a fishy way.'):\n",
    "    print('Token: {0}, POS: {1}, POS Explaination: {2}'.format(token.text, token.pos_,spacy.explain(token.pos_)))"
   ]
  },
  {
   "cell_type": "code",
   "execution_count": 12,
   "id": "261a7b5e-8d3a-46a5-964f-5418bbd40873",
   "metadata": {},
   "outputs": [
    {
     "name": "stdout",
     "output_type": "stream",
     "text": [
      "Token: I, POS: PRON, POS Explaination: pronoun\n",
      "Token: watch, POS: VERB, POS Explaination: verb\n",
      "Token: TV, POS: NOUN, POS Explaination: noun\n",
      "Token: ., POS: PUNCT, POS Explaination: punctuation\n"
     ]
    }
   ],
   "source": [
    "# Let us see another example to see the difference in POS tagging for the word watch in different context\n",
    "verb_sent = 'I watch TV.'\n",
    "\n",
    "for token in nlp(verb_sent):\n",
    "    print('Token: {0}, POS: {1}, POS Explaination: {2}'.format(token.text, token.pos_, spacy.explain(token.pos_)))"
   ]
  },
  {
   "cell_type": "code",
   "execution_count": 13,
   "id": "88d4ae73-4cd3-46f2-b06d-e0e8830b2fc3",
   "metadata": {},
   "outputs": [
    {
     "name": "stdout",
     "output_type": "stream",
     "text": [
      "Token: I, POS: PRON, POS Explaination: pronoun\n",
      "Token: left, POS: VERB, POS Explaination: verb\n",
      "Token: without, POS: ADP, POS Explaination: adposition\n",
      "Token: my, POS: PRON, POS Explaination: pronoun\n",
      "Token: watch, POS: NOUN, POS Explaination: noun\n",
      "Token: ., POS: PUNCT, POS Explaination: punctuation\n"
     ]
    }
   ],
   "source": [
    "# let us compare above processing with a sentence which has watch as noun\n",
    "noun_sent = 'I left without my watch.'\n",
    "\n",
    "for token in nlp(noun_sent):\n",
    "    print('Token: {0}, POS: {1}, POS Explaination: {2}'.format(token.text, token.pos_, spacy.explain(token.pos_)))"
   ]
  },
  {
   "attachments": {},
   "cell_type": "markdown",
   "id": "b1b43fd0-8adf-4a62-97d4-cf1c9a7f907f",
   "metadata": {},
   "source": [
    "#### Importance of POS\n",
    "\n",
    "- Many applications need to know the word type for better accuracy. For example, in transalation systems, the word fish as a verb and as a noun will map to different words in Spanish\n",
    "\n",
    "- Syntactic information such as POS tags can help many tasks further down the pipeline such as <b>word-sense disambiguation (WSD)</b>. WSD is a classical problem of deciding in which sense a word is used in a sentence. Determining the sense of the word can be crucial in search engines, machine translation, and question-answering systems. For example, for the word \"Play\", the POS tagger can help with WSD when the tagger labels the senses of word with a NOUN or VERB depending on its context."
   ]
  },
  {
   "cell_type": "markdown",
   "id": "316b54cc-46d9-433b-b877-48f532d98008",
   "metadata": {},
   "source": [
    "#### Named Entity Recognition(NER)"
   ]
  },
  {
   "cell_type": "code",
   "execution_count": 14,
   "id": "ef7e10b0-9a72-4a72-9dec-a1e6d90169fa",
   "metadata": {},
   "outputs": [
    {
     "name": "stdout",
     "output_type": "stream",
     "text": [
      "Text Albert Einstein is PERSON with start position 0 and end position 15\n"
     ]
    }
   ],
   "source": [
    "doc = nlp('Albert Einstein was genius')\n",
    "\n",
    "for ent in doc.ents:\n",
    "    print('Text {0} is {1} with start position {2} and end position {3}'.format(ent.text, ent.label_, ent.start_char, ent.end_char))"
   ]
  },
  {
   "cell_type": "code",
   "execution_count": 15,
   "id": "e22e15e4-19e6-48e5-a3ee-a23d2291c304",
   "metadata": {},
   "outputs": [
    {
     "name": "stdout",
     "output_type": "stream",
     "text": [
      "Text Taj Mahal is PERSON with start position 0 and end position 9\n",
      "Text Agra is GPE with start position 16 and end position 20\n"
     ]
    }
   ],
   "source": [
    "doc = nlp('Taj Mahal is in Agra')\n",
    "\n",
    "for ent in doc.ents:\n",
    "    print('Text {0} is {1} with start position {2} and end position {3}'.format(ent.text, ent.label_, ent.start_char, ent.end_char))"
   ]
  },
  {
   "cell_type": "markdown",
   "id": "53346630-e8ea-40b9-aea9-fe287ec278ba",
   "metadata": {},
   "source": [
    "So sometimes spacy NER fails to detect correctly as we saw"
   ]
  },
  {
   "cell_type": "code",
   "execution_count": 16,
   "id": "14bc060e-0046-4994-9860-73f0092ac97b",
   "metadata": {},
   "outputs": [
    {
     "name": "stdout",
     "output_type": "stream",
     "text": [
      "Text Taj Mahal is PERSON with start position 0 and end position 9\n"
     ]
    }
   ],
   "source": [
    "doc = nlp('Taj Mahal is in agra')\n",
    "\n",
    "for ent in doc.ents:\n",
    "    print('Text {0} is {1} with start position {2} and end position {3}'.format(ent.text, ent.label_, ent.start_char, ent.end_char))"
   ]
  },
  {
   "cell_type": "markdown",
   "id": "100453de-85ea-4304-aed6-7534637783ea",
   "metadata": {},
   "source": [
    "Also, if written in small letters it does not detect correctly"
   ]
  },
  {
   "cell_type": "markdown",
   "id": "c56673d9-5bbf-4f7c-b0d8-2f38dfb126cd",
   "metadata": {},
   "source": [
    "Alternative way of accessing entity types is from the token of doc object"
   ]
  },
  {
   "cell_type": "code",
   "execution_count": 17,
   "id": "4e8078cd-7b8a-4c55-bb54-441d851201b5",
   "metadata": {},
   "outputs": [
    {
     "name": "stdout",
     "output_type": "stream",
     "text": [
      "Token Albert is of type PERSON\n",
      "Token Einstein is of type PERSON\n",
      "Token was is of type \n",
      "Token genius is of type \n"
     ]
    }
   ],
   "source": [
    "doc = nlp('Albert Einstein was genius')\n",
    "\n",
    "for token in doc:\n",
    "    print('Token {0} is of type {1}'.format(token.text, token.ent_type_))"
   ]
  },
  {
   "cell_type": "markdown",
   "id": "09751845-9c1a-4fe0-b8e8-ef6d6ee71025",
   "metadata": {},
   "source": [
    "For tokens which are not recognized as entity, will give empty value for token.ent_type_"
   ]
  },
  {
   "cell_type": "markdown",
   "id": "d7b1b9e5-d442-465e-936f-dd924f982567",
   "metadata": {},
   "source": [
    "### displaCy\n",
    "\n",
    "spaCy is equipped with a modern visualizer <b>displaCy</b>. The displaCy entity visualizer highlights named entities and their labels"
   ]
  },
  {
   "cell_type": "code",
   "execution_count": 18,
   "id": "774ee978-4f68-439c-b26b-3a3af17a1085",
   "metadata": {
    "scrolled": true
   },
   "outputs": [
    {
     "data": {
      "text/html": [
       "<span class=\"tex2jax_ignore\"><div class=\"entities\" style=\"line-height: 2.5; direction: ltr\">\n",
       "<mark class=\"entity\" style=\"background: #aa9cfc; padding: 0.45em 0.6em; margin: 0 0.25em; line-height: 1; border-radius: 0.35em;\">\n",
       "    Albert Einstein\n",
       "    <span style=\"font-size: 0.8em; font-weight: bold; line-height: 1; border-radius: 0.35em; vertical-align: middle; margin-left: 0.5rem\">PERSON</span>\n",
       "</mark>\n",
       " was genius</div></span>"
      ],
      "text/plain": [
       "<IPython.core.display.HTML object>"
      ]
     },
     "metadata": {},
     "output_type": "display_data"
    }
   ],
   "source": [
    "from spacy import displacy\n",
    "\n",
    "doc = nlp('Albert Einstein was genius')\n",
    "\n",
    "# displacy.serve(doc, style='ent', port=5001) Since we are running from local system server, this is not required\n",
    "displacy.render(doc, style='ent')"
   ]
  },
  {
   "cell_type": "markdown",
   "id": "60bfc90d-9159-4a15-aea7-62213acfc483",
   "metadata": {},
   "source": [
    "### Dependency Parsing\n",
    "\n",
    "POS tags gives the grammatical categories of words but does not reveal any relation between distant words in a given sentence.\n",
    "\n",
    "Dependency parsing helps bridge that gap. This process provides a structured way of exploring the sentence syntax. It is analyzing sentence structure via dependencies between tokens. A dependency or a dependency relation is a directed link between two tokens. The result of this procedure is always a tree. "
   ]
  },
  {
   "cell_type": "code",
   "execution_count": 19,
   "id": "3db47cf0-817e-4beb-aa04-20e5b6b4edba",
   "metadata": {},
   "outputs": [
    {
     "name": "stdout",
     "output_type": "stream",
     "text": [
      "Token: We, Token Dependency: nsubj, Dependency Explaination: nominal subject\n",
      "Token: understand, Token Dependency: ROOT, Dependency Explaination: root\n",
      "Token: the, Token Dependency: det, Dependency Explaination: determiner\n",
      "Token: differences, Token Dependency: dobj, Dependency Explaination: direct object\n",
      "Token: ., Token Dependency: punct, Dependency Explaination: punctuation\n"
     ]
    }
   ],
   "source": [
    "# Let us draw a dependency tree using displaCy\n",
    "\n",
    "doc = nlp('We understand the differences.')\n",
    "\n",
    "for token in doc:\n",
    "    print('Token: {0}, Token Dependency: {1}, Dependency Explaination: {2}'.format(token.text, token.dep_, spacy.explain(token.dep_)))"
   ]
  },
  {
   "cell_type": "code",
   "execution_count": 20,
   "id": "489d585e-c052-471b-b7ba-8f64f4cb1094",
   "metadata": {},
   "outputs": [
    {
     "data": {
      "text/html": [
       "<span class=\"tex2jax_ignore\"><svg xmlns=\"http://www.w3.org/2000/svg\" xmlns:xlink=\"http://www.w3.org/1999/xlink\" xml:lang=\"en\" id=\"0c256d6602c64dd986bbb2a983aa7f64-0\" class=\"displacy\" width=\"750\" height=\"312.0\" direction=\"ltr\" style=\"max-width: none; height: 312.0px; color: #000000; background: #ffffff; font-family: Arial; direction: ltr\">\n",
       "<text class=\"displacy-token\" fill=\"currentColor\" text-anchor=\"middle\" y=\"222.0\">\n",
       "    <tspan class=\"displacy-word\" fill=\"currentColor\" x=\"50\">We</tspan>\n",
       "    <tspan class=\"displacy-tag\" dy=\"2em\" fill=\"currentColor\" x=\"50\">PRON</tspan>\n",
       "</text>\n",
       "\n",
       "<text class=\"displacy-token\" fill=\"currentColor\" text-anchor=\"middle\" y=\"222.0\">\n",
       "    <tspan class=\"displacy-word\" fill=\"currentColor\" x=\"225\">understand</tspan>\n",
       "    <tspan class=\"displacy-tag\" dy=\"2em\" fill=\"currentColor\" x=\"225\">VERB</tspan>\n",
       "</text>\n",
       "\n",
       "<text class=\"displacy-token\" fill=\"currentColor\" text-anchor=\"middle\" y=\"222.0\">\n",
       "    <tspan class=\"displacy-word\" fill=\"currentColor\" x=\"400\">the</tspan>\n",
       "    <tspan class=\"displacy-tag\" dy=\"2em\" fill=\"currentColor\" x=\"400\">DET</tspan>\n",
       "</text>\n",
       "\n",
       "<text class=\"displacy-token\" fill=\"currentColor\" text-anchor=\"middle\" y=\"222.0\">\n",
       "    <tspan class=\"displacy-word\" fill=\"currentColor\" x=\"575\">differences.</tspan>\n",
       "    <tspan class=\"displacy-tag\" dy=\"2em\" fill=\"currentColor\" x=\"575\">NOUN</tspan>\n",
       "</text>\n",
       "\n",
       "<g class=\"displacy-arrow\">\n",
       "    <path class=\"displacy-arc\" id=\"arrow-0c256d6602c64dd986bbb2a983aa7f64-0-0\" stroke-width=\"2px\" d=\"M70,177.0 C70,89.5 220.0,89.5 220.0,177.0\" fill=\"none\" stroke=\"currentColor\"/>\n",
       "    <text dy=\"1.25em\" style=\"font-size: 0.8em; letter-spacing: 1px\">\n",
       "        <textPath xlink:href=\"#arrow-0c256d6602c64dd986bbb2a983aa7f64-0-0\" class=\"displacy-label\" startOffset=\"50%\" side=\"left\" fill=\"currentColor\" text-anchor=\"middle\">nsubj</textPath>\n",
       "    </text>\n",
       "    <path class=\"displacy-arrowhead\" d=\"M70,179.0 L62,167.0 78,167.0\" fill=\"currentColor\"/>\n",
       "</g>\n",
       "\n",
       "<g class=\"displacy-arrow\">\n",
       "    <path class=\"displacy-arc\" id=\"arrow-0c256d6602c64dd986bbb2a983aa7f64-0-1\" stroke-width=\"2px\" d=\"M420,177.0 C420,89.5 570.0,89.5 570.0,177.0\" fill=\"none\" stroke=\"currentColor\"/>\n",
       "    <text dy=\"1.25em\" style=\"font-size: 0.8em; letter-spacing: 1px\">\n",
       "        <textPath xlink:href=\"#arrow-0c256d6602c64dd986bbb2a983aa7f64-0-1\" class=\"displacy-label\" startOffset=\"50%\" side=\"left\" fill=\"currentColor\" text-anchor=\"middle\">det</textPath>\n",
       "    </text>\n",
       "    <path class=\"displacy-arrowhead\" d=\"M420,179.0 L412,167.0 428,167.0\" fill=\"currentColor\"/>\n",
       "</g>\n",
       "\n",
       "<g class=\"displacy-arrow\">\n",
       "    <path class=\"displacy-arc\" id=\"arrow-0c256d6602c64dd986bbb2a983aa7f64-0-2\" stroke-width=\"2px\" d=\"M245,177.0 C245,2.0 575.0,2.0 575.0,177.0\" fill=\"none\" stroke=\"currentColor\"/>\n",
       "    <text dy=\"1.25em\" style=\"font-size: 0.8em; letter-spacing: 1px\">\n",
       "        <textPath xlink:href=\"#arrow-0c256d6602c64dd986bbb2a983aa7f64-0-2\" class=\"displacy-label\" startOffset=\"50%\" side=\"left\" fill=\"currentColor\" text-anchor=\"middle\">dobj</textPath>\n",
       "    </text>\n",
       "    <path class=\"displacy-arrowhead\" d=\"M575.0,179.0 L583.0,167.0 567.0,167.0\" fill=\"currentColor\"/>\n",
       "</g>\n",
       "</svg></span>"
      ],
      "text/plain": [
       "<IPython.core.display.HTML object>"
      ]
     },
     "metadata": {},
     "output_type": "display_data"
    }
   ],
   "source": [
    "displacy.render(doc, style='dep')"
   ]
  },
  {
   "cell_type": "markdown",
   "id": "eef197c0-00ce-40fe-a34b-abe0613d0ab8",
   "metadata": {},
   "source": [
    "### Word Vectors\n",
    "\n",
    "Word vectors, or word embeddings, are numerical representations of words that allow computers to perform complex tasks using text data. Word vectors are a part of many spaCy models, however, a few of the models do not have word vectors like en_core_web_sm\n",
    "\n",
    "We have word vectors in en_core_web_md (the medium model) which has 300-dimensional vectors for 20,000 words."
   ]
  },
  {
   "cell_type": "code",
   "execution_count": 21,
   "id": "162492b7-b063-474d-80b8-34ccd6c2f085",
   "metadata": {},
   "outputs": [
    {
     "name": "stdout",
     "output_type": "stream",
     "text": [
      "{'width': 0, 'vectors': 0, 'keys': 0, 'name': None, 'mode': 'default'}\n"
     ]
    }
   ],
   "source": [
    "# nlp since is loaded with en_core_web_sm, it does not have any vector\n",
    "print(nlp.meta['vectors'])"
   ]
  },
  {
   "cell_type": "code",
   "execution_count": 22,
   "id": "ab3e2c72-97cf-4479-b767-490bc4300b4d",
   "metadata": {},
   "outputs": [
    {
     "name": "stdout",
     "output_type": "stream",
     "text": [
      "{'width': 300, 'vectors': 20000, 'keys': 684830, 'name': 'en_vectors', 'mode': 'default'}\n"
     ]
    }
   ],
   "source": [
    "# let us load now en_core_web_md and check the vectors\n",
    "nlp_md = spacy.load('en_core_web_md')\n",
    "print(nlp_md.meta['vectors'])"
   ]
  },
  {
   "cell_type": "markdown",
   "id": "20059b64-e2e2-4a2a-ab17-2ca352d458ea",
   "metadata": {},
   "source": [
    "The purpose of word vectors is to allow a computer to understand words. Now let us see how to extract the word vectors for a sample word.\n",
    "\n",
    "- nlp_md.vocab: to access the vocabulary (Vocab class)\n",
    "- nlp_md.vocab.strings: to access word IDs in a vocabulary\n",
    "- nlp_md.vocab.vectors: to access word vectors of a model or a word, given its corresponding id"
   ]
  },
  {
   "cell_type": "code",
   "execution_count": 23,
   "id": "21a53f9e-76f0-4669-aff1-dfdac33df0d6",
   "metadata": {},
   "outputs": [
    {
     "name": "stdout",
     "output_type": "stream",
     "text": [
      "<class 'spacy.vocab.Vocab'>\n"
     ]
    }
   ],
   "source": [
    "print(type(nlp_md.vocab))"
   ]
  },
  {
   "cell_type": "code",
   "execution_count": 24,
   "id": "5275d64c-1d38-4a0e-ab6a-8e2c3c22d158",
   "metadata": {},
   "outputs": [
    {
     "name": "stdout",
     "output_type": "stream",
     "text": [
      "18194338103975822726\n"
     ]
    }
   ],
   "source": [
    "like_id = nlp_md.vocab.strings['like']\n",
    "print(like_id)"
   ]
  },
  {
   "cell_type": "code",
   "execution_count": 25,
   "id": "3c5c1b32-3873-4017-9426-700389169f08",
   "metadata": {},
   "outputs": [
    {
     "name": "stdout",
     "output_type": "stream",
     "text": [
      "[-6.1052e-01  1.1656e-01 -5.0648e-01 -3.2216e-01 -9.9742e-02  1.0182e-01\n",
      "  3.1042e-01 -1.8155e-01  3.1774e-01  2.1537e+00 -8.1129e-02 -3.8734e-01\n",
      "  6.8008e-02 -5.8029e-03 -5.3814e-01 -9.8787e-02 -8.4160e-02  3.1755e-02\n",
      " -2.9811e-01  5.0496e-01  4.1719e-01  1.1462e-01  2.5330e-01 -1.6668e-01\n",
      "  2.6645e-02  4.5709e-02 -5.9685e-01 -3.9645e-01  4.3089e-01  1.3014e-01\n",
      " -4.0591e-02  6.6024e-01 -5.3007e-01 -8.1629e-02  3.3484e-01  1.6258e-01\n",
      "  3.9029e-02  7.2786e-02 -1.8635e-01  3.8104e-01 -5.0557e-01 -3.0910e-02\n",
      " -3.2578e-01  3.8818e-01  1.4605e-01  3.8982e-02 -1.4992e-01  6.0316e-01\n",
      " -3.0801e-02  1.3456e-01 -6.2982e-01  5.8746e-02  1.5878e-02 -7.8831e-02\n",
      "  1.4754e-01  5.2191e-02 -4.3654e-01 -1.6707e-01 -1.5184e-02 -1.6073e-01\n",
      " -2.1243e-02  8.3719e-02 -6.5062e-01 -7.9566e-02 -4.5479e-02 -1.0070e-01\n",
      " -1.4044e-01 -4.1403e-02  1.2033e-01  2.6015e-03  1.0318e-02  1.2444e-01\n",
      "  3.0785e-01 -2.4270e-01  4.9056e-02  2.1891e-01  1.5346e-01  1.6682e-01\n",
      "  5.0732e-01  5.9128e-01 -3.0452e-01 -5.8077e-02  1.4405e-01 -4.4923e-01\n",
      "  2.3952e-01 -1.8347e-01  2.6224e-01 -7.6430e-01  1.1990e-01 -4.5683e-01\n",
      " -1.4176e-01 -1.6581e-01  1.2650e-01  2.3494e-01  2.1847e-01  1.2909e-01\n",
      "  4.9598e-02  4.8204e-01 -1.7446e-02 -3.5697e-01  3.1545e-01 -2.6209e-01\n",
      " -3.4744e-02 -4.2803e-01  5.4802e-01 -7.5777e-01 -1.6709e-01 -2.3587e-02\n",
      " -2.7345e-01  9.4488e-02 -9.8469e-02 -2.5598e-01  2.9519e-02 -4.2601e-01\n",
      " -2.5830e-01 -1.1096e-02  1.1266e-01 -5.7712e-01 -1.4331e-01 -4.8758e-02\n",
      "  8.4046e-02 -1.4820e-01  6.3360e-02 -5.2884e-01  5.1334e-01  5.5074e-02\n",
      "  3.3447e-01 -4.5821e-02 -8.4835e-02  5.3418e-02 -6.0270e-01  1.0075e-01\n",
      "  3.4882e-02  1.3661e-01 -5.7156e-02 -3.2932e-01 -5.0855e-01 -1.0988e-01\n",
      "  8.5876e-02 -1.2094e-01 -2.9525e+00 -9.1559e-02  4.1377e-01  2.9983e-02\n",
      " -4.5670e-01  3.1407e-01 -2.9968e-01  4.8521e-02 -5.2216e-01 -6.1831e-01\n",
      "  3.2831e-01  2.2728e-01  2.7956e-01  1.3687e-01 -3.8543e-02  2.9034e-01\n",
      " -1.5775e-01 -6.1231e-01 -4.9361e-02  1.4326e-01 -2.3045e-01  5.2664e-02\n",
      "  9.3194e-02  2.7935e-01 -1.8719e-01  4.2922e-01 -1.2092e-01 -3.3848e-02\n",
      " -6.7490e-01 -4.7605e-01 -3.0468e-01 -2.6370e-01  2.5106e-03 -4.6804e-01\n",
      "  6.8331e-01  1.6012e-01 -5.1522e-01  1.8021e-01  2.5192e-01 -3.2158e-01\n",
      " -2.5619e-02 -3.0824e-01 -6.2287e-01  8.0491e-02 -2.8676e-02  2.4823e-01\n",
      "  6.2337e-02 -4.3325e-01  5.4157e-01  1.4867e-01  2.3373e-01 -4.6265e-01\n",
      " -2.9033e-01 -2.1299e-01  3.3593e-01  6.8914e-02  2.4089e-01 -3.2855e-01\n",
      " -1.5312e-01  3.4413e-01  3.3486e-02 -5.7180e-02  9.8070e-02 -4.4647e-02\n",
      "  3.5703e-01 -3.5915e-01  7.0520e-02  7.5669e-02  1.6122e-01  1.5627e-01\n",
      " -8.8761e-02  5.2585e-01  2.7204e-01  3.4040e-01  7.6718e-02  5.6750e-03\n",
      " -2.9162e-01 -1.6033e-01 -3.9822e-01 -3.8824e-02  8.5246e-03  4.1401e-02\n",
      " -2.2201e-01 -2.9588e-01 -7.4356e-02  6.3065e-02  5.1414e-02 -1.1666e-01\n",
      " -2.0297e-01 -3.3333e-01 -5.7485e-01  1.0103e-01 -1.3429e-01 -5.7319e-02\n",
      " -7.3142e-02 -1.7734e-01  6.7575e-01 -7.7484e-02  2.9055e-01  3.8863e-01\n",
      "  5.1169e-02  3.3529e-01  1.1840e-01 -7.4655e-03 -2.2907e-01  2.0701e-01\n",
      " -2.4925e-01  5.5953e-02 -1.5499e-01  5.6069e-01 -6.4385e-02 -3.0198e-02\n",
      " -7.5703e-02 -1.9910e-01 -2.2604e-01 -3.7639e-02 -2.0899e-01 -8.6741e-02\n",
      " -2.2423e-01  1.9680e-01  5.7717e-02  3.1425e-01 -1.1041e-01  3.5558e-01\n",
      "  1.7370e-01  3.0618e-01 -6.7071e-02  1.8406e-01  6.8487e-01  4.1663e-01\n",
      "  3.0946e-02 -5.0516e-01 -2.8229e-01 -2.8282e-01  2.3254e-01 -2.1508e-01\n",
      " -8.4610e-02 -3.9999e-02 -3.1937e-01  6.1145e-02  1.9686e-01 -1.1733e-01\n",
      " -4.5938e-02 -1.4098e-01 -1.0227e-01  3.4548e-01  5.5819e-01 -3.7241e-01\n",
      " -9.7569e-02 -3.4458e-01  1.7395e-01 -1.4566e-02 -2.8684e-01 -4.1603e-01\n",
      " -1.0828e-02  4.0514e-01 -3.4146e-01  1.0321e-01 -8.8201e-02  6.7543e-01]\n"
     ]
    }
   ],
   "source": [
    "print(nlp_md.vocab.vectors[like_id])"
   ]
  },
  {
   "cell_type": "markdown",
   "id": "841c85f4-580b-441d-b494-a0b15c324538",
   "metadata": {},
   "source": [
    "### Word Vectors Visualization\n",
    "\n",
    "We can visualize word vectors in a scatter plot to help us understand how the vocabulary words are grouped. "
   ]
  },
  {
   "cell_type": "code",
   "execution_count": 26,
   "id": "b21430cf-3555-4538-ab94-9441994aa2ec",
   "metadata": {},
   "outputs": [],
   "source": [
    "# import required libraries\n",
    "\n",
    "import matplotlib.pyplot as plt\n",
    "from sklearn.decomposition import PCA\n",
    "import numpy as np"
   ]
  },
  {
   "cell_type": "code",
   "execution_count": 27,
   "id": "e325a7d8-a050-4433-a1e6-4d21cd11ca5d",
   "metadata": {},
   "outputs": [],
   "source": [
    "# let take few sample words to create their word vector visualization\n",
    "words = ['wonderful','horrible',\n",
    "        'apple', 'banana', 'orange', 'watermelon',\n",
    "        'dog', 'cat']"
   ]
  },
  {
   "cell_type": "code",
   "execution_count": 28,
   "id": "051648d6-d42a-4e1d-ac57-4c4fa7c3f80b",
   "metadata": {},
   "outputs": [],
   "source": [
    "# let us now create word vectors for these words and stack them vertically\n",
    "word_vectors = np.vstack([nlp_md.vocab.vectors[nlp_md.vocab.strings[word]] for word in words])"
   ]
  },
  {
   "cell_type": "code",
   "execution_count": 29,
   "id": "cdc2343f-c024-4ea2-8acd-d5cf24192976",
   "metadata": {},
   "outputs": [
    {
     "data": {
      "text/plain": [
       "array([[-0.76677 ,  0.52154 ,  0.51221 , ...,  0.39398 ,  0.30883 ,\n",
       "        -0.20862 ],\n",
       "       [-0.71302 ,  0.090462,  0.36503 , ..., -0.088974, -0.050381,\n",
       "        -0.052622],\n",
       "       [-0.6334  ,  0.18981 , -0.53544 , ..., -1.1784  ,  0.25504 ,\n",
       "         0.61171 ],\n",
       "       ...,\n",
       "       [-0.6334  ,  0.18981 , -0.53544 , ..., -1.1784  ,  0.25504 ,\n",
       "         0.61171 ],\n",
       "       [-0.72483 ,  0.42538 ,  0.025489, ...,  0.050317, -0.23159 ,\n",
       "         0.28165 ],\n",
       "       [-0.72483 ,  0.42538 ,  0.025489, ...,  0.050317, -0.23159 ,\n",
       "         0.28165 ]], dtype=float32)"
      ]
     },
     "execution_count": 29,
     "metadata": {},
     "output_type": "execute_result"
    }
   ],
   "source": [
    "word_vectors"
   ]
  },
  {
   "cell_type": "markdown",
   "id": "c86a3a4a-2dba-45d2-9e74-f61beb1d7040",
   "metadata": {},
   "source": [
    "Since the word vectors here are 300 dimensions, in order to visualize word vectors, we need to project them into a two-dimensional space. We can project vectors by extracting the two principal components via <b>Principal Component Analysis (PCA)</b>. It is a way to reduce a high-dimensional dataset into a dataset of fewer dimensions (two in this case)"
   ]
  },
  {
   "cell_type": "code",
   "execution_count": 30,
   "id": "99fc8a93-a69b-4532-beca-77ba135f4fba",
   "metadata": {},
   "outputs": [],
   "source": [
    "pca = PCA(n_components=2)\n",
    "word_vectors_transformed = pca.fit_transform(word_vectors)"
   ]
  },
  {
   "cell_type": "code",
   "execution_count": 31,
   "id": "2bf568a3-6a3b-43e4-83d0-114927eead3a",
   "metadata": {},
   "outputs": [
    {
     "data": {
      "text/plain": [
       "numpy.ndarray"
      ]
     },
     "execution_count": 31,
     "metadata": {},
     "output_type": "execute_result"
    }
   ],
   "source": [
    "type(word_vectors_transformed)"
   ]
  },
  {
   "cell_type": "code",
   "execution_count": 32,
   "id": "04ddb89e-38d1-4529-9af6-591809dfe659",
   "metadata": {},
   "outputs": [
    {
     "data": {
      "image/png": "[encoded data removed]",
      "text/plain": [
       "<Figure size 1000x800 with 1 Axes>"
      ]
     },
     "metadata": {},
     "output_type": "display_data"
    }
   ],
   "source": [
    "plt.figure(figsize=(10,8))\n",
    "plt.scatter(word_vectors_transformed[:,0],word_vectors_transformed[:,1])\n",
    "\n",
    "for word, coord in zip(words, word_vectors_transformed):\n",
    "    x,y = coord\n",
    "    plt.text(x,y, word, size=10)\n",
    "\n",
    "plt.show()"
   ]
  },
  {
   "cell_type": "markdown",
   "id": "f94b11d9-602d-48da-8942-0442e4e4deaf",
   "metadata": {},
   "source": [
    "### Similar words in a vocabulary\n",
    "\n",
    "spaCy can help find semantically similar terms to a given term"
   ]
  },
  {
   "cell_type": "code",
   "execution_count": 33,
   "id": "195381d2-e55e-459d-86fe-e764e7ba062d",
   "metadata": {},
   "outputs": [],
   "source": [
    "word = \"computer\"\n",
    "\n",
    "word_vector = nlp_md.vocab.vectors[nlp_md.vocab.strings[word]]\n",
    "\n",
    "most_similar_words = nlp_md.vocab.vectors.most_similar(np.asarray([word_vector]), n=5)"
   ]
  },
  {
   "cell_type": "code",
   "execution_count": 34,
   "id": "cb7c867d-5d02-4901-8767-3cbe0ef0ae9f",
   "metadata": {},
   "outputs": [
    {
     "name": "stdout",
     "output_type": "stream",
     "text": [
      "['CONNECTING', 'Paths', 'CONFIGURATION', 'architectural', 'SIGNAGE']\n"
     ]
    }
   ],
   "source": [
    "words = [nlp_md.vocab.strings[w] for w in most_similar_words[0][0]]\n",
    "print(words)"
   ]
  },
  {
   "cell_type": "markdown",
   "id": "829096de-76c8-4c6f-ba05-c1c20b14bfeb",
   "metadata": {},
   "source": [
    "### Semantic Similarity\n",
    "\n",
    "It is the process of analyzing multiple sentences to identify similarities between them. Determining semantic similarity can help us to categorize texts into predefined categories or detect relevant texts, or to flag duplicate content.\n",
    "\n",
    "\n",
    "<b>Similarity score</b>\n",
    "\n",
    "Semantic similarity score is a metric that is defined over texts, where the similarity between two texts is measured using their representative word vectors. \n",
    "\n",
    "We will use cosine similarity and word vectors to measure similarity between two pieces of text. The cosine similarity of two vectors is the cosine of the angle that's created by these two vectors, and it will always have a number between 0 and 1. A larger cosine similarity metric (closer to one) represents more similar word vectors."
   ]
  },
  {
   "cell_type": "code",
   "execution_count": 40,
   "id": "ffca32f4-a197-4fe9-8539-42ae2bb2ade6",
   "metadata": {},
   "outputs": [
    {
     "name": "stdout",
     "output_type": "stream",
     "text": [
      "<class 'spacy.tokens.token.Token'>\n",
      "<class 'spacy.tokens.token.Token'>\n",
      "Similarity between \"pizza\" and \"pasta\" =  1.0\n"
     ]
    }
   ],
   "source": [
    "# let us see an example\n",
    "\n",
    "doc1 = nlp_md('We eat pizza')\n",
    "doc2 = nlp_md('We like to eat pasta')\n",
    "\n",
    "token1 = doc1[2]\n",
    "token2 = doc2[4]\n",
    "\n",
    "print(type(token1))\n",
    "print(type(token2))\n",
    "\n",
    "print('Similarity between \"{0}\" and \"{1}\" = '.format(token1,token2), round(token1.similarity(token2),3))"
   ]
  },
  {
   "cell_type": "markdown",
   "id": "8cf32dde-780f-4ad6-acfb-21d10481e4fe",
   "metadata": {},
   "source": [
    "#### Span Similarity\n",
    "\n",
    "Span is a slice from a Doc container. Subsetting a Doc container results in a Span object. Similar to the Token class, the Span class also has a span.similarity() method that can be used to calculate the similarity score between two spans. "
   ]
  },
  {
   "cell_type": "code",
   "execution_count": 41,
   "id": "a447e400-58da-45e7-a0c9-efe5654526af",
   "metadata": {},
   "outputs": [
    {
     "name": "stdout",
     "output_type": "stream",
     "text": [
      "<class 'spacy.tokens.span.Span'>\n",
      "<class 'spacy.tokens.span.Span'>\n",
      "Similarity between \"eat pizza\" and \"like to eat pasta\" =  0.883\n"
     ]
    }
   ],
   "source": [
    "doc1 = nlp_md('We eat pizza')\n",
    "doc2 = nlp_md('We like to eat pasta')\n",
    "\n",
    "span1 = doc1[1:]\n",
    "span2 = doc2[1:]\n",
    "\n",
    "print(type(span1))\n",
    "print(type(span2))\n",
    "\n",
    "print('Similarity between \"{0}\" and \"{1}\" = '.format(span1,span2), round(span1.similarity(span2),3))"
   ]
  },
  {
   "cell_type": "code",
   "execution_count": 42,
   "id": "113def6f-3874-4c0d-ba8a-ac1307561323",
   "metadata": {},
   "outputs": [
    {
     "name": "stdout",
     "output_type": "stream",
     "text": [
      "<class 'spacy.tokens.span.Span'>\n",
      "<class 'spacy.tokens.span.Span'>\n",
      "Similarity between \"eat pizza\" and \"eat pasta\" =  1.0\n"
     ]
    }
   ],
   "source": [
    "# let us check another span\n",
    "\n",
    "span1 = doc1[1:]\n",
    "span2 = doc2[3:]\n",
    "\n",
    "print(type(span1))\n",
    "print(type(span2))\n",
    "\n",
    "print('Similarity between \"{0}\" and \"{1}\" = '.format(span1,span2), round(span1.similarity(span2),3))"
   ]
  },
  {
   "cell_type": "markdown",
   "id": "d74623fc-dc2f-45b1-ba6e-d8a0e3e5d32d",
   "metadata": {},
   "source": [
    "#### Doc Similarity\n",
    "\n",
    "We can also determine whether two documents are similar using spaCy. "
   ]
  },
  {
   "cell_type": "code",
   "execution_count": 44,
   "id": "f65a7581-6f4e-4c3c-8e96-5664f741df5d",
   "metadata": {},
   "outputs": [
    {
     "name": "stdout",
     "output_type": "stream",
     "text": [
      "Similarity score:  0.927\n"
     ]
    }
   ],
   "source": [
    "doc1 = nlp_md('We eat pizza')\n",
    "doc2 = nlp_md('We like to eat pasta')\n",
    "\n",
    "print('Similarity score: ',round(doc1.similarity(doc2),3))"
   ]
  },
  {
   "cell_type": "markdown",
   "id": "ca38f57f-22c2-452d-ad6e-9ce6d0bfe94e",
   "metadata": {},
   "source": [
    "#### Sentence Similarity\n",
    "\n",
    "we can use spaCy to find relevant sentences to a given keyword."
   ]
  },
  {
   "cell_type": "code",
   "execution_count": 49,
   "id": "20d4f974-9ab7-419e-b3e8-3fce8d43b2ca",
   "metadata": {},
   "outputs": [
    {
     "name": "stdout",
     "output_type": "stream",
     "text": [
      "Similarity score with sentence {0} : 0.5937\n",
      "Similarity score with sentence {0} : 0.44182\n",
      "Similarity score with sentence {0} : 0.37389\n"
     ]
    }
   ],
   "source": [
    "sentences = nlp_md(\"What is the cheapest flight from Bangalore to Ireland? Which airline serves Canada, Ireland and Australia? What kinds of planes are used by American Airlines?\")\n",
    "\n",
    "keyword = nlp_md('price')\n",
    "\n",
    "for i, sentence in enumerate(sentences.sents):\n",
    "    print('Similarity score with sentence {{0}} : {1}'.format(i+1,round(sentence.similarity(keyword),5)))"
   ]
  },
  {
   "cell_type": "code",
   "execution_count": null,
   "id": "80550f11-13a4-40ef-b935-70b4ba05a20c",
   "metadata": {},
   "outputs": [],
   "source": []
  }
 ],
 "metadata": {
  "kernelspec": {
   "display_name": "Python 3 (ipykernel)",
   "language": "python",
   "name": "python3"
  },
  "language_info": {
   "codemirror_mode": {
    "name": "ipython",
    "version": 3
   },
   "file_extension": ".py",
   "mimetype": "text/x-python",
   "name": "python",
   "nbconvert_exporter": "python",
   "pygments_lexer": "ipython3",
   "version": "3.12.1"
  }
 },
 "nbformat": 4,
 "nbformat_minor": 5
}
