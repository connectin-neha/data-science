{
 "cells": [
  {
   "attachments": {},
   "cell_type": "markdown",
   "id": "20b32282-4701-4497-a3f4-631e1201ae95",
   "metadata": {},
   "source": [
    "# spaCy EntityRuler\n",
    "\n",
    "EntityRuler is a component in spaCy that allows us to include or modify named entities using pattern matching rules.\n",
    "\n",
    "EntityRuler let us add named-entities to a Doc container. It can be used on its own or combined with EntityRecognizer (a spaCy pipeline component for named-entity recognition), to boost accuracy."
   ]
  },
  {
   "cell_type": "markdown",
   "id": "ce6dcf2a-2cec-4740-a2dd-37067782496c",
   "metadata": {},
   "source": [
    "We can add named-entities to a Doc container using an entity pattern. \n",
    "\n",
    "Entity patterns are dictionaries with two keys. One key is the \"label\" which is specifying the label to assign to the entity if the pattern is matched, and the second key is the \"pattern\", which is the matched string. \n",
    "\n",
    "The entity ruler accepts two types of patterns: phrase entity and token entity patterns. \n",
    "\n",
    "- A phrase entity pattern is used for exact string matches. For example:\n",
    "\n",
    "  `{'label':'ORG','pattern':'Microsoft'}`\n",
    "\n",
    "- A token entity pattern uses one dictionary to describe one token. For example:\n",
    "\n",
    "  `{'label':'GPE','pattern':[{'LOWER':'san'},{'LOWER':'francisco'}]`\n",
    "\n",
    "We can have a combination of patterns"
   ]
  },
  {
   "cell_type": "markdown",
   "id": "cd724dcf-f5af-4cc8-bff7-066373675d1c",
   "metadata": {},
   "source": [
    "The EntityRuler can be added to a spaCy model using `.add_pipe()` method by passing \"entity_ruler\" name. When the nlp model is called on a text, it will find matches in the doc container and add them as entities in the doc-dot-ents, using the specified pattern label as the entity label. "
   ]
  },
  {
   "cell_type": "code",
   "execution_count": 1,
   "id": "4e5d11a7-f05c-4e19-909a-7746c4c301ab",
   "metadata": {},
   "outputs": [],
   "source": [
    "# import required libraries\n",
    "import spacy"
   ]
  },
  {
   "cell_type": "code",
   "execution_count": 2,
   "id": "e97d9308-717b-4360-9f00-e3cc49a1783e",
   "metadata": {},
   "outputs": [],
   "source": [
    "# let us add entity ruler\n",
    "\n",
    "nlp = spacy.blank('en')\n",
    "entity_ruler = nlp.add_pipe('entity_ruler')\n",
    "\n",
    "pattern = [{'label':'ORG', 'pattern':'Microsoft'},\n",
    "           {'label':'GPE', 'pattern':[{'LOWER':'san'},{'LOWER':'francisco'}]}]\n",
    "\n",
    "entity_ruler.add_patterns(pattern)"
   ]
  },
  {
   "cell_type": "code",
   "execution_count": 3,
   "id": "be80d5b2-0f7a-4a40-a0f4-b1595ab4a51f",
   "metadata": {},
   "outputs": [
    {
     "name": "stdout",
     "output_type": "stream",
     "text": [
      "[('Microsoft', 'ORG'), ('San Francisco', 'GPE')]\n"
     ]
    }
   ],
   "source": [
    "# let us now test above rule on a sample text\n",
    "doc = nlp('Microsoft is hiring software developers in San Francisco.')\n",
    "\n",
    "print([(ent.text, ent.label_) for ent in doc.ents])"
   ]
  },
  {
   "cell_type": "code",
   "execution_count": 4,
   "id": "ebc111f4-971e-4036-9694-bce8585eb7e9",
   "metadata": {},
   "outputs": [
    {
     "name": "stdout",
     "output_type": "stream",
     "text": [
      "[('San Francisco', 'GPE')]\n"
     ]
    }
   ],
   "source": [
    "# let us now test above rule on a sample text\n",
    "doc = nlp('microsoft is hiring software developers in San Francisco.')\n",
    "\n",
    "print([(ent.text, ent.label_) for ent in doc.ents])"
   ]
  },
  {
   "cell_type": "markdown",
   "id": "6268010c-f674-4951-ac85-3b9bd7a2dfa9",
   "metadata": {},
   "source": [
    "Above code doesn't match microsoft since it is exact matching rule that we have defined, so with lower case it does not work"
   ]
  },
  {
   "cell_type": "code",
   "execution_count": 5,
   "id": "81ee79f6-8123-4a69-9416-966aa9bf1ca8",
   "metadata": {},
   "outputs": [],
   "source": [
    "# let us redefine the pattern to be case insensitive\n",
    "\n",
    "nlp = spacy.blank('en')\n",
    "entity_ruler = nlp.add_pipe('entity_ruler')\n",
    "\n",
    "pattern = [{'label':'ORG', 'pattern':[{'LOWER':'microsoft'}]},\n",
    "           {'label':'GPE', 'pattern':[{'LOWER':'san'},{'LOWER':'francisco'}]}]\n",
    "\n",
    "entity_ruler.add_patterns(pattern)"
   ]
  },
  {
   "cell_type": "code",
   "execution_count": 6,
   "id": "e8649f62-11bc-4dd5-bd00-ae0b524afea1",
   "metadata": {},
   "outputs": [
    {
     "name": "stdout",
     "output_type": "stream",
     "text": [
      "[('Microsoft', 'ORG'), ('San Francisco', 'GPE')]\n"
     ]
    }
   ],
   "source": [
    "doc = nlp('Microsoft is hiring software developers in San Francisco.')\n",
    "\n",
    "print([(ent.text, ent.label_) for ent in doc.ents])"
   ]
  },
  {
   "cell_type": "code",
   "execution_count": 7,
   "id": "814134c3-6e85-4417-8aa0-66068b20ecd3",
   "metadata": {},
   "outputs": [
    {
     "name": "stdout",
     "output_type": "stream",
     "text": [
      "Text Taj Mahal is PERSON\n",
      "Text Agra is GPE\n"
     ]
    }
   ],
   "source": [
    "# Let us try with another example\n",
    "nlp_sm = spacy.load('en_core_web_sm')\n",
    "doc = nlp_sm('Taj Mahal is in Agra')\n",
    "\n",
    "for ent in doc.ents:\n",
    "    print('Text {0} is {1}'.format(ent.text, ent.label_))"
   ]
  },
  {
   "cell_type": "markdown",
   "id": "035a649b-4d42-4a85-b00e-73e9ec2a6f69",
   "metadata": {},
   "source": [
    "As we saw above existing mode is unable to detect the entities correctly. We can correct it with entity ruler."
   ]
  },
  {
   "cell_type": "code",
   "execution_count": 8,
   "id": "1f2c81cb-b250-4fbc-8c71-a79e7aef8ae4",
   "metadata": {},
   "outputs": [],
   "source": [
    "# Let us add entity ruler to nlp pipeline\n",
    "ruler = nlp_sm.add_pipe('entity_ruler', after='ner')"
   ]
  },
  {
   "cell_type": "markdown",
   "id": "8edeb33c-8ca0-42ba-8940-1603359de074",
   "metadata": {},
   "source": [
    "If we add the ruler after an existing ner component by setting the \"after\" argument of the .add_pipe() method to \"ner\", the entity ruler will only add entities to the doc.ents if they don’t overlap with existing entities predicted by the model. "
   ]
  },
  {
   "cell_type": "code",
   "execution_count": 9,
   "id": "6c2c3475-2037-42e8-aad6-c9bea8670d0c",
   "metadata": {},
   "outputs": [
    {
     "name": "stdout",
     "output_type": "stream",
     "text": [
      "Text Taj Mahal is PERSON\n",
      "Text Agra is GPE\n"
     ]
    }
   ],
   "source": [
    "# Let us test with the same text\n",
    "patterns = [\n",
    "    {'label': 'FAC', 'pattern': 'Taj Mahal'},\n",
    "    {'label': 'GPE', 'pattern': 'Agra'}\n",
    "]\n",
    "ruler.add_patterns(patterns)\n",
    "\n",
    "doc = nlp_sm('Taj Mahal is in Agra')\n",
    "\n",
    "for ent in doc.ents:\n",
    "    print('Text {0} is {1}'.format(ent.text, ent.label_))"
   ]
  },
  {
   "cell_type": "markdown",
   "id": "8f35ad08-0df2-4770-87fb-e98e1225294d",
   "metadata": {},
   "source": [
    "Hence, still it is unable to detect entities correctly"
   ]
  },
  {
   "cell_type": "markdown",
   "id": "6ac476cb-cba6-444a-86e7-66e107fb14f6",
   "metadata": {},
   "source": [
    "However, if we add an EntityRuler before the ner component by setting the \"before\" argument of .add_pipe() method to \"ner\", to recognize Taj Mahal as FAC, the entity recognizer will respect the existing entity spans and adjust its predictions based on patterns added to the EntityRuler. This can improve model accuracy in our case."
   ]
  },
  {
   "cell_type": "code",
   "execution_count": 12,
   "id": "edb1d8b1-ae32-4cac-8afa-61c8ecb5a556",
   "metadata": {},
   "outputs": [],
   "source": [
    "# Let us add entity ruler to nlp pipeline before\n",
    "nlp_sm.remove_pipe('entity_ruler')\n",
    "ruler = nlp_sm.add_pipe('entity_ruler', before='ner')"
   ]
  },
  {
   "cell_type": "code",
   "execution_count": 13,
   "id": "0521525e-910a-4ca9-b115-ca3a81a18126",
   "metadata": {},
   "outputs": [
    {
     "name": "stdout",
     "output_type": "stream",
     "text": [
      "Text Taj Mahal is FAC\n",
      "Text Agra is GPE\n"
     ]
    }
   ],
   "source": [
    "# Let us test with the same text\n",
    "patterns = [\n",
    "    {'label': 'FAC', 'pattern': 'Taj Mahal'},\n",
    "    {'label': 'GPE', 'pattern': 'Agra'}\n",
    "]\n",
    "ruler.add_patterns(patterns)\n",
    "\n",
    "doc = nlp_sm('Taj Mahal is in Agra')\n",
    "\n",
    "for ent in doc.ents:\n",
    "    print('Text {0} is {1}'.format(ent.text, ent.label_))"
   ]
  },
  {
   "cell_type": "code",
   "execution_count": 19,
   "id": "ddb7c782-3e2f-47e9-b527-aa1c5554691c",
   "metadata": {},
   "outputs": [
    {
     "name": "stdout",
     "output_type": "stream",
     "text": [
      "Entity labels in the model:\n",
      "('CARDINAL', 'DATE', 'EVENT', 'FAC', 'GPE', 'LANGUAGE', 'LAW', 'LOC', 'MONEY', 'NORP', 'ORDINAL', 'ORG', 'PERCENT', 'PERSON', 'PRODUCT', 'QUANTITY', 'TIME', 'WORK_OF_ART')\n"
     ]
    }
   ],
   "source": [
    "# Get the NER components\n",
    "ner = nlp_sm.get_pipe(\"ner\")\n",
    "\n",
    "# Print the entity labels\n",
    "print(\"Entity labels in the model:\")\n",
    "print(ner.labels)"
   ]
  },
  {
   "cell_type": "code",
   "execution_count": null,
   "id": "edf651a4-d2f2-4e02-92b9-b6cf613d3f77",
   "metadata": {},
   "outputs": [],
   "source": []
  }
 ],
 "metadata": {
  "kernelspec": {
   "display_name": "Python 3 (ipykernel)",
   "language": "python",
   "name": "python3"
  },
  "language_info": {
   "codemirror_mode": {
    "name": "ipython",
    "version": 3
   },
   "file_extension": ".py",
   "mimetype": "text/x-python",
   "name": "python",
   "nbconvert_exporter": "python",
   "pygments_lexer": "ipython3",
   "version": "3.12.1"
  }
 },
 "nbformat": 4,
 "nbformat_minor": 5
}
