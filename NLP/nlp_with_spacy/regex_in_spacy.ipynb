{
 "cells": [
  {
   "cell_type": "markdown",
   "id": "debc4a0e-c737-494a-a356-7c25484ef2ea",
   "metadata": {},
   "source": [
    "# RegEx in spaCy\n",
    "\n",
    "spaCy has quick ways to implement RegEx in three pipes: \n",
    "\n",
    "- Matcher\n",
    "- PhraseMatcher\n",
    "- EntityRuler\n",
    "\n",
    "Matcher and PhraseMatcher do not align the matched patterns as entities in the doc.ents. Thus we utilize EntityRuler to implement regular expressions."
   ]
  },
  {
   "cell_type": "markdown",
   "id": "fd6c20fc-7776-4c8a-b9f5-0d5d36ea03a1",
   "metadata": {},
   "source": [
    "#### 1. RegEx with EntityRuler"
   ]
  },
  {
   "cell_type": "code",
   "execution_count": 12,
   "id": "709c4675-d528-4dbc-8459-680fedaef9dc",
   "metadata": {},
   "outputs": [],
   "source": [
    "# import required libraries\n",
    "import spacy"
   ]
  },
  {
   "cell_type": "code",
   "execution_count": 13,
   "id": "e357e17a-6954-4684-96d9-7afab3ce2f31",
   "metadata": {},
   "outputs": [],
   "source": [
    "# Let us see an example\n",
    "\n",
    "nlp = spacy.blank('en')\n",
    "\n",
    "patterns = [{'label':'PHONE_NUMBER', 'pattern': [{'SHAPE':'ddd'},{'ORTH':'-'},{'SHAPE':'ddd'},{'ORTH':'-'},{'SHAPE':'dddd'}]}]\n",
    "\n",
    "ruler = nlp.add_pipe('entity_ruler')\n",
    "\n",
    "ruler.add_patterns(patterns)"
   ]
  },
  {
   "cell_type": "code",
   "execution_count": 14,
   "id": "059ea6df-d9a8-4e6c-90db-9946b820aa12",
   "metadata": {},
   "outputs": [],
   "source": [
    "text = 'Our phone number is 832-123-5555 and their phone number is 425-123-3829.'\n",
    "\n",
    "doc = nlp(text)"
   ]
  },
  {
   "cell_type": "code",
   "execution_count": 15,
   "id": "68d9423a-b46a-472b-a35b-dce42604c138",
   "metadata": {},
   "outputs": [
    {
     "name": "stdout",
     "output_type": "stream",
     "text": [
      "[('832-123-5555', 'PHONE_NUMBER'), ('425-123-3829', 'PHONE_NUMBER')]\n"
     ]
    }
   ],
   "source": [
    "print([(ent.text, ent.label_) for ent in doc.ents])"
   ]
  },
  {
   "cell_type": "markdown",
   "id": "61b1a1ad-0d42-466c-84ac-efa2e8b7f9f1",
   "metadata": {},
   "source": [
    "Another Example"
   ]
  },
  {
   "cell_type": "code",
   "execution_count": 16,
   "id": "7615d564-dc2a-44b8-8b0f-64f65dafdd23",
   "metadata": {},
   "outputs": [
    {
     "name": "stdout",
     "output_type": "stream",
     "text": [
      "[('4251234567', 'PHONE_NUMBERS')]\n"
     ]
    }
   ],
   "source": [
    "text = \"Our phone number is 4251234567.\"\n",
    "\n",
    "patterns = [{\"label\": \"PHONE_NUMBERS\", \"pattern\": [{\"TEXT\": {\"REGEX\": r\"(\\d){10}\"}}]}]\n",
    "\n",
    "ruler.add_patterns(patterns)\n",
    "\n",
    "doc = nlp(text)\n",
    "print([(ent.text, ent.label_) for ent in doc.ents])"
   ]
  },
  {
   "cell_type": "code",
   "execution_count": null,
   "id": "5ddc1c19-759b-42f7-97ec-90f4053796d0",
   "metadata": {},
   "outputs": [],
   "source": []
  }
 ],
 "metadata": {
  "kernelspec": {
   "display_name": "Python 3 (ipykernel)",
   "language": "python",
   "name": "python3"
  },
  "language_info": {
   "codemirror_mode": {
    "name": "ipython",
    "version": 3
   },
   "file_extension": ".py",
   "mimetype": "text/x-python",
   "name": "python",
   "nbconvert_exporter": "python",
   "pygments_lexer": "ipython3",
   "version": "3.12.1"
  }
 },
 "nbformat": 4,
 "nbformat_minor": 5
}
