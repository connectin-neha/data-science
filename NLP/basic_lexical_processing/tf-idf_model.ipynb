{
 "cells": [
  {
   "cell_type": "markdown",
   "id": "39ba5676-c558-492b-8570-fda3d76b2655",
   "metadata": {},
   "source": [
    "# TF-IDF Representation/Model \n",
    "\n",
    "The TF-IDF representation, also called the TF-IDF model, takes into the account the importance of each word. In the bag-of-words model, each word is assumed to be equally important, which is of course not correct.\n",
    "\n",
    "The formula to calculate TF-IDF weight of a term in a document is:\n",
    "\n",
    "\n",
    "$$\n",
    "\\text{TF-IDF}(t, d, D) = \\text{TF}(t, d) \\times \\text{IDF}(t, D)\n",
    "$$\n",
    "\n",
    "<span style=\"font-size: 18px;\">Where:</span>\n",
    "<ul>\n",
    "    <li><strong>TF(t, d):</strong> Term Frequency of term <em>t</em> in document <em>d</em>.</li>\n",
    "    <li><strong>IDF(t, D):</strong> Inverse Document Frequency of term <em>t</em> in the corpus <em>D</em>.</li>\n",
    "</ul>\n",
    "\n",
    "<span style=\"font-size: 18px;\">Detailed Formulas:</span>\n",
    "<ul>\n",
    "    <li><strong>TF:</strong> \n",
    "    $$\n",
    "    \\text{TF}(t, d) = \\frac{\\text{Number of occurrences of term } t \\text{ in document } d}{\\text{Total number of terms in document } d}\n",
    "    $$</li>\n",
    "    <li><strong>IDF:</strong> \n",
    "    $$\n",
    "    \\text{IDF}(t, D) = \\log \\frac{N}{1 + n_t}\n",
    "    $$\n",
    "    Where:\n",
    "    <ul>\n",
    "        <li><strong>N:</strong> Total number of documents in the corpus <em>D</em>.</li>\n",
    "        <li><strong>n_t:</strong> Number of documents containing the term <em>t</em>.</li>\n",
    "    </ul>\n",
    "    </li>\n",
    "</ul>\n",
    "\n",
    "\n",
    "Higher weights are assigned to terms that are present frequently in a document and which are rare among all documents. On the other hand, a low score is assigned to terms which are common across all documents."
   ]
  },
  {
   "cell_type": "code",
   "execution_count": 11,
   "id": "a718172e-b833-4e10-8a8d-618322087ae3",
   "metadata": {},
   "outputs": [],
   "source": [
    "# import required libraries\n",
    "import pandas as pd\n",
    "from nltk.corpus import stopwords\n",
    "from nltk.tokenize import word_tokenize\n",
    "from nltk.stem import PorterStemmer\n",
    "from sklearn.feature_extraction.text import TfidfVectorizer"
   ]
  },
  {
   "cell_type": "code",
   "execution_count": 12,
   "id": "e1fe9c77-e068-4a7d-bb98-49df27e89931",
   "metadata": {},
   "outputs": [],
   "source": [
    "# let us define a pre-processing function\n",
    "\n",
    "stemmer = PorterStemmer()\n",
    "\n",
    "def preprocess(document):\n",
    "\n",
    "    # convert to lower case\n",
    "    document = document.lower()\n",
    "\n",
    "    # tokenize the text in the document into words\n",
    "    words = word_tokenize(document)\n",
    "\n",
    "    # remove the stop words\n",
    "    words = [word for word in words if words not in stopwords.words('english')]\n",
    "\n",
    "    # stem\n",
    "    words = [stemmer.stem(word) for word in words]\n",
    "\n",
    "    # join stemmed words to make sentence\n",
    "    document = ' '.join(words)\n",
    "\n",
    "    return document"
   ]
  },
  {
   "cell_type": "code",
   "execution_count": 13,
   "id": "1a631da4-d18e-4c47-b3c0-bd8bec7c62a6",
   "metadata": {},
   "outputs": [
    {
     "name": "stdout",
     "output_type": "stream",
     "text": [
      "['Gangs of Wasseypur is a great movie. Wasseypur is a town in Bihar.', 'The success of a song depends on the music.', 'There is a new movie releasing this week. The movie is fun to watch.']\n"
     ]
    }
   ],
   "source": [
    "# Let us create a TF-IDF for sample corpus of text \n",
    "\n",
    "documents = [\"Gangs of Wasseypur is a great movie. Wasseypur is a town in Bihar.\", \"The success of a song depends on the music.\", \"There is a new movie releasing this week. The movie is fun to watch.\"]\n",
    "print(documents)"
   ]
  },
  {
   "cell_type": "code",
   "execution_count": 14,
   "id": "ecffa37e-9e29-4bc0-b2c9-24570327ac7d",
   "metadata": {},
   "outputs": [
    {
     "data": {
      "text/plain": [
       "list"
      ]
     },
     "execution_count": 14,
     "metadata": {},
     "output_type": "execute_result"
    }
   ],
   "source": [
    "type(documents)"
   ]
  },
  {
   "cell_type": "code",
   "execution_count": 15,
   "id": "28f87772-401a-43fc-a1aa-7d621829c61f",
   "metadata": {},
   "outputs": [
    {
     "name": "stdout",
     "output_type": "stream",
     "text": [
      "['gang of wasseypur is a great movi . wasseypur is a town in bihar .', 'the success of a song depend on the music .', 'there is a new movi releas thi week . the movi is fun to watch .']\n"
     ]
    }
   ],
   "source": [
    "# pre-process all the documents\n",
    "documents = [preprocess(document) for document in documents]\n",
    "print(documents)"
   ]
  },
  {
   "cell_type": "markdown",
   "id": "7933dffb-18c5-41ec-bfe5-453a282c623a",
   "metadata": {},
   "source": [
    "#### TF-IDF Model"
   ]
  },
  {
   "cell_type": "code",
   "execution_count": 17,
   "id": "63c67ef7-ed34-4c4f-aefe-0e4deb77bba1",
   "metadata": {},
   "outputs": [
    {
     "name": "stdout",
     "output_type": "stream",
     "text": [
      "<Compressed Sparse Row sparse matrix of dtype 'float64'\n",
      "\twith 27 stored elements and shape (3, 23)>\n",
      "  Coords\tValues\n",
      "  (0, 3)\t0.2831782312982749\n",
      "  (0, 10)\t0.21536434394959103\n",
      "  (0, 20)\t0.5663564625965498\n",
      "  (0, 6)\t0.43072868789918206\n",
      "  (0, 4)\t0.2831782312982749\n",
      "  (0, 7)\t0.21536434394959103\n",
      "  (0, 19)\t0.2831782312982749\n",
      "  (0, 5)\t0.2831782312982749\n",
      "  (0, 0)\t0.2831782312982749\n",
      "  (1, 10)\t0.2707200828407501\n",
      "  (1, 15)\t0.5414401656815002\n",
      "  (1, 14)\t0.355964375670793\n",
      "  (1, 13)\t0.355964375670793\n",
      "  (1, 1)\t0.355964375670793\n",
      "  (1, 11)\t0.355964375670793\n",
      "  (1, 8)\t0.355964375670793\n",
      "  (2, 6)\t0.41856696082601574\n",
      "  (2, 7)\t0.41856696082601574\n",
      "  (2, 15)\t0.20928348041300787\n",
      "  (2, 16)\t0.27518262650373737\n",
      "  (2, 9)\t0.27518262650373737\n",
      "  (2, 12)\t0.27518262650373737\n",
      "  (2, 17)\t0.27518262650373737\n",
      "  (2, 22)\t0.27518262650373737\n",
      "  (2, 2)\t0.27518262650373737\n",
      "  (2, 18)\t0.27518262650373737\n",
      "  (2, 21)\t0.27518262650373737\n"
     ]
    }
   ],
   "source": [
    "vectorizer = TfidfVectorizer()\n",
    "tfidf_model = vectorizer.fit_transform(documents)\n",
    "print(tfidf_model)"
   ]
  },
  {
   "cell_type": "code",
   "execution_count": 19,
   "id": "a38e56ab-6979-4a78-9b97-f4e7f403eeb2",
   "metadata": {},
   "outputs": [
    {
     "name": "stdout",
     "output_type": "stream",
     "text": [
      "[[0.28317823 0.         0.         0.28317823 0.28317823 0.28317823\n",
      "  0.43072869 0.21536434 0.         0.         0.21536434 0.\n",
      "  0.         0.         0.         0.         0.         0.\n",
      "  0.         0.28317823 0.56635646 0.         0.        ]\n",
      " [0.         0.35596438 0.         0.         0.         0.\n",
      "  0.         0.         0.35596438 0.         0.27072008 0.35596438\n",
      "  0.         0.35596438 0.35596438 0.54144017 0.         0.\n",
      "  0.         0.         0.         0.         0.        ]\n",
      " [0.         0.         0.27518263 0.         0.         0.\n",
      "  0.41856696 0.41856696 0.         0.27518263 0.         0.\n",
      "  0.27518263 0.         0.         0.20928348 0.27518263 0.27518263\n",
      "  0.27518263 0.         0.         0.27518263 0.27518263]]\n"
     ]
    }
   ],
   "source": [
    "# print the full sparse matrix\n",
    "print(tfidf_model.toarray())"
   ]
  },
  {
   "cell_type": "markdown",
   "id": "76aac51b-f8dc-4b5a-a121-27912b5b0b83",
   "metadata": {},
   "source": [
    "### Let us now create TF-IDF model on the spam dataset"
   ]
  },
  {
   "cell_type": "code",
   "execution_count": 26,
   "id": "fedd5cf4-5e3b-439a-9b34-0cac34b413f1",
   "metadata": {},
   "outputs": [],
   "source": [
    "# Load Data\n",
    "\n",
    "spam_df = pd.read_csv('SMSSpamCollection.txt',delimiter='\\t', header=None)"
   ]
  },
  {
   "cell_type": "code",
   "execution_count": 27,
   "id": "8012118b-b6f2-4dd4-b697-577f6950196f",
   "metadata": {},
   "outputs": [
    {
     "data": {
      "text/html": [
       "<div>\n",
       "<style scoped>\n",
       "    .dataframe tbody tr th:only-of-type {\n",
       "        vertical-align: middle;\n",
       "    }\n",
       "\n",
       "    .dataframe tbody tr th {\n",
       "        vertical-align: top;\n",
       "    }\n",
       "\n",
       "    .dataframe thead th {\n",
       "        text-align: right;\n",
       "    }\n",
       "</style>\n",
       "<table border=\"1\" class=\"dataframe\">\n",
       "  <thead>\n",
       "    <tr style=\"text-align: right;\">\n",
       "      <th></th>\n",
       "      <th>0</th>\n",
       "      <th>1</th>\n",
       "    </tr>\n",
       "  </thead>\n",
       "  <tbody>\n",
       "    <tr>\n",
       "      <th>0</th>\n",
       "      <td>ham</td>\n",
       "      <td>Go until jurong point, crazy.. Available only ...</td>\n",
       "    </tr>\n",
       "    <tr>\n",
       "      <th>1</th>\n",
       "      <td>ham</td>\n",
       "      <td>Ok lar... Joking wif u oni...</td>\n",
       "    </tr>\n",
       "    <tr>\n",
       "      <th>2</th>\n",
       "      <td>spam</td>\n",
       "      <td>Free entry in 2 a wkly comp to win FA Cup fina...</td>\n",
       "    </tr>\n",
       "    <tr>\n",
       "      <th>3</th>\n",
       "      <td>ham</td>\n",
       "      <td>U dun say so early hor... U c already then say...</td>\n",
       "    </tr>\n",
       "    <tr>\n",
       "      <th>4</th>\n",
       "      <td>ham</td>\n",
       "      <td>Nah I don't think he goes to usf, he lives aro...</td>\n",
       "    </tr>\n",
       "  </tbody>\n",
       "</table>\n",
       "</div>"
      ],
      "text/plain": [
       "      0                                                  1\n",
       "0   ham  Go until jurong point, crazy.. Available only ...\n",
       "1   ham                      Ok lar... Joking wif u oni...\n",
       "2  spam  Free entry in 2 a wkly comp to win FA Cup fina...\n",
       "3   ham  U dun say so early hor... U c already then say...\n",
       "4   ham  Nah I don't think he goes to usf, he lives aro..."
      ]
     },
     "execution_count": 27,
     "metadata": {},
     "output_type": "execute_result"
    }
   ],
   "source": [
    "spam_df.head()"
   ]
  },
  {
   "cell_type": "code",
   "execution_count": 28,
   "id": "62a3a2e0-2336-4c23-aa73-6abbd2e53d57",
   "metadata": {},
   "outputs": [],
   "source": [
    "spam_df.columns = ['label','message']"
   ]
  },
  {
   "cell_type": "code",
   "execution_count": 30,
   "id": "b1d7517f-23b1-46a2-838f-7fec68a515bf",
   "metadata": {},
   "outputs": [
    {
     "data": {
      "text/html": [
       "<div>\n",
       "<style scoped>\n",
       "    .dataframe tbody tr th:only-of-type {\n",
       "        vertical-align: middle;\n",
       "    }\n",
       "\n",
       "    .dataframe tbody tr th {\n",
       "        vertical-align: top;\n",
       "    }\n",
       "\n",
       "    .dataframe thead th {\n",
       "        text-align: right;\n",
       "    }\n",
       "</style>\n",
       "<table border=\"1\" class=\"dataframe\">\n",
       "  <thead>\n",
       "    <tr style=\"text-align: right;\">\n",
       "      <th></th>\n",
       "      <th>label</th>\n",
       "      <th>message</th>\n",
       "    </tr>\n",
       "  </thead>\n",
       "  <tbody>\n",
       "    <tr>\n",
       "      <th>0</th>\n",
       "      <td>ham</td>\n",
       "      <td>Go until jurong point, crazy.. Available only ...</td>\n",
       "    </tr>\n",
       "    <tr>\n",
       "      <th>1</th>\n",
       "      <td>ham</td>\n",
       "      <td>Ok lar... Joking wif u oni...</td>\n",
       "    </tr>\n",
       "    <tr>\n",
       "      <th>2</th>\n",
       "      <td>spam</td>\n",
       "      <td>Free entry in 2 a wkly comp to win FA Cup fina...</td>\n",
       "    </tr>\n",
       "    <tr>\n",
       "      <th>3</th>\n",
       "      <td>ham</td>\n",
       "      <td>U dun say so early hor... U c already then say...</td>\n",
       "    </tr>\n",
       "    <tr>\n",
       "      <th>4</th>\n",
       "      <td>ham</td>\n",
       "      <td>Nah I don't think he goes to usf, he lives aro...</td>\n",
       "    </tr>\n",
       "  </tbody>\n",
       "</table>\n",
       "</div>"
      ],
      "text/plain": [
       "  label                                            message\n",
       "0   ham  Go until jurong point, crazy.. Available only ...\n",
       "1   ham                      Ok lar... Joking wif u oni...\n",
       "2  spam  Free entry in 2 a wkly comp to win FA Cup fina...\n",
       "3   ham  U dun say so early hor... U c already then say...\n",
       "4   ham  Nah I don't think he goes to usf, he lives aro..."
      ]
     },
     "execution_count": 30,
     "metadata": {},
     "output_type": "execute_result"
    }
   ],
   "source": [
    "spam_df.head()"
   ]
  },
  {
   "cell_type": "code",
   "execution_count": 31,
   "id": "c01453ed-09e5-444f-8954-e4596a64db7c",
   "metadata": {},
   "outputs": [
    {
     "data": {
      "text/plain": [
       "(5572, 2)"
      ]
     },
     "execution_count": 31,
     "metadata": {},
     "output_type": "execute_result"
    }
   ],
   "source": [
    "spam_df.shape"
   ]
  },
  {
   "cell_type": "code",
   "execution_count": 32,
   "id": "0b33973f-3053-4bf9-a81d-c2848298b671",
   "metadata": {},
   "outputs": [
    {
     "data": {
      "text/html": [
       "<div>\n",
       "<style scoped>\n",
       "    .dataframe tbody tr th:only-of-type {\n",
       "        vertical-align: middle;\n",
       "    }\n",
       "\n",
       "    .dataframe tbody tr th {\n",
       "        vertical-align: top;\n",
       "    }\n",
       "\n",
       "    .dataframe thead th {\n",
       "        text-align: right;\n",
       "    }\n",
       "</style>\n",
       "<table border=\"1\" class=\"dataframe\">\n",
       "  <thead>\n",
       "    <tr style=\"text-align: right;\">\n",
       "      <th></th>\n",
       "      <th>label</th>\n",
       "      <th>message</th>\n",
       "    </tr>\n",
       "  </thead>\n",
       "  <tbody>\n",
       "    <tr>\n",
       "      <th>0</th>\n",
       "      <td>ham</td>\n",
       "      <td>Go until jurong point, crazy.. Available only ...</td>\n",
       "    </tr>\n",
       "    <tr>\n",
       "      <th>1</th>\n",
       "      <td>ham</td>\n",
       "      <td>Ok lar... Joking wif u oni...</td>\n",
       "    </tr>\n",
       "    <tr>\n",
       "      <th>2</th>\n",
       "      <td>spam</td>\n",
       "      <td>Free entry in 2 a wkly comp to win FA Cup fina...</td>\n",
       "    </tr>\n",
       "    <tr>\n",
       "      <th>3</th>\n",
       "      <td>ham</td>\n",
       "      <td>U dun say so early hor... U c already then say...</td>\n",
       "    </tr>\n",
       "    <tr>\n",
       "      <th>4</th>\n",
       "      <td>ham</td>\n",
       "      <td>Nah I don't think he goes to usf, he lives aro...</td>\n",
       "    </tr>\n",
       "  </tbody>\n",
       "</table>\n",
       "</div>"
      ],
      "text/plain": [
       "  label                                            message\n",
       "0   ham  Go until jurong point, crazy.. Available only ...\n",
       "1   ham                      Ok lar... Joking wif u oni...\n",
       "2  spam  Free entry in 2 a wkly comp to win FA Cup fina...\n",
       "3   ham  U dun say so early hor... U c already then say...\n",
       "4   ham  Nah I don't think he goes to usf, he lives aro..."
      ]
     },
     "execution_count": 32,
     "metadata": {},
     "output_type": "execute_result"
    }
   ],
   "source": [
    "# Let us fetch the top 50 rows and create the tf-idf model for it\n",
    "\n",
    "spam_df = spam_df.iloc[0:50,:]\n",
    "spam_df.head()"
   ]
  },
  {
   "cell_type": "code",
   "execution_count": 34,
   "id": "55e12a98-91d1-40f6-a6c0-df2e5e08c08d",
   "metadata": {
    "scrolled": true
   },
   "outputs": [
    {
     "name": "stdout",
     "output_type": "stream",
     "text": [
      "['Go until jurong point, crazy.. Available only in bugis n great world la e buffet... Cine there got amore wat...', 'Ok lar... Joking wif u oni...', \"Free entry in 2 a wkly comp to win FA Cup final tkts 21st May 2005. Text FA to 87121 to receive entry question(std txt rate)T&C's apply 08452810075over18's\", 'U dun say so early hor... U c already then say...', \"Nah I don't think he goes to usf, he lives around here though\", \"FreeMsg Hey there darling it's been 3 week's now and no word back! I'd like some fun you up for it still? Tb ok! XxX std chgs to send, £1.50 to rcv\", 'Even my brother is not like to speak with me. They treat me like aids patent.', \"As per your request 'Melle Melle (Oru Minnaminunginte Nurungu Vettam)' has been set as your callertune for all Callers. Press *9 to copy your friends Callertune\", 'WINNER!! As a valued network customer you have been selected to receivea £900 prize reward! To claim call 09061701461. Claim code KL341. Valid 12 hours only.', 'Had your mobile 11 months or more? U R entitled to Update to the latest colour mobiles with camera for Free! Call The Mobile Update Co FREE on 08002986030', \"I'm gonna be home soon and i don't want to talk about this stuff anymore tonight, k? I've cried enough today.\", 'SIX chances to win CASH! From 100 to 20,000 pounds txt> CSH11 and send to 87575. Cost 150p/day, 6days, 16+ TsandCs apply Reply HL 4 info', 'URGENT! You have won a 1 week FREE membership in our £100,000 Prize Jackpot! Txt the word: CLAIM to No: 81010 T&C www.dbuk.net LCCLTD POBOX 4403LDNW1A7RW18', \"I've been searching for the right words to thank you for this breather. I promise i wont take your help for granted and will fulfil my promise. You have been wonderful and a blessing at all times.\", 'I HAVE A DATE ON SUNDAY WITH WILL!!', 'XXXMobileMovieClub: To use your credit, click the WAP link in the next txt message or click here>> http://wap. xxxmobilemovieclub.com?n=QJKGIGHJJGCBL', \"Oh k...i'm watching here:)\", 'Eh u remember how 2 spell his name... Yes i did. He v naughty make until i v wet.', 'Fine if that\\x92s the way u feel. That\\x92s the way its gota b', 'England v Macedonia - dont miss the goals/team news. Txt ur national team to 87077 eg ENGLAND to 87077 Try:WALES, SCOTLAND 4txt/ú1.20 POBOXox36504W45WQ 16+', 'Is that seriously how you spell his name?', 'I‘m going to try for 2 months ha ha only joking', 'So ü pay first lar... Then when is da stock comin...', 'Aft i finish my lunch then i go str down lor. Ard 3 smth lor. U finish ur lunch already?', 'Ffffffffff. Alright no way I can meet up with you sooner?', \"Just forced myself to eat a slice. I'm really not hungry tho. This sucks. Mark is getting worried. He knows I'm sick when I turn down pizza. Lol\", 'Lol your always so convincing.', \"Did you catch the bus ? Are you frying an egg ? Did you make a tea? Are you eating your mom's left over dinner ? Do you feel my Love ?\", \"I'm back &amp; we're packing the car now, I'll let you know if there's room\", 'Ahhh. Work. I vaguely remember that! What does it feel like? Lol', \"Wait that's still not all that clear, were you not sure about me being sarcastic or that that's why x doesn't want to live with us\", \"Yeah he got in at 2 and was v apologetic. n had fallen out and she was actin like spoilt child and he got caught up in that. Till 2! But we won't go there! Not doing too badly cheers. You? \", 'K tell me anything about you.', 'For fear of fainting with the of all that housework you just did? Quick have a cuppa', 'Thanks for your subscription to Ringtone UK your mobile will be charged £5/month Please confirm by replying YES or NO. If you reply NO you will not be charged', 'Yup... Ok i go home look at the timings then i msg ü again... Xuhui going to learn on 2nd may too but her lesson is at 8am', \"Oops, I'll let you know when my roommate's done\", 'I see the letter B on my car', 'Anything lor... U decide...', \"Hello! How's you and how did saturday go? I was just texting to see if you'd decided to do anything tomo. Not that i'm trying to invite myself or anything!\", 'Pls go ahead with watts. I just wanted to be sure. Do have a great weekend. Abiola', 'Did I forget to tell you ? I want you , I need you, I crave you ... But most of all ... I love you my sweet Arabian steed ... Mmmmmm ... Yummy', '07732584351 - Rodger Burns - MSG = We tried to call you re your reply to our sms for a free nokia mobile + free camcorder. Please call now 08000930705 for delivery tomorrow', 'WHO ARE YOU SEEING?', 'Great! I hope you like your man well endowed. I am  &lt;#&gt;  inches...', 'No calls..messages..missed calls', \"Didn't you get hep b immunisation in nigeria.\", 'Fair enough, anything going on?', \"Yeah hopefully, if tyler can't do it I could maybe ask around a bit\", \"U don't know how stubborn I am. I didn't even want to go to the hospital. I kept telling Mark I'm not a weak sucker. Hospitals are for weak suckers.\"]\n"
     ]
    }
   ],
   "source": [
    "# extract the message from spam_df\n",
    "messages = [message for message in spam_df.message]\n",
    "print(messages)"
   ]
  },
  {
   "cell_type": "code",
   "execution_count": 35,
   "id": "43fff7af-8587-41ae-aea0-10c3a8fe607d",
   "metadata": {},
   "outputs": [
    {
     "data": {
      "text/plain": [
       "list"
      ]
     },
     "execution_count": 35,
     "metadata": {},
     "output_type": "execute_result"
    }
   ],
   "source": [
    "type(messages)"
   ]
  },
  {
   "cell_type": "code",
   "execution_count": 36,
   "id": "9bf12e8d-762c-41ff-81a8-99feb745f2f1",
   "metadata": {},
   "outputs": [],
   "source": [
    "# preprocess the message using the udf\n",
    "messages = [preprocess(message) for message in messages]"
   ]
  },
  {
   "cell_type": "code",
   "execution_count": 37,
   "id": "4d860e4f-992a-4e04-9c3b-a320735bb4c8",
   "metadata": {
    "scrolled": true
   },
   "outputs": [
    {
     "name": "stdout",
     "output_type": "stream",
     "text": [
      "['go until jurong point , crazi .. avail onli in bugi n great world la e buffet ... cine there got amor wat ...', 'ok lar ... joke wif u oni ...', \"free entri in 2 a wkli comp to win fa cup final tkt 21st may 2005. text fa to 87121 to receiv entri question ( std txt rate ) t & c 's appli 08452810075over18 's\", 'u dun say so earli hor ... u c alreadi then say ...', \"nah i do n't think he goe to usf , he live around here though\", \"freemsg hey there darl it 's been 3 week 's now and no word back ! i 'd like some fun you up for it still ? tb ok ! xxx std chg to send , £1.50 to rcv\", 'even my brother is not like to speak with me . they treat me like aid patent .', \"as per your request 'mell mell ( oru minnaminungint nurungu vettam ) ' ha been set as your callertun for all caller . press * 9 to copi your friend callertun\", 'winner ! ! as a valu network custom you have been select to receivea £900 prize reward ! to claim call 09061701461. claim code kl341 . valid 12 hour onli .', 'had your mobil 11 month or more ? u r entitl to updat to the latest colour mobil with camera for free ! call the mobil updat co free on 08002986030', \"i 'm gon na be home soon and i do n't want to talk about thi stuff anymor tonight , k ? i 've cri enough today .\", 'six chanc to win cash ! from 100 to 20,000 pound txt > csh11 and send to 87575. cost 150p/day , 6day , 16+ tsandc appli repli hl 4 info', 'urgent ! you have won a 1 week free membership in our £100,000 prize jackpot ! txt the word : claim to no : 81010 t & c www.dbuk.net lccltd pobox 4403ldnw1a7rw18', \"i 've been search for the right word to thank you for thi breather . i promis i wont take your help for grant and will fulfil my promis . you have been wonder and a bless at all time .\", 'i have a date on sunday with will ! !', 'xxxmobilemovieclub : to use your credit , click the wap link in the next txt messag or click here > > http : //wap . xxxmobilemovieclub.com ? n=qjkgighjjgcbl', \"oh k ... i 'm watch here : )\", 'eh u rememb how 2 spell hi name ... ye i did . he v naughti make until i v wet .', 'fine if that\\x92 the way u feel . that\\x92 the way it gota b', 'england v macedonia - dont miss the goals/team news . txt ur nation team to 87077 eg england to 87077 tri : wale , scotland 4txt/ú1.20 poboxox36504w45wq 16+', 'is that serious how you spell hi name ?', 'i ‘ m go to tri for 2 month ha ha onli joke', 'so ü pay first lar ... then when is da stock comin ...', 'aft i finish my lunch then i go str down lor . ard 3 smth lor . u finish ur lunch alreadi ?', 'ffffffffff . alright no way i can meet up with you sooner ?', \"just forc myself to eat a slice . i 'm realli not hungri tho . thi suck . mark is get worri . he know i 'm sick when i turn down pizza . lol\", 'lol your alway so convinc .', \"did you catch the bu ? are you fri an egg ? did you make a tea ? are you eat your mom 's left over dinner ? do you feel my love ?\", \"i 'm back & amp ; we 're pack the car now , i 'll let you know if there 's room\", 'ahhh . work . i vagu rememb that ! what doe it feel like ? lol', \"wait that 's still not all that clear , were you not sure about me be sarcast or that that 's whi x doe n't want to live with us\", \"yeah he got in at 2 and wa v apologet . n had fallen out and she wa actin like spoilt child and he got caught up in that . till 2 ! but we wo n't go there ! not do too badli cheer . you ?\", 'k tell me anyth about you .', 'for fear of faint with the of all that housework you just did ? quick have a cuppa', 'thank for your subscript to rington uk your mobil will be charg £5/month pleas confirm by repli ye or no . if you repli no you will not be charg', 'yup ... ok i go home look at the time then i msg ü again ... xuhui go to learn on 2nd may too but her lesson is at 8am', \"oop , i 'll let you know when my roommat 's done\", 'i see the letter b on my car', 'anyth lor ... u decid ...', \"hello ! how 's you and how did saturday go ? i wa just text to see if you 'd decid to do anyth tomo . not that i 'm tri to invit myself or anyth !\", 'pl go ahead with watt . i just want to be sure . do have a great weekend . abiola', 'did i forget to tell you ? i want you , i need you , i crave you ... but most of all ... i love you my sweet arabian steed ... mmmmmm ... yummi', '07732584351 - rodger burn - msg = we tri to call you re your repli to our sm for a free nokia mobil + free camcord . pleas call now 08000930705 for deliveri tomorrow', 'who are you see ?', 'great ! i hope you like your man well endow . i am & lt ; # & gt ; inch ...', 'no call .. messag .. miss call', \"did n't you get hep b immunis in nigeria .\", 'fair enough , anyth go on ?', \"yeah hope , if tyler ca n't do it i could mayb ask around a bit\", \"u do n't know how stubborn i am . i did n't even want to go to the hospit . i kept tell mark i 'm not a weak sucker . hospit are for weak sucker .\"]\n"
     ]
    }
   ],
   "source": [
    "print(messages)"
   ]
  },
  {
   "cell_type": "code",
   "execution_count": 39,
   "id": "223bb863-b5a2-407b-8a6d-0c4425f9faa7",
   "metadata": {
    "scrolled": true
   },
   "outputs": [
    {
     "name": "stdout",
     "output_type": "stream",
     "text": [
      "<Compressed Sparse Row sparse matrix of dtype 'float64'\n",
      "\twith 743 stored elements and shape (50, 428)>\n",
      "  Coords\tValues\n",
      "  (0, 155)\t0.15740122619251695\n",
      "  (0, 370)\t0.22947785548516664\n",
      "  (0, 195)\t0.2537512927116646\n",
      "  (0, 278)\t0.2537512927116646\n",
      "  (0, 100)\t0.2537512927116646\n",
      "  (0, 53)\t0.2537512927116646\n",
      "  (0, 262)\t0.21225557769305559\n",
      "  (0, 187)\t0.17875380792848203\n",
      "  (0, 64)\t0.2537512927116646\n",
      "  (0, 162)\t0.21225557769305559\n",
      "  (0, 415)\t0.2537512927116646\n",
      "  (0, 200)\t0.2537512927116646\n",
      "  (0, 63)\t0.2537512927116646\n",
      "  (0, 84)\t0.2537512927116646\n",
      "  (0, 348)\t0.1988969412111259\n",
      "  (0, 159)\t0.22947785548516664\n",
      "  (0, 38)\t0.2537512927116646\n",
      "  (0, 388)\t0.2537512927116646\n",
      "  (1, 259)\t0.4017341108428282\n",
      "  (1, 201)\t0.4343305520327375\n",
      "  (1, 194)\t0.4343305520327375\n",
      "  (1, 403)\t0.4802726555443259\n",
      "  (1, 261)\t0.4802726555443259\n",
      "  (2, 187)\t0.13484988527351144\n",
      "  (2, 147)\t0.15004564106574803\n",
      "  :\t:\n",
      "  (48, 68)\t0.31570866072271353\n",
      "  (48, 98)\t0.31570866072271353\n",
      "  (48, 224)\t0.31570866072271353\n",
      "  (48, 51)\t0.31570866072271353\n",
      "  (48, 58)\t0.31570866072271353\n",
      "  (49, 155)\t0.13013981555580179\n",
      "  (49, 357)\t0.173613281431939\n",
      "  (49, 116)\t0.13535485688327964\n",
      "  (49, 144)\t0.13013981555580179\n",
      "  (49, 132)\t0.18973299325161358\n",
      "  (49, 254)\t0.1411847770843034\n",
      "  (49, 346)\t0.11715354196451767\n",
      "  (49, 386)\t0.15542420907306556\n",
      "  (49, 182)\t0.16444859973434978\n",
      "  (49, 114)\t0.1411847770843034\n",
      "  (49, 222)\t0.18973299325161358\n",
      "  (49, 199)\t0.16444859973434978\n",
      "  (49, 48)\t0.17549356126285143\n",
      "  (49, 342)\t0.17549356126285143\n",
      "  (49, 37)\t0.18973299325161358\n",
      "  (49, 329)\t0.20980234544139947\n",
      "  (49, 179)\t0.41960469088279895\n",
      "  (49, 197)\t0.20980234544139947\n",
      "  (49, 393)\t0.41960469088279895\n",
      "  (49, 333)\t0.41960469088279895\n"
     ]
    }
   ],
   "source": [
    "vectorizer =  TfidfVectorizer()\n",
    "spam_tfidf_model = vectorizer.fit_transform(messages)\n",
    "print(spam_tfidf_model)"
   ]
  },
  {
   "cell_type": "code",
   "execution_count": 40,
   "id": "3314d979-fc10-4fe7-bee1-0a0b58e70cab",
   "metadata": {},
   "outputs": [
    {
     "name": "stdout",
     "output_type": "stream",
     "text": [
      "[[0. 0. 0. ... 0. 0. 0.]\n",
      " [0. 0. 0. ... 0. 0. 0.]\n",
      " [0. 0. 0. ... 0. 0. 0.]\n",
      " ...\n",
      " [0. 0. 0. ... 0. 0. 0.]\n",
      " [0. 0. 0. ... 0. 0. 0.]\n",
      " [0. 0. 0. ... 0. 0. 0.]]\n"
     ]
    }
   ],
   "source": [
    "print(spam_tfidf_model.toarray())"
   ]
  },
  {
   "cell_type": "code",
   "execution_count": 45,
   "id": "3c8075b7-bf08-4ac6-bcaf-0d603d7a55d0",
   "metadata": {},
   "outputs": [
    {
     "data": {
      "text/html": [
       "<div>\n",
       "<style scoped>\n",
       "    .dataframe tbody tr th:only-of-type {\n",
       "        vertical-align: middle;\n",
       "    }\n",
       "\n",
       "    .dataframe tbody tr th {\n",
       "        vertical-align: top;\n",
       "    }\n",
       "\n",
       "    .dataframe thead th {\n",
       "        text-align: right;\n",
       "    }\n",
       "</style>\n",
       "<table border=\"1\" class=\"dataframe\">\n",
       "  <thead>\n",
       "    <tr style=\"text-align: right;\">\n",
       "      <th></th>\n",
       "      <th>000</th>\n",
       "      <th>07732584351</th>\n",
       "      <th>08000930705</th>\n",
       "      <th>08002986030</th>\n",
       "      <th>08452810075over18</th>\n",
       "      <th>09061701461</th>\n",
       "      <th>100</th>\n",
       "      <th>11</th>\n",
       "      <th>12</th>\n",
       "      <th>150p</th>\n",
       "      <th>...</th>\n",
       "      <th>xuhui</th>\n",
       "      <th>xxx</th>\n",
       "      <th>xxxmobilemovieclub</th>\n",
       "      <th>ye</th>\n",
       "      <th>yeah</th>\n",
       "      <th>you</th>\n",
       "      <th>your</th>\n",
       "      <th>yummi</th>\n",
       "      <th>yup</th>\n",
       "      <th>ú1</th>\n",
       "    </tr>\n",
       "  </thead>\n",
       "  <tbody>\n",
       "    <tr>\n",
       "      <th>0</th>\n",
       "      <td>0.0</td>\n",
       "      <td>0.0</td>\n",
       "      <td>0.0</td>\n",
       "      <td>0.0</td>\n",
       "      <td>0.000000</td>\n",
       "      <td>0.0</td>\n",
       "      <td>0.0</td>\n",
       "      <td>0.0</td>\n",
       "      <td>0.0</td>\n",
       "      <td>0.0</td>\n",
       "      <td>...</td>\n",
       "      <td>0.0</td>\n",
       "      <td>0.0</td>\n",
       "      <td>0.0</td>\n",
       "      <td>0.0</td>\n",
       "      <td>0.0</td>\n",
       "      <td>0.0</td>\n",
       "      <td>0.0</td>\n",
       "      <td>0.0</td>\n",
       "      <td>0.0</td>\n",
       "      <td>0.0</td>\n",
       "    </tr>\n",
       "    <tr>\n",
       "      <th>1</th>\n",
       "      <td>0.0</td>\n",
       "      <td>0.0</td>\n",
       "      <td>0.0</td>\n",
       "      <td>0.0</td>\n",
       "      <td>0.000000</td>\n",
       "      <td>0.0</td>\n",
       "      <td>0.0</td>\n",
       "      <td>0.0</td>\n",
       "      <td>0.0</td>\n",
       "      <td>0.0</td>\n",
       "      <td>...</td>\n",
       "      <td>0.0</td>\n",
       "      <td>0.0</td>\n",
       "      <td>0.0</td>\n",
       "      <td>0.0</td>\n",
       "      <td>0.0</td>\n",
       "      <td>0.0</td>\n",
       "      <td>0.0</td>\n",
       "      <td>0.0</td>\n",
       "      <td>0.0</td>\n",
       "      <td>0.0</td>\n",
       "    </tr>\n",
       "    <tr>\n",
       "      <th>2</th>\n",
       "      <td>0.0</td>\n",
       "      <td>0.0</td>\n",
       "      <td>0.0</td>\n",
       "      <td>0.0</td>\n",
       "      <td>0.191427</td>\n",
       "      <td>0.0</td>\n",
       "      <td>0.0</td>\n",
       "      <td>0.0</td>\n",
       "      <td>0.0</td>\n",
       "      <td>0.0</td>\n",
       "      <td>...</td>\n",
       "      <td>0.0</td>\n",
       "      <td>0.0</td>\n",
       "      <td>0.0</td>\n",
       "      <td>0.0</td>\n",
       "      <td>0.0</td>\n",
       "      <td>0.0</td>\n",
       "      <td>0.0</td>\n",
       "      <td>0.0</td>\n",
       "      <td>0.0</td>\n",
       "      <td>0.0</td>\n",
       "    </tr>\n",
       "    <tr>\n",
       "      <th>3</th>\n",
       "      <td>0.0</td>\n",
       "      <td>0.0</td>\n",
       "      <td>0.0</td>\n",
       "      <td>0.0</td>\n",
       "      <td>0.000000</td>\n",
       "      <td>0.0</td>\n",
       "      <td>0.0</td>\n",
       "      <td>0.0</td>\n",
       "      <td>0.0</td>\n",
       "      <td>0.0</td>\n",
       "      <td>...</td>\n",
       "      <td>0.0</td>\n",
       "      <td>0.0</td>\n",
       "      <td>0.0</td>\n",
       "      <td>0.0</td>\n",
       "      <td>0.0</td>\n",
       "      <td>0.0</td>\n",
       "      <td>0.0</td>\n",
       "      <td>0.0</td>\n",
       "      <td>0.0</td>\n",
       "      <td>0.0</td>\n",
       "    </tr>\n",
       "    <tr>\n",
       "      <th>4</th>\n",
       "      <td>0.0</td>\n",
       "      <td>0.0</td>\n",
       "      <td>0.0</td>\n",
       "      <td>0.0</td>\n",
       "      <td>0.000000</td>\n",
       "      <td>0.0</td>\n",
       "      <td>0.0</td>\n",
       "      <td>0.0</td>\n",
       "      <td>0.0</td>\n",
       "      <td>0.0</td>\n",
       "      <td>...</td>\n",
       "      <td>0.0</td>\n",
       "      <td>0.0</td>\n",
       "      <td>0.0</td>\n",
       "      <td>0.0</td>\n",
       "      <td>0.0</td>\n",
       "      <td>0.0</td>\n",
       "      <td>0.0</td>\n",
       "      <td>0.0</td>\n",
       "      <td>0.0</td>\n",
       "      <td>0.0</td>\n",
       "    </tr>\n",
       "  </tbody>\n",
       "</table>\n",
       "<p>5 rows × 428 columns</p>\n",
       "</div>"
      ],
      "text/plain": [
       "   000  07732584351  08000930705  08002986030  08452810075over18  09061701461  \\\n",
       "0  0.0          0.0          0.0          0.0           0.000000          0.0   \n",
       "1  0.0          0.0          0.0          0.0           0.000000          0.0   \n",
       "2  0.0          0.0          0.0          0.0           0.191427          0.0   \n",
       "3  0.0          0.0          0.0          0.0           0.000000          0.0   \n",
       "4  0.0          0.0          0.0          0.0           0.000000          0.0   \n",
       "\n",
       "   100   11   12  150p  ...  xuhui  xxx  xxxmobilemovieclub   ye  yeah  you  \\\n",
       "0  0.0  0.0  0.0   0.0  ...    0.0  0.0                 0.0  0.0   0.0  0.0   \n",
       "1  0.0  0.0  0.0   0.0  ...    0.0  0.0                 0.0  0.0   0.0  0.0   \n",
       "2  0.0  0.0  0.0   0.0  ...    0.0  0.0                 0.0  0.0   0.0  0.0   \n",
       "3  0.0  0.0  0.0   0.0  ...    0.0  0.0                 0.0  0.0   0.0  0.0   \n",
       "4  0.0  0.0  0.0   0.0  ...    0.0  0.0                 0.0  0.0   0.0  0.0   \n",
       "\n",
       "   your  yummi  yup   ú1  \n",
       "0   0.0    0.0  0.0  0.0  \n",
       "1   0.0    0.0  0.0  0.0  \n",
       "2   0.0    0.0  0.0  0.0  \n",
       "3   0.0    0.0  0.0  0.0  \n",
       "4   0.0    0.0  0.0  0.0  \n",
       "\n",
       "[5 rows x 428 columns]"
      ]
     },
     "execution_count": 45,
     "metadata": {},
     "output_type": "execute_result"
    }
   ],
   "source": [
    "# Convert the vectorized array into data frame\n",
    "tf_idf = pd.DataFrame(spam_tfidf_model.toarray(), columns = vectorizer.get_feature_names_out())\n",
    "\n",
    "tf_idf.head()"
   ]
  },
  {
   "cell_type": "code",
   "execution_count": 47,
   "id": "eda675cb-8280-47da-a002-b7dd8617b991",
   "metadata": {},
   "outputs": [
    {
     "name": "stdout",
     "output_type": "stream",
     "text": [
      "['000' '07732584351' '08000930705' '08002986030' '08452810075over18'\n",
      " '09061701461' '100' '11' '12' '150p' '16' '20' '2005' '21st' '2nd'\n",
      " '4403ldnw1a7rw18' '4txt' '50' '6day' '81010' '87077' '87121' '87575'\n",
      " '8am' '900' 'abiola' 'about' 'actin' 'aft' 'again' 'ahead' 'ahhh' 'aid'\n",
      " 'all' 'alreadi' 'alright' 'alway' 'am' 'amor' 'amp' 'an' 'and' 'anymor'\n",
      " 'anyth' 'apologet' 'appli' 'arabian' 'ard' 'are' 'around' 'as' 'ask' 'at'\n",
      " 'avail' 'back' 'badli' 'be' 'been' 'bit' 'bless' 'breather' 'brother'\n",
      " 'bu' 'buffet' 'bugi' 'burn' 'but' 'by' 'ca' 'call' 'caller' 'callertun'\n",
      " 'camcord' 'camera' 'can' 'car' 'cash' 'catch' 'caught' 'chanc' 'charg'\n",
      " 'cheer' 'chg' 'child' 'cine' 'claim' 'clear' 'click' 'co' 'code' 'colour'\n",
      " 'com' 'comin' 'comp' 'confirm' 'convinc' 'copi' 'cost' 'could' 'crave'\n",
      " 'crazi' 'credit' 'cri' 'csh11' 'cup' 'cuppa' 'custom' 'da' 'darl' 'date'\n",
      " 'day' 'dbuk' 'decid' 'deliveri' 'did' 'dinner' 'do' 'doe' 'done' 'dont'\n",
      " 'down' 'dun' 'earli' 'eat' 'eg' 'egg' 'eh' 'endow' 'england' 'enough'\n",
      " 'entitl' 'entri' 'even' 'fa' 'faint' 'fair' 'fallen' 'fear' 'feel'\n",
      " 'ffffffffff' 'final' 'fine' 'finish' 'first' 'for' 'forc' 'forget' 'free'\n",
      " 'freemsg' 'fri' 'friend' 'from' 'fulfil' 'fun' 'get' 'go' 'goals' 'goe'\n",
      " 'gon' 'got' 'gota' 'grant' 'great' 'gt' 'ha' 'had' 'have' 'he' 'hello'\n",
      " 'help' 'hep' 'her' 'here' 'hey' 'hi' 'hl' 'home' 'hope' 'hor' 'hospit'\n",
      " 'hour' 'housework' 'how' 'http' 'hungri' 'if' 'immunis' 'in' 'inch'\n",
      " 'info' 'invit' 'is' 'it' 'jackpot' 'joke' 'jurong' 'just' 'kept' 'kl341'\n",
      " 'know' 'la' 'lar' 'latest' 'lccltd' 'learn' 'left' 'lesson' 'let'\n",
      " 'letter' 'like' 'link' 'live' 'll' 'lol' 'look' 'lor' 'love' 'lt' 'lunch'\n",
      " 'macedonia' 'make' 'man' 'mark' 'may' 'mayb' 'me' 'meet' 'mell'\n",
      " 'membership' 'messag' 'minnaminungint' 'miss' 'mmmmmm' 'mobil' 'mom'\n",
      " 'month' 'more' 'most' 'msg' 'my' 'myself' 'na' 'nah' 'name' 'nation'\n",
      " 'naughti' 'need' 'net' 'network' 'news' 'next' 'nigeria' 'no' 'nokia'\n",
      " 'not' 'now' 'nurungu' 'of' 'oh' 'ok' 'on' 'oni' 'onli' 'oop' 'or' 'oru'\n",
      " 'our' 'out' 'over' 'pack' 'patent' 'pay' 'per' 'pizza' 'pl' 'pleas'\n",
      " 'pobox' 'poboxox36504w45wq' 'point' 'pound' 'press' 'prize' 'promis'\n",
      " 'qjkgighjjgcbl' 'question' 'quick' 'rate' 'rcv' 're' 'realli' 'receiv'\n",
      " 'receivea' 'rememb' 'repli' 'request' 'reward' 'right' 'rington' 'rodger'\n",
      " 'room' 'roommat' 'sarcast' 'saturday' 'say' 'scotland' 'search' 'see'\n",
      " 'select' 'send' 'serious' 'set' 'she' 'sick' 'six' 'slice' 'sm' 'smth'\n",
      " 'so' 'some' 'soon' 'sooner' 'speak' 'spell' 'spoilt' 'std' 'steed'\n",
      " 'still' 'stock' 'str' 'stubborn' 'stuff' 'subscript' 'suck' 'sucker'\n",
      " 'sunday' 'sure' 'sweet' 'take' 'talk' 'tb' 'tea' 'team' 'tell' 'text'\n",
      " 'thank' 'that' 'the' 'then' 'there' 'they' 'thi' 'think' 'tho' 'though'\n",
      " 'till' 'time' 'tkt' 'to' 'today' 'tomo' 'tomorrow' 'tonight' 'too'\n",
      " 'treat' 'tri' 'tsandc' 'turn' 'txt' 'tyler' 'uk' 'until' 'up' 'updat'\n",
      " 'ur' 'urgent' 'us' 'use' 'usf' 'vagu' 'valid' 'valu' 've' 'vettam' 'wa'\n",
      " 'wait' 'wale' 'want' 'wap' 'wat' 'watch' 'watt' 'way' 'we' 'weak' 'week'\n",
      " 'weekend' 'well' 'were' 'wet' 'what' 'when' 'whi' 'who' 'wif' 'will'\n",
      " 'win' 'winner' 'with' 'wkli' 'wo' 'won' 'wonder' 'wont' 'word' 'work'\n",
      " 'world' 'worri' 'www' 'xuhui' 'xxx' 'xxxmobilemovieclub' 'ye' 'yeah'\n",
      " 'you' 'your' 'yummi' 'yup' 'ú1']\n"
     ]
    }
   ],
   "source": [
    "# token names\n",
    "print(vectorizer.get_feature_names_out())"
   ]
  },
  {
   "cell_type": "code",
   "execution_count": null,
   "id": "a6eacaa6-4fd2-4893-85bb-a3a800798125",
   "metadata": {},
   "outputs": [],
   "source": []
  }
 ],
 "metadata": {
  "kernelspec": {
   "display_name": "Python 3 (ipykernel)",
   "language": "python",
   "name": "python3"
  },
  "language_info": {
   "codemirror_mode": {
    "name": "ipython",
    "version": 3
   },
   "file_extension": ".py",
   "mimetype": "text/x-python",
   "name": "python",
   "nbconvert_exporter": "python",
   "pygments_lexer": "ipython3",
   "version": "3.12.1"
  }
 },
 "nbformat": 4,
 "nbformat_minor": 5
}
