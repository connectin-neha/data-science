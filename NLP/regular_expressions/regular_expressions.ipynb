{
 "cells": [
  {
   "cell_type": "markdown",
   "id": "c1cd10ff-6fac-4ded-9ded-87fc74cc7031",
   "metadata": {},
   "source": [
    "# Regular Expressions\n",
    "Regular expression is a set of characters, called as the pattern, which helps in finding substrings in a given string. The pattern is used to detect the substrings\n",
    "\n",
    "For example, suppose we have a dataset of customer reviews about any restaurant. Say, we want to extract the emojis from the reviews because they are a good predictor os the sentiment of the review.\n",
    "\n",
    "Another example, the artificial assistants such as Siri, Google Now use information retrieval to give us better results. When we ask them for any query or ask them to search for something interesting on the screen, they look for common patterns such as emails, phone numbers, place names, date and time and so on. This is because then the assitant can automatically make a booking or ask us to call the resturant to make a booking.\n",
    "\n",
    "Regular expressions are very powerful tool in text processing. It will help you to clean and handle your text in a much better way.\n",
    "\n",
    "<a href=https://docs.python.org/3/library/re.html>Regular Expression Official Documentation<a/>"
   ]
  },
  {
   "cell_type": "code",
   "execution_count": 1,
   "id": "e514eb64-d4ba-4b01-bb3c-85e45eb19e64",
   "metadata": {},
   "outputs": [],
   "source": [
    "# import library for regular expressions\n",
    "import re"
   ]
  },
  {
   "cell_type": "code",
   "execution_count": 2,
   "id": "ffa6b178-6e56-4836-8cac-1eadb12f3360",
   "metadata": {},
   "outputs": [
    {
     "name": "stdout",
     "output_type": "stream",
     "text": [
      "<re.Match object; span=(0, 4), match='Neha'>\n"
     ]
    }
   ],
   "source": [
    "print(re.search('Neha','Neha is a Data Enthusiast!'))"
   ]
  },
  {
   "cell_type": "code",
   "execution_count": 3,
   "id": "725971be-00e8-4fe4-8be9-2c3ae3766007",
   "metadata": {},
   "outputs": [
    {
     "name": "stdout",
     "output_type": "stream",
     "text": [
      "None\n"
     ]
    }
   ],
   "source": [
    "print(re.search('Puja','Neha is a Data Enthusiast!'))"
   ]
  },
  {
   "cell_type": "markdown",
   "id": "6b166157-125c-4dd9-9a12-133cfa8de39d",
   "metadata": {},
   "source": [
    "#### The 're.search()' method returns a RegexObject if the pattern is found in the string, else it returns a None object."
   ]
  },
  {
   "cell_type": "markdown",
   "id": "1c1ac3f8-ddbd-4be6-968c-0d8a2807d439",
   "metadata": {},
   "source": [
    "#### Finding the start and end position of a pattern match"
   ]
  },
  {
   "cell_type": "code",
   "execution_count": 4,
   "id": "6baef344-700a-4ef0-9064-d043192df95a",
   "metadata": {},
   "outputs": [
    {
     "name": "stdout",
     "output_type": "stream",
     "text": [
      "Starting position of pattern match is 13\n",
      "End position of pattern match is 22\n"
     ]
    }
   ],
   "source": [
    "string = 'The roots of education are bitter, but the fruit is sweet.'\n",
    "pattern = 'education'\n",
    "\n",
    "result = re.search(pattern,string)\n",
    "\n",
    "print('Starting position of pattern match is {0}'.format(result.start()))\n",
    "print('End position of pattern match is {0}'.format(result.end()))"
   ]
  },
  {
   "cell_type": "markdown",
   "id": "54abe216-d9f5-4cc3-af68-f8d4d951ab8e",
   "metadata": {},
   "source": [
    "### Quantifiers in Regular Expressions\n",
    "\n",
    "Quantifiers allow us to mention and have control over how many times we want the character(s) in our pattern to occur.\n",
    "\n",
    "Let’s take an example. Suppose we have some data which have the word ‘awesome’ in it. The list might look like - [‘awesome’, ‘awesomeeee’, ‘awesomee’]. We decide to extract only those elements which have more than one ‘e’ at the end of the word ‘awesome’. This is where quantifiers come into the picture. They let us handle these tasks.\n",
    "\n",
    "Types of quantifiers:\n",
    "\n",
    "- The ‘?’ operator\n",
    "- The ‘*’ operator\n",
    "- The ‘+’ operator\n",
    "- The ‘{m, n}’ operator"
   ]
  },
  {
   "cell_type": "code",
   "execution_count": 5,
   "id": "bee98578-bd56-4c1e-a96f-ab4914e3e112",
   "metadata": {},
   "outputs": [],
   "source": [
    "# Function which returns the if pattern is found else the string 'Not Found'\n",
    "\n",
    "def find_pattern(pattern,text):\n",
    "    if re.search(pattern,text):\n",
    "        return re.search(pattern,text)\n",
    "    else:\n",
    "        return 'Pattern Not Found!'"
   ]
  },
  {
   "cell_type": "markdown",
   "id": "672166dd-7f52-4ea1-8167-b40bed2fa9dd",
   "metadata": {},
   "source": [
    "### '?': Character or character set that it follows can appear zero or one time"
   ]
  },
  {
   "cell_type": "code",
   "execution_count": 6,
   "id": "48b7eaac-d4a8-40fd-aed0-ddeef99d97ee",
   "metadata": {},
   "outputs": [
    {
     "name": "stdout",
     "output_type": "stream",
     "text": [
      "<re.Match object; span=(0, 1), match='a'>\n"
     ]
    }
   ],
   "source": [
    "print(find_pattern('ab?','ac'))"
   ]
  },
  {
   "cell_type": "code",
   "execution_count": 7,
   "id": "787e92c3-87cd-4b4a-8cba-6354a28bf962",
   "metadata": {},
   "outputs": [
    {
     "name": "stdout",
     "output_type": "stream",
     "text": [
      "<re.Match object; span=(0, 2), match='ab'>\n"
     ]
    }
   ],
   "source": [
    "print(find_pattern('ab?','abc'))"
   ]
  },
  {
   "cell_type": "code",
   "execution_count": 8,
   "id": "e26972e0-fb53-4384-9832-e54e93cf62c4",
   "metadata": {},
   "outputs": [
    {
     "name": "stdout",
     "output_type": "stream",
     "text": [
      "<re.Match object; span=(0, 2), match='ab'>\n"
     ]
    }
   ],
   "source": [
    "print(find_pattern('ab?','abbc'))"
   ]
  },
  {
   "cell_type": "markdown",
   "id": "a3bf6fee-912e-45c2-8055-a32428f2a8de",
   "metadata": {},
   "source": [
    "#### The ‘?’  can be used where we want the preceding character of our pattern to be an optional character in the string. \n",
    "\n",
    "For example, if we want to write a regex that matches both ‘car’ and ‘cars’, the corresponding regex will be ’cars?’. ‘s’ followed by ‘?’ means that ‘s’ can be absent or present, i.e. it can be present zero or one time. "
   ]
  },
  {
   "cell_type": "code",
   "execution_count": null,
   "id": "925acfd5-bea3-460b-a897-f379755a7d8f",
   "metadata": {},
   "outputs": [],
   "source": []
  },
  {
   "cell_type": "markdown",
   "id": "883bc3e1-ce95-4636-b389-7aa83042b3cb",
   "metadata": {},
   "source": [
    "#### Question: Write a regular expression that matches the following words: \n",
    "xyz \n",
    "xy \n",
    "xz \n",
    "x\n",
    "\n",
    "Make sure that the regular expression doesn’t match the following words: \n",
    "Xyyz \n",
    "Xyzz\n",
    "Xyy \n",
    "Xzz \n",
    "Yz "
   ]
  },
  {
   "cell_type": "code",
   "execution_count": 9,
   "id": "a2ad5f01-ccf9-4380-8d8a-818608d4b1f0",
   "metadata": {},
   "outputs": [
    {
     "name": "stdout",
     "output_type": "stream",
     "text": [
      "<re.Match object; span=(0, 3), match='xyz'>\n",
      "<re.Match object; span=(0, 2), match='xy'>\n",
      "<re.Match object; span=(0, 2), match='xz'>\n",
      "<re.Match object; span=(0, 1), match='x'>\n",
      "Pattern Not Found!\n",
      "Pattern Not Found!\n",
      "Pattern Not Found!\n",
      "Pattern Not Found!\n",
      "Pattern Not Found!\n"
     ]
    }
   ],
   "source": [
    "print(find_pattern('xy?z?','xyz'))\n",
    "print(find_pattern('xy?z?','xy'))\n",
    "print(find_pattern('xy?z?','xz'))\n",
    "print(find_pattern('xy?z?','x'))\n",
    "print(find_pattern('xy?z?','Xyyz'))\n",
    "print(find_pattern('xy?z?','Xyzz'))\n",
    "print(find_pattern('xy?z?','Xyy'))\n",
    "print(find_pattern('xy?z?','Xzz'))\n",
    "print(find_pattern('xy?z?','Yz'))"
   ]
  },
  {
   "cell_type": "markdown",
   "id": "6f83b089-9b08-487f-b97b-76ef6f69c0aa",
   "metadata": {},
   "source": [
    "### '*': Character or character set that it follows can appear zero or more number of times"
   ]
  },
  {
   "cell_type": "code",
   "execution_count": 10,
   "id": "3eddb9dd-399a-47d5-9979-6c242c77481f",
   "metadata": {},
   "outputs": [
    {
     "name": "stdout",
     "output_type": "stream",
     "text": [
      "<re.Match object; span=(0, 1), match='a'>\n"
     ]
    }
   ],
   "source": [
    "print(find_pattern('ab*','ac'))"
   ]
  },
  {
   "cell_type": "code",
   "execution_count": 11,
   "id": "ad0538d3-a1a4-4315-9671-4e7e71a7c822",
   "metadata": {},
   "outputs": [
    {
     "name": "stdout",
     "output_type": "stream",
     "text": [
      "<re.Match object; span=(0, 2), match='ab'>\n"
     ]
    }
   ],
   "source": [
    "print(find_pattern('ab*','abc'))"
   ]
  },
  {
   "cell_type": "code",
   "execution_count": 12,
   "id": "8772bcfd-1ca4-46e8-9ecb-0b59bf312caf",
   "metadata": {},
   "outputs": [
    {
     "name": "stdout",
     "output_type": "stream",
     "text": [
      "<re.Match object; span=(0, 3), match='abb'>\n"
     ]
    }
   ],
   "source": [
    "print(find_pattern('ab*','abbc'))"
   ]
  },
  {
   "cell_type": "markdown",
   "id": "56b839ae-632d-48c3-a39a-30cda15b7690",
   "metadata": {},
   "source": [
    "#### A ‘*’ quantifier matches the preceding character any number of times."
   ]
  },
  {
   "cell_type": "code",
   "execution_count": null,
   "id": "4e8d55b9-58f7-4608-846a-f756da6386ee",
   "metadata": {},
   "outputs": [],
   "source": []
  },
  {
   "cell_type": "markdown",
   "id": "5f8aa62c-9c8d-4227-98fa-4eb431a20a54",
   "metadata": {},
   "source": [
    "#### Question: Match a binary number that starts with 101 and ends with zero or more number of zeroes.\n",
    "\n",
    "Sample positive cases (pattern should match all of these):\n",
    "1010\n",
    "10100\n",
    "101000\n",
    "101\n",
    "\n",
    "Sample negative cases (shouldn’t match any of these):\n",
    "10\n",
    "100\n",
    "1"
   ]
  },
  {
   "cell_type": "code",
   "execution_count": 13,
   "id": "744824a9-848e-46f3-a5d0-df6ea2cb1d2d",
   "metadata": {},
   "outputs": [
    {
     "name": "stdout",
     "output_type": "stream",
     "text": [
      "<re.Match object; span=(0, 4), match='1010'>\n",
      "<re.Match object; span=(0, 5), match='10100'>\n",
      "<re.Match object; span=(0, 6), match='101000'>\n",
      "<re.Match object; span=(0, 3), match='101'>\n",
      "Pattern Not Found!\n",
      "Pattern Not Found!\n",
      "Pattern Not Found!\n"
     ]
    }
   ],
   "source": [
    "print(find_pattern('1010*','1010'))\n",
    "print(find_pattern('1010*','10100'))\n",
    "print(find_pattern('1010*','101000'))\n",
    "print(find_pattern('1010*','101'))\n",
    "print(find_pattern('1010*','10'))\n",
    "print(find_pattern('1010*','100'))\n",
    "print(find_pattern('1010*','1'))"
   ]
  },
  {
   "cell_type": "markdown",
   "id": "7d87bb91-f6a8-4b20-bb48-6d307a9a9a23",
   "metadata": {},
   "source": [
    "#### Question: Write a pattern that starts with 1 and ends with zero but has arbitrary number of 1s (zero or more) in between\n",
    "\n",
    "Sample positive cases (should match all of these):\n",
    "110\n",
    "11111110\n",
    "10\n",
    "\n",
    "Sample negative cases (shouldn't match any of these): \n",
    "11\n",
    "00\n",
    "1\n",
    "0"
   ]
  },
  {
   "cell_type": "code",
   "execution_count": 14,
   "id": "6523c96d-20bf-499f-ade1-16fb039b9ff6",
   "metadata": {},
   "outputs": [
    {
     "name": "stdout",
     "output_type": "stream",
     "text": [
      "<re.Match object; span=(0, 3), match='110'>\n",
      "<re.Match object; span=(0, 8), match='11111110'>\n",
      "<re.Match object; span=(0, 2), match='10'>\n",
      "Pattern Not Found!\n",
      "Pattern Not Found!\n",
      "Pattern Not Found!\n",
      "Pattern Not Found!\n"
     ]
    }
   ],
   "source": [
    "print(find_pattern('11*0','110'))\n",
    "print(find_pattern('11*0','11111110'))\n",
    "print(find_pattern('11*0','10'))\n",
    "print(find_pattern('11*0','11'))\n",
    "print(find_pattern('11*0','00'))\n",
    "print(find_pattern('11*0','1'))\n",
    "print(find_pattern('11*0','0'))"
   ]
  },
  {
   "cell_type": "markdown",
   "id": "4a30f603-6e47-4de9-a07a-1d1f5dfcef5f",
   "metadata": {},
   "source": [
    "### '+': Character or character set that it follows can appear one or more number of times"
   ]
  },
  {
   "cell_type": "code",
   "execution_count": 15,
   "id": "b0dd74e7-f9ed-4784-836a-ee841a2f0f46",
   "metadata": {},
   "outputs": [
    {
     "name": "stdout",
     "output_type": "stream",
     "text": [
      "<re.Match object; span=(0, 3), match='abb'>\n"
     ]
    }
   ],
   "source": [
    "print(find_pattern('ab+','abbc'))"
   ]
  },
  {
   "cell_type": "code",
   "execution_count": 16,
   "id": "43ef2c89-53b7-427c-820d-f01e4b903e08",
   "metadata": {},
   "outputs": [
    {
     "name": "stdout",
     "output_type": "stream",
     "text": [
      "<re.Match object; span=(0, 2), match='ab'>\n"
     ]
    }
   ],
   "source": [
    "print(find_pattern('ab+','abc'))"
   ]
  },
  {
   "cell_type": "code",
   "execution_count": 17,
   "id": "5fc82a54-b61f-40cb-8b79-897bb06f5489",
   "metadata": {},
   "outputs": [
    {
     "name": "stdout",
     "output_type": "stream",
     "text": [
      "Pattern Not Found!\n"
     ]
    }
   ],
   "source": [
    "print(find_pattern('ab+','ac'))"
   ]
  },
  {
   "cell_type": "markdown",
   "id": "c01553e7-e0a9-40b4-8807-67d9950f1e64",
   "metadata": {},
   "source": [
    "#### The ‘+’ quantifier matches the preceding character one or more times. That means the preceding character has to be present at least once for the pattern to match the string.\n",
    "\n",
    "Thus, the only difference between '+' and '*' is that the '+' needs a character to be present at least once, while the '*' does not."
   ]
  },
  {
   "cell_type": "markdown",
   "id": "9a8380fd-b93c-4dc7-a5bd-7701dd849cbb",
   "metadata": {},
   "source": [
    "#### Question: Write a pattern that matches numbers that are powers of 10.\n",
    "\n",
    "Sample positive matches (should match all of the following):\n",
    "10\n",
    "100\n",
    "1000\n",
    "\n",
    "Sample negative matches (shouldn't match either of these):\n",
    "0\n",
    "1\n",
    "15\n"
   ]
  },
  {
   "cell_type": "code",
   "execution_count": 18,
   "id": "93047287-cb17-47e7-8449-77fbafcfd7ec",
   "metadata": {},
   "outputs": [
    {
     "name": "stdout",
     "output_type": "stream",
     "text": [
      "<re.Match object; span=(0, 2), match='10'>\n",
      "<re.Match object; span=(0, 3), match='100'>\n",
      "<re.Match object; span=(0, 4), match='1000'>\n",
      "Pattern Not Found!\n",
      "Pattern Not Found!\n",
      "Pattern Not Found!\n"
     ]
    }
   ],
   "source": [
    "print(find_pattern('10+','10'))\n",
    "print(find_pattern('10+','100'))\n",
    "print(find_pattern('10+','1000'))\n",
    "print(find_pattern('10+','0'))\n",
    "print(find_pattern('10+','1'))\n",
    "print(find_pattern('10+','15'))"
   ]
  },
  {
   "cell_type": "markdown",
   "id": "79ff216c-a0bc-4071-96bf-f65346c87850",
   "metadata": {},
   "source": [
    "### '{m,n}': Character or character set that it follows can appear a fixed number of times between m and n times"
   ]
  },
  {
   "cell_type": "code",
   "execution_count": 19,
   "id": "ec4a01c9-0b15-4dd6-86aa-f9a5c3379ea7",
   "metadata": {},
   "outputs": [
    {
     "name": "stdout",
     "output_type": "stream",
     "text": [
      "Pattern Not Found!\n"
     ]
    }
   ],
   "source": [
    "print(find_pattern('ab{3,5}','abbc'))"
   ]
  },
  {
   "cell_type": "code",
   "execution_count": 20,
   "id": "2f4222d1-8e6e-4230-844d-33a6ef81b88c",
   "metadata": {},
   "outputs": [
    {
     "name": "stdout",
     "output_type": "stream",
     "text": [
      "<re.Match object; span=(0, 4), match='abbb'>\n"
     ]
    }
   ],
   "source": [
    "print(find_pattern('ab{3,5}','abbbc'))"
   ]
  },
  {
   "cell_type": "code",
   "execution_count": 21,
   "id": "85c18c6f-df22-4dd5-8832-8e1876216b4d",
   "metadata": {},
   "outputs": [
    {
     "name": "stdout",
     "output_type": "stream",
     "text": [
      "<re.Match object; span=(0, 6), match='abbbbb'>\n"
     ]
    }
   ],
   "source": [
    "print(find_pattern('ab{3,5}','abbbbbbbabbbbbbc'))"
   ]
  },
  {
   "cell_type": "code",
   "execution_count": 22,
   "id": "38171716-b2c2-4aae-b01d-cb5afaa4c6b7",
   "metadata": {},
   "outputs": [
    {
     "name": "stdout",
     "output_type": "stream",
     "text": [
      "<re.Match object; span=(0, 5), match='abbbb'>\n"
     ]
    }
   ],
   "source": [
    "print(find_pattern('ab{4}','abbbbbbbbbbbbbc'))"
   ]
  },
  {
   "cell_type": "markdown",
   "id": "5ce0d482-27b7-448f-bfa4-a19d7fa1d756",
   "metadata": {},
   "source": [
    "#### There are four variants of the quantifier that you just saw:\n",
    "\n",
    "- {m,n}: Matches the preceding character ‘m’ times to ‘n’ times.\n",
    "- {m,}: Matches the preceding character ‘m’ times to infinite times, i.e. there is no upper limit to the occurrence of the preceding character.\n",
    "- {,n}: Matches the preceding character from zero to ‘n’ times, i.e. the upper limit is fixed regarding the occurrence of the preceding character.\n",
    "- {n}: Matches if the preceding character occurs exactly ‘n’ number of times."
   ]
  },
  {
   "cell_type": "markdown",
   "id": "8d2bef40-5a2f-4a3f-bf5e-8621e8c177fe",
   "metadata": {},
   "source": [
    "#### Note that while specifying the {m,n} notation, avoid using a space after the comma, i.e. use {m,n} rather than {m, n}"
   ]
  },
  {
   "cell_type": "code",
   "execution_count": 23,
   "id": "c887f8e1-5bff-4f15-9c97-faf691852d99",
   "metadata": {},
   "outputs": [
    {
     "name": "stdout",
     "output_type": "stream",
     "text": [
      "Pattern Not Found!\n"
     ]
    }
   ],
   "source": [
    "print(find_pattern('ab{3, 5}','abbbc'))"
   ]
  },
  {
   "cell_type": "markdown",
   "id": "56ec8c52-598f-4445-aef3-86792caebdb7",
   "metadata": {},
   "source": [
    "#### An interesting thing to note is that this quantifier can replace the ‘?’, ‘*’ and the ‘+’ quantifier. That is because:\n",
    "\n",
    "- '?' is equivalent to zero or once, or {0, 1}\n",
    "- '*' is equivalent to zero or more times, or {0, }\n",
    "- '+' is equivalent to one or more times, or {1, }"
   ]
  },
  {
   "cell_type": "markdown",
   "id": "1613ecee-925d-46fe-a319-3192fdbf1f63",
   "metadata": {},
   "source": [
    "#### Write a regular expression which matches variants of the word ‘awesome’ where there are more than two ‘e’s at the end of the word.\n",
    "\n",
    "The following strings should match:\n",
    "awesomeee\n",
    "awesomeeee\n",
    "\n",
    "The following strings shouldn’t match:\n",
    "awesom\n",
    "awesome\n",
    "awesomee"
   ]
  },
  {
   "cell_type": "code",
   "execution_count": 24,
   "id": "210fffb9-76df-4536-96a5-8e12d363b80e",
   "metadata": {},
   "outputs": [
    {
     "name": "stdout",
     "output_type": "stream",
     "text": [
      "<re.Match object; span=(0, 9), match='awesomeee'>\n",
      "<re.Match object; span=(0, 10), match='awesomeeee'>\n",
      "Pattern Not Found!\n",
      "Pattern Not Found!\n",
      "Pattern Not Found!\n"
     ]
    }
   ],
   "source": [
    "print(find_pattern('awesome{3,}','awesomeee'))\n",
    "print(find_pattern('awesome{3,}','awesomeeee'))\n",
    "print(find_pattern('awesome{3,}','awesom'))\n",
    "print(find_pattern('awesome{3,}','awesome'))\n",
    "print(find_pattern('awesome{3,}','awesomee'))"
   ]
  },
  {
   "cell_type": "markdown",
   "id": "4f9811df-88ed-4665-95ee-3759c7bc0e88",
   "metadata": {},
   "source": [
    "## Use of Parentheses\n",
    "\n",
    "Till now, we have used quantifiers preceded by a single character which meant that the character preceded by the quantifier can repeat a specified number of times. If we put the parentheses around some characters, the quantifier will look for repetition of the group of characters rather than just looking for repetitions of the preceding character. This concept is called grouping in regular expression jargon. For example, the pattern ‘(abc){1, 3}’ will match the following strings:\n",
    "\n",
    "- abc\n",
    " - abcabc\n",
    "- abcabcabc\n",
    "\n",
    "Similarly, the pattern (010)+ will match:\n",
    "\n",
    "- 010\n",
    "- 010010\n",
    "- 010010010, and so on."
   ]
  },
  {
   "cell_type": "markdown",
   "id": "59ad0e6e-ac6e-48ff-b240-34fd9cdc4f56",
   "metadata": {},
   "source": [
    "#### Question: Write a regular expression which matches a string where '23' occurs one or more times followed by occurrence of '78' one or more times\n",
    "\n",
    "Sample positive matches (should match all of these):\n",
    "\n",
    "- 2378\n",
    "- 23237878\n",
    "- 232323237878\n",
    "\n",
    "Sample negative matches (shouldn't match either of these):\n",
    "- 23\n",
    "- 78\n",
    "- 23378\n",
    "- 223378\n",
    "- 22337788"
   ]
  },
  {
   "cell_type": "code",
   "execution_count": 25,
   "id": "096cbba0-47bf-4ea0-832f-1f0ba72874f1",
   "metadata": {},
   "outputs": [
    {
     "name": "stdout",
     "output_type": "stream",
     "text": [
      "<re.Match object; span=(0, 4), match='2378'>\n",
      "<re.Match object; span=(0, 8), match='23237878'>\n",
      "<re.Match object; span=(0, 12), match='232323237878'>\n",
      "Pattern Not Found!\n",
      "Pattern Not Found!\n",
      "Pattern Not Found!\n",
      "Pattern Not Found!\n",
      "Pattern Not Found!\n"
     ]
    }
   ],
   "source": [
    "print(find_pattern('(23){1,}(78){1,}','2378'))\n",
    "print(find_pattern('(23){1,}(78){1,}','23237878'))\n",
    "print(find_pattern('(23){1,}(78){1,}','232323237878'))\n",
    "print(find_pattern('(23){1,}(78){1,}','23'))\n",
    "print(find_pattern('(23){1,}(78){1,}','78'))\n",
    "print(find_pattern('(23){1,}(78){1,}','23378'))\n",
    "print(find_pattern('(23){1,}(78){1,}','223378'))\n",
    "print(find_pattern('(23){1,}(78){1,}','22337788'))"
   ]
  },
  {
   "cell_type": "markdown",
   "id": "981af041-35e3-44d3-bd5c-469e98a071f8",
   "metadata": {},
   "source": [
    "## Use of Pipe Operator\n",
    "\n",
    "The pipe operator is used as an OR operator. We need to use it inside the parentheses. For example, the pattern ‘(d|g)one’ will match both the strings - ‘done’ and ‘gone’. The pipe operator tells that the place inside the parentheses can be either ‘d’ or ‘g’.\n",
    "\n",
    "Similarly, the pattern ‘(ICICI|HDFC) Bank’ will match the strings ‘ICICI Bank’ and ‘HDFC Bank’. We can also use quantifiers after the parentheses as usual even when there is a pipe operator inside. Not only that, there can be an infinite number of pipe operators inside the parentheses. The pattern ‘(0|1|2){2} means 'exactly two occurrences of either of 0, 1 or 2', and it will match these strings - ‘00’, ‘01’, ‘02’, ‘10’, ‘11’, ‘12’, ‘20’, ‘21’ and ‘22’."
   ]
  },
  {
   "cell_type": "markdown",
   "id": "0cf64b8d-62b4-43e4-92a4-d370811bb780",
   "metadata": {},
   "source": [
    "#### Question: Write a regular expression that matches the following strings: \n",
    "\n",
    "- Basketball \n",
    "- Baseball \n",
    "- Volleyball \n",
    "- Softball \n",
    "- Football"
   ]
  },
  {
   "cell_type": "code",
   "execution_count": 29,
   "id": "4c04daa5-184c-40e4-b82d-444ef0ae9e79",
   "metadata": {},
   "outputs": [
    {
     "name": "stdout",
     "output_type": "stream",
     "text": [
      "<re.Match object; span=(0, 8), match='Baseball'>\n"
     ]
    }
   ],
   "source": [
    "print(find_pattern('(Basket|Base|Volley|Soft|Foot)ball','BaseballCricket'))"
   ]
  },
  {
   "cell_type": "markdown",
   "id": "bd586cb0-48a0-49c3-805b-9fe47f437f57",
   "metadata": {},
   "source": [
    "## Special Characters\n",
    "\n",
    "Lastly, we will often find ourself in situations where we will need to mention characters such as ‘?’, ‘*’, ‘+’, ‘(‘, ‘)’, ‘{‘, etc. in your regular expressions. These are called special characters since they have special meanings when they appear inside a  regex pattern.\n",
    "\n",
    "Suppose we want to extract all the questions from a document, and we assume that all questions end with a question mark - ‘?’. So we would need to use the ‘?’ in the regular expression. Now, we already know that ‘?’ has a special meaning in regular expressions.\n",
    "\n",
    "In situations such as these, we’ll need to use escape sequences. The escape sequence, denoted by a backslash ‘\\’, is used to escape the special meaning of the special characters.\n",
    "\n",
    "The '\\' itself is a special character, and to match the ‘\\’ character literally, we need to escape it too. We can use the pattern ‘\\\\’ to escape the backslash."
   ]
  },
  {
   "cell_type": "markdown",
   "id": "78a95670-dffb-466a-9b25-23d020dbaeaf",
   "metadata": {},
   "source": [
    "#### Question: Write a regular expression that returns True when passed a multiplication equation. For any other equation, it should return False. In other words, it should return True if there an asterisk - ‘*’ - present in the equation.\n",
    "\n",
    "Sample positive cases (should match all of these):\n",
    "- 3a*4b\n",
    "- 3*2\n",
    "- 4 * 5 * 6=120\n",
    "\n",
    "Sample negative cases (shouldn't match either of these):\n",
    "- 5+3=8 \n",
    "- 3%2=1\n"
   ]
  },
  {
   "cell_type": "code",
   "execution_count": 33,
   "id": "e8abe7e8-7d18-45b6-9c08-dbb398d45313",
   "metadata": {},
   "outputs": [],
   "source": [
    "import warnings\n",
    "warnings.filterwarnings('ignore')"
   ]
  },
  {
   "cell_type": "code",
   "execution_count": 34,
   "id": "b6e208ef-2bac-41ff-b8b6-f8e54211a45d",
   "metadata": {},
   "outputs": [],
   "source": [
    "def validate_multiplication(text):\n",
    "    if re.search('\\*',text):\n",
    "        return 'True'\n",
    "    else:\n",
    "        return 'False'"
   ]
  },
  {
   "cell_type": "code",
   "execution_count": 35,
   "id": "97957320-42d4-4f4a-9a8d-3986230169b5",
   "metadata": {},
   "outputs": [
    {
     "data": {
      "text/plain": [
       "'True'"
      ]
     },
     "execution_count": 35,
     "metadata": {},
     "output_type": "execute_result"
    }
   ],
   "source": [
    "validate_multiplication('3a*4b')"
   ]
  },
  {
   "cell_type": "code",
   "execution_count": 36,
   "id": "382bd357-b1a4-4953-b16a-cc0f8295fb76",
   "metadata": {},
   "outputs": [
    {
     "data": {
      "text/plain": [
       "'False'"
      ]
     },
     "execution_count": 36,
     "metadata": {},
     "output_type": "execute_result"
    }
   ],
   "source": [
    "validate_multiplication('5+3')"
   ]
  },
  {
   "cell_type": "markdown",
   "id": "bacfc361-9639-4368-8337-bcff8ec90add",
   "metadata": {},
   "source": [
    "## Regex flags\n",
    "\n",
    "A flag has a special meaning. For example, if we want our regex to ignore the case of the text then we can pass the 're.I' flag. Similarly, we can have a flag with the syntax re.M that enables us to search in multiple lines (in case the input text has multiple lines). We can pass all these flags in the re.search() function. The syntax to pass multiple flags is:\n",
    "\n",
    "re.search(pattern, string, flags=re.I | re.M)"
   ]
  },
  {
   "cell_type": "code",
   "execution_count": 50,
   "id": "fa97a54a-b2dd-492d-a33b-fe536065a2d0",
   "metadata": {},
   "outputs": [
    {
     "name": "stdout",
     "output_type": "stream",
     "text": [
      "Case insensitive search result is <re.Match object; span=(10, 14), match='data'>\n",
      "Case sensitive search result is None\n"
     ]
    }
   ],
   "source": [
    "string = 'Neha is a data Enthusiast'\n",
    "pattern = 'Data'\n",
    "\n",
    "result1 = re.search(pattern,string, flags=re.I)\n",
    "\n",
    "print('Case insensitive search result is {0}'.format(result1))\n",
    "\n",
    "result2 = re.search(pattern,string)\n",
    "\n",
    "print('Case sensitive search result is {0}'.format(result2))"
   ]
  },
  {
   "cell_type": "code",
   "execution_count": null,
   "id": "d6f498e9-d02d-4643-a9bf-0dd532e05af0",
   "metadata": {},
   "outputs": [],
   "source": []
  }
 ],
 "metadata": {
  "kernelspec": {
   "display_name": "Python 3 (ipykernel)",
   "language": "python",
   "name": "python3"
  },
  "language_info": {
   "codemirror_mode": {
    "name": "ipython",
    "version": 3
   },
   "file_extension": ".py",
   "mimetype": "text/x-python",
   "name": "python",
   "nbconvert_exporter": "python",
   "pygments_lexer": "ipython3",
   "version": "3.12.1"
  }
 },
 "nbformat": 4,
 "nbformat_minor": 5
}
