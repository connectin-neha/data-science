{
 "cells": [
  {
   "cell_type": "markdown",
   "id": "c1cd10ff-6fac-4ded-9ded-87fc74cc7031",
   "metadata": {},
   "source": [
    "# Regular Expressions\n",
    "Regular expression is a set of characters, called as the pattern, which helps in finding substrings in a given string. The pattern is used to detect the substrings\n",
    "\n",
    "For example, suppose we have a dataset of customer reviews about any restaurant. Say, we want to extract the emojis from the reviews because they are a good predictor os the sentiment of the review.\n",
    "\n",
    "Another example, the artificial assistants such as Siri, Google Now use information retrieval to give us better results. When we ask them for any query or ask them to search for something interesting on the screen, they look for common patterns such as emails, phone numbers, place names, date and time and so on. This is because then the assitant can automatically make a booking or ask us to call the resturant to make a booking.\n",
    "\n",
    "Regular expressions are very powerful tool in text processing. It will help us to clean and handle our text in a much better way.\n",
    "\n",
    "<a href=https://docs.python.org/3/library/re.html>Regular Expression Official Documentation<a/>"
   ]
  },
  {
   "cell_type": "code",
   "execution_count": 1,
   "id": "e514eb64-d4ba-4b01-bb3c-85e45eb19e64",
   "metadata": {},
   "outputs": [],
   "source": [
    "# import library for regular expressions\n",
    "import re"
   ]
  },
  {
   "cell_type": "code",
   "execution_count": 2,
   "id": "ffa6b178-6e56-4836-8cac-1eadb12f3360",
   "metadata": {},
   "outputs": [
    {
     "name": "stdout",
     "output_type": "stream",
     "text": [
      "<re.Match object; span=(0, 4), match='Neha'>\n"
     ]
    }
   ],
   "source": [
    "print(re.search('Neha','Neha is a Data Enthusiast!'))"
   ]
  },
  {
   "cell_type": "code",
   "execution_count": 3,
   "id": "725971be-00e8-4fe4-8be9-2c3ae3766007",
   "metadata": {},
   "outputs": [
    {
     "name": "stdout",
     "output_type": "stream",
     "text": [
      "None\n"
     ]
    }
   ],
   "source": [
    "print(re.search('Puja','Neha is a Data Enthusiast!'))"
   ]
  },
  {
   "cell_type": "markdown",
   "id": "6b166157-125c-4dd9-9a12-133cfa8de39d",
   "metadata": {},
   "source": [
    "#### The 're.search()' method returns a RegexObject if the pattern is found in the string, else it returns a None object."
   ]
  },
  {
   "cell_type": "markdown",
   "id": "1c1ac3f8-ddbd-4be6-968c-0d8a2807d439",
   "metadata": {},
   "source": [
    "#### Finding the start and end position of a pattern match"
   ]
  },
  {
   "cell_type": "code",
   "execution_count": 4,
   "id": "6baef344-700a-4ef0-9064-d043192df95a",
   "metadata": {},
   "outputs": [
    {
     "name": "stdout",
     "output_type": "stream",
     "text": [
      "Starting position of pattern match is 13\n",
      "End position of pattern match is 22\n"
     ]
    }
   ],
   "source": [
    "string = 'The roots of education are bitter, but the fruit is sweet.'\n",
    "pattern = 'education'\n",
    "\n",
    "result = re.search(pattern,string)\n",
    "\n",
    "print('Starting position of pattern match is {0}'.format(result.start()))\n",
    "print('End position of pattern match is {0}'.format(result.end()))"
   ]
  },
  {
   "cell_type": "markdown",
   "id": "54abe216-d9f5-4cc3-af68-f8d4d951ab8e",
   "metadata": {},
   "source": [
    "### Quantifiers in Regular Expressions\n",
    "\n",
    "Quantifiers allow us to mention and have control over how many times we want the character(s) in our pattern to occur.\n",
    "\n",
    "Let’s take an example. Suppose we have some data which have the word ‘awesome’ in it. The list might look like - [‘awesome’, ‘awesomeeee’, ‘awesomee’]. We decide to extract only those elements which have more than one ‘e’ at the end of the word ‘awesome’. This is where quantifiers come into the picture. They let us handle these tasks.\n",
    "\n",
    "Types of quantifiers:\n",
    "\n",
    "- The ‘?’ operator\n",
    "- The ‘*’ operator\n",
    "- The ‘+’ operator\n",
    "- The ‘{m, n}’ operator"
   ]
  },
  {
   "cell_type": "code",
   "execution_count": 5,
   "id": "bee98578-bd56-4c1e-a96f-ab4914e3e112",
   "metadata": {},
   "outputs": [],
   "source": [
    "# Function which returns the if pattern is found else the string 'Not Found'\n",
    "\n",
    "def find_pattern(pattern,text):\n",
    "    if re.search(pattern,text):\n",
    "        return re.search(pattern,text)\n",
    "    else:\n",
    "        return 'Pattern Not Found!'"
   ]
  },
  {
   "cell_type": "markdown",
   "id": "672166dd-7f52-4ea1-8167-b40bed2fa9dd",
   "metadata": {},
   "source": [
    "### '?': Character or character set that it follows can appear zero or one time"
   ]
  },
  {
   "cell_type": "code",
   "execution_count": 6,
   "id": "48b7eaac-d4a8-40fd-aed0-ddeef99d97ee",
   "metadata": {},
   "outputs": [
    {
     "name": "stdout",
     "output_type": "stream",
     "text": [
      "<re.Match object; span=(0, 1), match='a'>\n"
     ]
    }
   ],
   "source": [
    "print(find_pattern('ab?','ac'))"
   ]
  },
  {
   "cell_type": "code",
   "execution_count": 7,
   "id": "787e92c3-87cd-4b4a-8cba-6354a28bf962",
   "metadata": {},
   "outputs": [
    {
     "name": "stdout",
     "output_type": "stream",
     "text": [
      "<re.Match object; span=(0, 2), match='ab'>\n"
     ]
    }
   ],
   "source": [
    "print(find_pattern('ab?','abc'))"
   ]
  },
  {
   "cell_type": "code",
   "execution_count": 8,
   "id": "e26972e0-fb53-4384-9832-e54e93cf62c4",
   "metadata": {},
   "outputs": [
    {
     "name": "stdout",
     "output_type": "stream",
     "text": [
      "<re.Match object; span=(0, 2), match='ab'>\n"
     ]
    }
   ],
   "source": [
    "print(find_pattern('ab?','abbc'))"
   ]
  },
  {
   "cell_type": "markdown",
   "id": "a3bf6fee-912e-45c2-8055-a32428f2a8de",
   "metadata": {},
   "source": [
    "#### The ‘?’  can be used where we want the preceding character of our pattern to be an optional character in the string. \n",
    "\n",
    "For example, if we want to write a regex that matches both ‘car’ and ‘cars’, the corresponding regex will be ’cars?’. ‘s’ followed by ‘?’ means that ‘s’ can be absent or present, i.e. it can be present zero or one time. "
   ]
  },
  {
   "cell_type": "code",
   "execution_count": null,
   "id": "925acfd5-bea3-460b-a897-f379755a7d8f",
   "metadata": {},
   "outputs": [],
   "source": []
  },
  {
   "cell_type": "markdown",
   "id": "883bc3e1-ce95-4636-b389-7aa83042b3cb",
   "metadata": {},
   "source": [
    "#### Question: Write a regular expression that matches the following words: \n",
    "xyz \n",
    "xy \n",
    "xz \n",
    "x\n",
    "\n",
    "Make sure that the regular expression doesn’t match the following words: \n",
    "Xyyz \n",
    "Xyzz\n",
    "Xyy \n",
    "Xzz \n",
    "Yz "
   ]
  },
  {
   "cell_type": "code",
   "execution_count": 9,
   "id": "a2ad5f01-ccf9-4380-8d8a-818608d4b1f0",
   "metadata": {},
   "outputs": [
    {
     "name": "stdout",
     "output_type": "stream",
     "text": [
      "<re.Match object; span=(0, 3), match='xyz'>\n",
      "<re.Match object; span=(0, 2), match='xy'>\n",
      "<re.Match object; span=(0, 2), match='xz'>\n",
      "<re.Match object; span=(0, 1), match='x'>\n",
      "Pattern Not Found!\n",
      "Pattern Not Found!\n",
      "Pattern Not Found!\n",
      "Pattern Not Found!\n",
      "Pattern Not Found!\n"
     ]
    }
   ],
   "source": [
    "print(find_pattern('xy?z?','xyz'))\n",
    "print(find_pattern('xy?z?','xy'))\n",
    "print(find_pattern('xy?z?','xz'))\n",
    "print(find_pattern('xy?z?','x'))\n",
    "print(find_pattern('xy?z?','Xyyz'))\n",
    "print(find_pattern('xy?z?','Xyzz'))\n",
    "print(find_pattern('xy?z?','Xyy'))\n",
    "print(find_pattern('xy?z?','Xzz'))\n",
    "print(find_pattern('xy?z?','Yz'))"
   ]
  },
  {
   "cell_type": "markdown",
   "id": "6f83b089-9b08-487f-b97b-76ef6f69c0aa",
   "metadata": {},
   "source": [
    "### '*': Character or character set that it follows can appear zero or more number of times"
   ]
  },
  {
   "cell_type": "code",
   "execution_count": 10,
   "id": "3eddb9dd-399a-47d5-9979-6c242c77481f",
   "metadata": {},
   "outputs": [
    {
     "name": "stdout",
     "output_type": "stream",
     "text": [
      "<re.Match object; span=(0, 1), match='a'>\n"
     ]
    }
   ],
   "source": [
    "print(find_pattern('ab*','ac'))"
   ]
  },
  {
   "cell_type": "code",
   "execution_count": 11,
   "id": "ad0538d3-a1a4-4315-9671-4e7e71a7c822",
   "metadata": {},
   "outputs": [
    {
     "name": "stdout",
     "output_type": "stream",
     "text": [
      "<re.Match object; span=(0, 2), match='ab'>\n"
     ]
    }
   ],
   "source": [
    "print(find_pattern('ab*','abc'))"
   ]
  },
  {
   "cell_type": "code",
   "execution_count": 12,
   "id": "8772bcfd-1ca4-46e8-9ecb-0b59bf312caf",
   "metadata": {},
   "outputs": [
    {
     "name": "stdout",
     "output_type": "stream",
     "text": [
      "<re.Match object; span=(0, 3), match='abb'>\n"
     ]
    }
   ],
   "source": [
    "print(find_pattern('ab*','abbc'))"
   ]
  },
  {
   "cell_type": "markdown",
   "id": "56b839ae-632d-48c3-a39a-30cda15b7690",
   "metadata": {},
   "source": [
    "#### A ‘*’ quantifier matches the preceding character any number of times."
   ]
  },
  {
   "cell_type": "code",
   "execution_count": null,
   "id": "4e8d55b9-58f7-4608-846a-f756da6386ee",
   "metadata": {},
   "outputs": [],
   "source": []
  },
  {
   "cell_type": "markdown",
   "id": "5f8aa62c-9c8d-4227-98fa-4eb431a20a54",
   "metadata": {},
   "source": [
    "#### Question: Match a binary number that starts with 101 and ends with zero or more number of zeroes.\n",
    "\n",
    "Sample positive cases (pattern should match all of these):\n",
    "1010\n",
    "10100\n",
    "101000\n",
    "101\n",
    "\n",
    "Sample negative cases (shouldn’t match any of these):\n",
    "10\n",
    "100\n",
    "1"
   ]
  },
  {
   "cell_type": "code",
   "execution_count": 13,
   "id": "744824a9-848e-46f3-a5d0-df6ea2cb1d2d",
   "metadata": {},
   "outputs": [
    {
     "name": "stdout",
     "output_type": "stream",
     "text": [
      "<re.Match object; span=(0, 4), match='1010'>\n",
      "<re.Match object; span=(0, 5), match='10100'>\n",
      "<re.Match object; span=(0, 6), match='101000'>\n",
      "<re.Match object; span=(0, 3), match='101'>\n",
      "Pattern Not Found!\n",
      "Pattern Not Found!\n",
      "Pattern Not Found!\n"
     ]
    }
   ],
   "source": [
    "print(find_pattern('1010*','1010'))\n",
    "print(find_pattern('1010*','10100'))\n",
    "print(find_pattern('1010*','101000'))\n",
    "print(find_pattern('1010*','101'))\n",
    "print(find_pattern('1010*','10'))\n",
    "print(find_pattern('1010*','100'))\n",
    "print(find_pattern('1010*','1'))"
   ]
  },
  {
   "cell_type": "markdown",
   "id": "7d87bb91-f6a8-4b20-bb48-6d307a9a9a23",
   "metadata": {},
   "source": [
    "#### Question: Write a pattern that starts with 1 and ends with zero but has arbitrary number of 1s (zero or more) in between\n",
    "\n",
    "Sample positive cases (should match all of these):\n",
    "110\n",
    "11111110\n",
    "10\n",
    "\n",
    "Sample negative cases (shouldn't match any of these): \n",
    "11\n",
    "00\n",
    "1\n",
    "0"
   ]
  },
  {
   "cell_type": "code",
   "execution_count": 14,
   "id": "6523c96d-20bf-499f-ade1-16fb039b9ff6",
   "metadata": {},
   "outputs": [
    {
     "name": "stdout",
     "output_type": "stream",
     "text": [
      "<re.Match object; span=(0, 3), match='110'>\n",
      "<re.Match object; span=(0, 8), match='11111110'>\n",
      "<re.Match object; span=(0, 2), match='10'>\n",
      "Pattern Not Found!\n",
      "Pattern Not Found!\n",
      "Pattern Not Found!\n",
      "Pattern Not Found!\n"
     ]
    }
   ],
   "source": [
    "print(find_pattern('11*0','110'))\n",
    "print(find_pattern('11*0','11111110'))\n",
    "print(find_pattern('11*0','10'))\n",
    "print(find_pattern('11*0','11'))\n",
    "print(find_pattern('11*0','00'))\n",
    "print(find_pattern('11*0','1'))\n",
    "print(find_pattern('11*0','0'))"
   ]
  },
  {
   "cell_type": "markdown",
   "id": "4a30f603-6e47-4de9-a07a-1d1f5dfcef5f",
   "metadata": {},
   "source": [
    "### '+': Character or character set that it follows can appear one or more number of times"
   ]
  },
  {
   "cell_type": "code",
   "execution_count": 15,
   "id": "b0dd74e7-f9ed-4784-836a-ee841a2f0f46",
   "metadata": {},
   "outputs": [
    {
     "name": "stdout",
     "output_type": "stream",
     "text": [
      "<re.Match object; span=(0, 3), match='abb'>\n"
     ]
    }
   ],
   "source": [
    "print(find_pattern('ab+','abbc'))"
   ]
  },
  {
   "cell_type": "code",
   "execution_count": 16,
   "id": "43ef2c89-53b7-427c-820d-f01e4b903e08",
   "metadata": {},
   "outputs": [
    {
     "name": "stdout",
     "output_type": "stream",
     "text": [
      "<re.Match object; span=(0, 2), match='ab'>\n"
     ]
    }
   ],
   "source": [
    "print(find_pattern('ab+','abc'))"
   ]
  },
  {
   "cell_type": "code",
   "execution_count": 17,
   "id": "5fc82a54-b61f-40cb-8b79-897bb06f5489",
   "metadata": {},
   "outputs": [
    {
     "name": "stdout",
     "output_type": "stream",
     "text": [
      "Pattern Not Found!\n"
     ]
    }
   ],
   "source": [
    "print(find_pattern('ab+','ac'))"
   ]
  },
  {
   "cell_type": "markdown",
   "id": "c01553e7-e0a9-40b4-8807-67d9950f1e64",
   "metadata": {},
   "source": [
    "#### The ‘+’ quantifier matches the preceding character one or more times. That means the preceding character has to be present at least once for the pattern to match the string.\n",
    "\n",
    "Thus, the only difference between '+' and '*' is that the '+' needs a character to be present at least once, while the '*' does not."
   ]
  },
  {
   "cell_type": "markdown",
   "id": "9a8380fd-b93c-4dc7-a5bd-7701dd849cbb",
   "metadata": {},
   "source": [
    "#### Question: Write a pattern that matches numbers that are powers of 10.\n",
    "\n",
    "Sample positive matches (should match all of the following):\n",
    "10\n",
    "100\n",
    "1000\n",
    "\n",
    "Sample negative matches (shouldn't match either of these):\n",
    "0\n",
    "1\n",
    "15\n"
   ]
  },
  {
   "cell_type": "code",
   "execution_count": 18,
   "id": "93047287-cb17-47e7-8449-77fbafcfd7ec",
   "metadata": {},
   "outputs": [
    {
     "name": "stdout",
     "output_type": "stream",
     "text": [
      "<re.Match object; span=(0, 2), match='10'>\n",
      "<re.Match object; span=(0, 3), match='100'>\n",
      "<re.Match object; span=(0, 4), match='1000'>\n",
      "Pattern Not Found!\n",
      "Pattern Not Found!\n",
      "Pattern Not Found!\n"
     ]
    }
   ],
   "source": [
    "print(find_pattern('10+','10'))\n",
    "print(find_pattern('10+','100'))\n",
    "print(find_pattern('10+','1000'))\n",
    "print(find_pattern('10+','0'))\n",
    "print(find_pattern('10+','1'))\n",
    "print(find_pattern('10+','15'))"
   ]
  },
  {
   "cell_type": "markdown",
   "id": "79ff216c-a0bc-4071-96bf-f65346c87850",
   "metadata": {},
   "source": [
    "### '{m,n}': Character or character set that it follows can appear a fixed number of times between m and n times"
   ]
  },
  {
   "cell_type": "code",
   "execution_count": 19,
   "id": "ec4a01c9-0b15-4dd6-86aa-f9a5c3379ea7",
   "metadata": {},
   "outputs": [
    {
     "name": "stdout",
     "output_type": "stream",
     "text": [
      "Pattern Not Found!\n"
     ]
    }
   ],
   "source": [
    "print(find_pattern('ab{3,5}','abbc'))"
   ]
  },
  {
   "cell_type": "code",
   "execution_count": 20,
   "id": "2f4222d1-8e6e-4230-844d-33a6ef81b88c",
   "metadata": {},
   "outputs": [
    {
     "name": "stdout",
     "output_type": "stream",
     "text": [
      "<re.Match object; span=(0, 4), match='abbb'>\n"
     ]
    }
   ],
   "source": [
    "print(find_pattern('ab{3,5}','abbbc'))"
   ]
  },
  {
   "cell_type": "code",
   "execution_count": 21,
   "id": "85c18c6f-df22-4dd5-8832-8e1876216b4d",
   "metadata": {},
   "outputs": [
    {
     "name": "stdout",
     "output_type": "stream",
     "text": [
      "<re.Match object; span=(0, 6), match='abbbbb'>\n"
     ]
    }
   ],
   "source": [
    "print(find_pattern('ab{3,5}','abbbbbbbabbbbbbc'))"
   ]
  },
  {
   "cell_type": "code",
   "execution_count": 22,
   "id": "38171716-b2c2-4aae-b01d-cb5afaa4c6b7",
   "metadata": {},
   "outputs": [
    {
     "name": "stdout",
     "output_type": "stream",
     "text": [
      "<re.Match object; span=(0, 5), match='abbbb'>\n"
     ]
    }
   ],
   "source": [
    "print(find_pattern('ab{4}','abbbbbbbbbbbbbc'))"
   ]
  },
  {
   "cell_type": "markdown",
   "id": "5ce0d482-27b7-448f-bfa4-a19d7fa1d756",
   "metadata": {},
   "source": [
    "#### There are four variants of the quantifier that we just saw:\n",
    "\n",
    "- {m,n}: Matches the preceding character ‘m’ times to ‘n’ times.\n",
    "- {m,}: Matches the preceding character ‘m’ times to infinite times, i.e. there is no upper limit to the occurrence of the preceding character.\n",
    "- {,n}: Matches the preceding character from zero to ‘n’ times, i.e. the upper limit is fixed regarding the occurrence of the preceding character.\n",
    "- {n}: Matches if the preceding character occurs exactly ‘n’ number of times."
   ]
  },
  {
   "cell_type": "markdown",
   "id": "8d2bef40-5a2f-4a3f-bf5e-8621e8c177fe",
   "metadata": {},
   "source": [
    "#### Note that while specifying the {m,n} notation, avoid using a space after the comma, i.e. use {m,n} rather than {m, n}"
   ]
  },
  {
   "cell_type": "code",
   "execution_count": 23,
   "id": "c887f8e1-5bff-4f15-9c97-faf691852d99",
   "metadata": {},
   "outputs": [
    {
     "name": "stdout",
     "output_type": "stream",
     "text": [
      "Pattern Not Found!\n"
     ]
    }
   ],
   "source": [
    "print(find_pattern('ab{3, 5}','abbbc'))"
   ]
  },
  {
   "cell_type": "markdown",
   "id": "56ec8c52-598f-4445-aef3-86792caebdb7",
   "metadata": {},
   "source": [
    "#### An interesting thing to note is that this quantifier can replace the ‘?’, ‘*’ and the ‘+’ quantifier. That is because:\n",
    "\n",
    "- '?' is equivalent to zero or once, or {0, 1}\n",
    "- '*' is equivalent to zero or more times, or {0, }\n",
    "- '+' is equivalent to one or more times, or {1, }"
   ]
  },
  {
   "cell_type": "markdown",
   "id": "1613ecee-925d-46fe-a319-3192fdbf1f63",
   "metadata": {},
   "source": [
    "#### Write a regular expression which matches variants of the word ‘awesome’ where there are more than two ‘e’s at the end of the word.\n",
    "\n",
    "The following strings should match:\n",
    "awesomeee\n",
    "awesomeeee\n",
    "\n",
    "The following strings shouldn’t match:\n",
    "awesom\n",
    "awesome\n",
    "awesomee"
   ]
  },
  {
   "cell_type": "code",
   "execution_count": 24,
   "id": "210fffb9-76df-4536-96a5-8e12d363b80e",
   "metadata": {},
   "outputs": [
    {
     "name": "stdout",
     "output_type": "stream",
     "text": [
      "<re.Match object; span=(0, 9), match='awesomeee'>\n",
      "<re.Match object; span=(0, 10), match='awesomeeee'>\n",
      "Pattern Not Found!\n",
      "Pattern Not Found!\n",
      "Pattern Not Found!\n"
     ]
    }
   ],
   "source": [
    "print(find_pattern('awesome{3,}','awesomeee'))\n",
    "print(find_pattern('awesome{3,}','awesomeeee'))\n",
    "print(find_pattern('awesome{3,}','awesom'))\n",
    "print(find_pattern('awesome{3,}','awesome'))\n",
    "print(find_pattern('awesome{3,}','awesomee'))"
   ]
  },
  {
   "cell_type": "markdown",
   "id": "4f9811df-88ed-4665-95ee-3759c7bc0e88",
   "metadata": {},
   "source": [
    "## Use of Parentheses\n",
    "\n",
    "Till now, we have used quantifiers preceded by a single character which meant that the character preceded by the quantifier can repeat a specified number of times. If we put the parentheses around some characters, the quantifier will look for repetition of the group of characters rather than just looking for repetitions of the preceding character. This concept is called grouping in regular expression jargon. For example, the pattern ‘(abc){1, 3}’ will match the following strings:\n",
    "\n",
    "- abc\n",
    " - abcabc\n",
    "- abcabcabc\n",
    "\n",
    "Similarly, the pattern (010)+ will match:\n",
    "\n",
    "- 010\n",
    "- 010010\n",
    "- 010010010, and so on."
   ]
  },
  {
   "cell_type": "markdown",
   "id": "59ad0e6e-ac6e-48ff-b240-34fd9cdc4f56",
   "metadata": {},
   "source": [
    "#### Question: Write a regular expression which matches a string where '23' occurs one or more times followed by occurrence of '78' one or more times\n",
    "\n",
    "Sample positive matches (should match all of these):\n",
    "\n",
    "- 2378\n",
    "- 23237878\n",
    "- 232323237878\n",
    "\n",
    "Sample negative matches (shouldn't match either of these):\n",
    "- 23\n",
    "- 78\n",
    "- 23378\n",
    "- 223378\n",
    "- 22337788"
   ]
  },
  {
   "cell_type": "code",
   "execution_count": 25,
   "id": "096cbba0-47bf-4ea0-832f-1f0ba72874f1",
   "metadata": {},
   "outputs": [
    {
     "name": "stdout",
     "output_type": "stream",
     "text": [
      "<re.Match object; span=(0, 4), match='2378'>\n",
      "<re.Match object; span=(0, 8), match='23237878'>\n",
      "<re.Match object; span=(0, 12), match='232323237878'>\n",
      "Pattern Not Found!\n",
      "Pattern Not Found!\n",
      "Pattern Not Found!\n",
      "Pattern Not Found!\n",
      "Pattern Not Found!\n"
     ]
    }
   ],
   "source": [
    "print(find_pattern('(23){1,}(78){1,}','2378'))\n",
    "print(find_pattern('(23){1,}(78){1,}','23237878'))\n",
    "print(find_pattern('(23){1,}(78){1,}','232323237878'))\n",
    "print(find_pattern('(23){1,}(78){1,}','23'))\n",
    "print(find_pattern('(23){1,}(78){1,}','78'))\n",
    "print(find_pattern('(23){1,}(78){1,}','23378'))\n",
    "print(find_pattern('(23){1,}(78){1,}','223378'))\n",
    "print(find_pattern('(23){1,}(78){1,}','22337788'))"
   ]
  },
  {
   "cell_type": "markdown",
   "id": "981af041-35e3-44d3-bd5c-469e98a071f8",
   "metadata": {},
   "source": [
    "## Use of Pipe Operator\n",
    "\n",
    "The pipe operator is used as an OR operator. We need to use it inside the parentheses. For example, the pattern ‘(d|g)one’ will match both the strings - ‘done’ and ‘gone’. The pipe operator tells that the place inside the parentheses can be either ‘d’ or ‘g’.\n",
    "\n",
    "Similarly, the pattern ‘(ICICI|HDFC) Bank’ will match the strings ‘ICICI Bank’ and ‘HDFC Bank’. We can also use quantifiers after the parentheses as usual even when there is a pipe operator inside. Not only that, there can be an infinite number of pipe operators inside the parentheses. The pattern ‘(0|1|2){2} means 'exactly two occurrences of either of 0, 1 or 2', and it will match these strings - ‘00’, ‘01’, ‘02’, ‘10’, ‘11’, ‘12’, ‘20’, ‘21’ and ‘22’."
   ]
  },
  {
   "cell_type": "markdown",
   "id": "0cf64b8d-62b4-43e4-92a4-d370811bb780",
   "metadata": {},
   "source": [
    "#### Question: Write a regular expression that matches the following strings: \n",
    "\n",
    "- Basketball \n",
    "- Baseball \n",
    "- Volleyball \n",
    "- Softball \n",
    "- Football"
   ]
  },
  {
   "cell_type": "code",
   "execution_count": 26,
   "id": "4c04daa5-184c-40e4-b82d-444ef0ae9e79",
   "metadata": {},
   "outputs": [
    {
     "name": "stdout",
     "output_type": "stream",
     "text": [
      "<re.Match object; span=(0, 8), match='Baseball'>\n"
     ]
    }
   ],
   "source": [
    "print(find_pattern('(Basket|Base|Volley|Soft|Foot)ball','BaseballCricket'))"
   ]
  },
  {
   "cell_type": "markdown",
   "id": "bd586cb0-48a0-49c3-805b-9fe47f437f57",
   "metadata": {},
   "source": [
    "## Special Characters\n",
    "\n",
    "Lastly, we will often find ourself in situations where we will need to mention characters such as ‘?’, ‘*’, ‘+’, ‘(‘, ‘)’, ‘{‘, etc. in our regular expressions. These are called special characters since they have special meanings when they appear inside a  regex pattern.\n",
    "\n",
    "Suppose we want to extract all the questions from a document, and we assume that all questions end with a question mark - ‘?’. So we would need to use the ‘?’ in the regular expression. Now, we already know that ‘?’ has a special meaning in regular expressions.\n",
    "\n",
    "In situations such as these, we’ll need to use escape sequences. The escape sequence, denoted by a backslash ‘\\’, is used to escape the special meaning of the special characters.\n",
    "\n",
    "The '\\' itself is a special character, and to match the ‘\\’ character literally, we need to escape it too. We can use the pattern ‘\\\\’ to escape the backslash."
   ]
  },
  {
   "cell_type": "markdown",
   "id": "78a95670-dffb-466a-9b25-23d020dbaeaf",
   "metadata": {},
   "source": [
    "#### Question: Write a regular expression that returns True when passed a multiplication equation. For any other equation, it should return False. In other words, it should return True if there an asterisk - ‘*’ - present in the equation.\n",
    "\n",
    "Sample positive cases (should match all of these):\n",
    "- 3a*4b\n",
    "- 3*2\n",
    "- 4 * 5 * 6=120\n",
    "\n",
    "Sample negative cases (shouldn't match either of these):\n",
    "- 5+3=8 \n",
    "- 3%2=1\n"
   ]
  },
  {
   "cell_type": "code",
   "execution_count": 27,
   "id": "e8abe7e8-7d18-45b6-9c08-dbb398d45313",
   "metadata": {},
   "outputs": [],
   "source": [
    "import warnings\n",
    "warnings.filterwarnings('ignore')"
   ]
  },
  {
   "cell_type": "code",
   "execution_count": 28,
   "id": "b6e208ef-2bac-41ff-b8b6-f8e54211a45d",
   "metadata": {},
   "outputs": [],
   "source": [
    "def validate_multiplication(text):\n",
    "    if re.search('\\*',text):\n",
    "        return 'True'\n",
    "    else:\n",
    "        return 'False'"
   ]
  },
  {
   "cell_type": "code",
   "execution_count": 29,
   "id": "97957320-42d4-4f4a-9a8d-3986230169b5",
   "metadata": {},
   "outputs": [
    {
     "data": {
      "text/plain": [
       "'True'"
      ]
     },
     "execution_count": 29,
     "metadata": {},
     "output_type": "execute_result"
    }
   ],
   "source": [
    "validate_multiplication('3a*4b')"
   ]
  },
  {
   "cell_type": "code",
   "execution_count": 30,
   "id": "382bd357-b1a4-4953-b16a-cc0f8295fb76",
   "metadata": {},
   "outputs": [
    {
     "data": {
      "text/plain": [
       "'False'"
      ]
     },
     "execution_count": 30,
     "metadata": {},
     "output_type": "execute_result"
    }
   ],
   "source": [
    "validate_multiplication('5+3')"
   ]
  },
  {
   "cell_type": "markdown",
   "id": "bacfc361-9639-4368-8337-bcff8ec90add",
   "metadata": {},
   "source": [
    "## Regex flags\n",
    "\n",
    "A flag has a special meaning. For example, if we want our regex to ignore the case of the text then we can pass the 're.I' flag. Similarly, we can have a flag with the syntax re.M that enables us to search in multiple lines (in case the input text has multiple lines). We can pass all these flags in the re.search() function. The syntax to pass multiple flags is:\n",
    "\n",
    "re.search(pattern, string, flags=re.I | re.M)"
   ]
  },
  {
   "cell_type": "code",
   "execution_count": 31,
   "id": "fa97a54a-b2dd-492d-a33b-fe536065a2d0",
   "metadata": {},
   "outputs": [
    {
     "name": "stdout",
     "output_type": "stream",
     "text": [
      "Case insensitive search result is <re.Match object; span=(10, 14), match='data'>\n",
      "Case sensitive search result is None\n"
     ]
    }
   ],
   "source": [
    "string = 'Neha is a data Enthusiast'\n",
    "pattern = 'Data'\n",
    "\n",
    "result1 = re.search(pattern,string, flags=re.I)\n",
    "\n",
    "print('Case insensitive search result is {0}'.format(result1))\n",
    "\n",
    "result2 = re.search(pattern,string)\n",
    "\n",
    "print('Case sensitive search result is {0}'.format(result2))"
   ]
  },
  {
   "cell_type": "markdown",
   "id": "3b913002-edb0-40dc-89f1-1e82fa6ee454",
   "metadata": {},
   "source": [
    "## re.complie() v/s re.search()\n",
    "\n",
    "<b>re.compile()</b>\n",
    "\n",
    " - <b>Purpose:</b> Creates a compiled regular expression object that can be reused for multiple operations (e.g., searching, matching, finding all occurrences, etc.).\n",
    "\n",
    " - <b>Usage:</b> It is used when the same regular expression will be applied multiple times. This is more efficient since the regex is compiled once and reused.\n",
    "\n",
    "<b>re.search()</b>\n",
    "\n",
    " - <b>Purpose:</b> Searches for the first occurrence of a pattern in a string.\n",
    " \n",
    " - <b>Usage:</b> It is used for a one-time search in a given string. It directly returns a match object or None."
   ]
  },
  {
   "cell_type": "code",
   "execution_count": 32,
   "id": "3c6a080f-273a-4ce8-a1a8-0f19b7085dcc",
   "metadata": {},
   "outputs": [
    {
     "name": "stdout",
     "output_type": "stream",
     "text": [
      "Data\n",
      "Data\n"
     ]
    }
   ],
   "source": [
    "# Compile the regex\n",
    "pattern = re.compile('data', flags=re.I)\n",
    "\n",
    "# Reuse the compiled pattern for multiple operations\n",
    "result1 = pattern.search(\"Neha loves Data Science\")\n",
    "result2 = pattern.search(\"Data drives insights\")\n",
    "\n",
    "print(result1.group())  # Output: Data\n",
    "print(result2.group())  # Output: Data\n"
   ]
  },
  {
   "cell_type": "code",
   "execution_count": 33,
   "id": "bd79d93a-9c48-488a-b29c-585d0fffa008",
   "metadata": {},
   "outputs": [
    {
     "name": "stdout",
     "output_type": "stream",
     "text": [
      "Data\n"
     ]
    }
   ],
   "source": [
    "# Directly use re.search\n",
    "result = re.search('data', \"Neha loves Data Science\", flags=re.I)\n",
    "\n",
    "if result:\n",
    "    print(result.group())  # Output: Data\n"
   ]
  },
  {
   "cell_type": "markdown",
   "id": "8e89abce-af16-4f36-8a1f-67fc4841f32c",
   "metadata": {},
   "source": [
    "## Anchors\n",
    "\n",
    "Anchors are used to specify the start and end of the string. \n",
    "\n",
    "- <b>'^'</b>\n",
    "\n",
    "    It specifies the start of the string. The character followed by the ‘^’ in the pattern should be the first character of the string in order for a string to match the pattern\n",
    "\n",
    "- <b>'$'</b>\n",
    "\n",
    "    It specifies the end of the string. The character that precedes the ‘$’ in the pattern should be the last character in the string in order for the string to match the pattern\n",
    "\n",
    "\n",
    "Both the anchors can be specified in a single regular expression itself. For example, the regular expression pattern ‘^01*0$’ will match any string that starts and end with zeroes with any number of 1s between them."
   ]
  },
  {
   "cell_type": "markdown",
   "id": "9bb799da-f9b8-4302-b6ff-9afe167deb4b",
   "metadata": {},
   "source": [
    "#### Question: Write a pattern that matches all the dictionary words that start with ‘A’\n",
    "\n",
    "Positive matches (should match all of these):\n",
    "- Avenger\n",
    "- Acute\n",
    "- Altruism\n",
    "\n",
    "Negative match (shouldn’t match any of these):\n",
    "- Bribe\n",
    "- 10\n",
    "- Zenith"
   ]
  },
  {
   "cell_type": "code",
   "execution_count": 34,
   "id": "fc41be1f-a8db-4280-a1d8-b660a9400643",
   "metadata": {},
   "outputs": [],
   "source": [
    "def find_pattern_ignorecase(pattern,text):\n",
    "    if re.search(pattern,text,flags=re.I):\n",
    "        return re.search(pattern,text,flags=re.I)\n",
    "    else:\n",
    "        return 'Pattern Not Found'"
   ]
  },
  {
   "cell_type": "code",
   "execution_count": 35,
   "id": "427c7c82-da0a-45b2-91d1-3001246b5367",
   "metadata": {},
   "outputs": [
    {
     "name": "stdout",
     "output_type": "stream",
     "text": [
      "<re.Match object; span=(0, 1), match='A'>\n",
      "<re.Match object; span=(0, 1), match='a'>\n",
      "Pattern Not Found\n"
     ]
    }
   ],
   "source": [
    "print(find_pattern_ignorecase('^A','Avenger'))\n",
    "print(find_pattern_ignorecase('^A','acute'))\n",
    "print(find_pattern_ignorecase('^A','10'))"
   ]
  },
  {
   "cell_type": "markdown",
   "id": "5ad6b475-5f5a-48c3-808d-9749369f497b",
   "metadata": {},
   "source": [
    "#### Question: Write a pattern which matches a word that ends with ‘ing’. Words such as ‘playing’, ‘growing’, ‘raining’, etc. should match while words that don’t have ‘ing’ at the end shouldn’t match."
   ]
  },
  {
   "cell_type": "code",
   "execution_count": 36,
   "id": "feeb15ca-7f85-4b0e-ba3a-46e5ce2df0bd",
   "metadata": {},
   "outputs": [
    {
     "name": "stdout",
     "output_type": "stream",
     "text": [
      "<re.Match object; span=(4, 7), match='ing'>\n",
      "Pattern Not Found\n"
     ]
    }
   ],
   "source": [
    "print(find_pattern_ignorecase('ing$','playing'))\n",
    "print(find_pattern_ignorecase('ing$','sothig'))"
   ]
  },
  {
   "cell_type": "markdown",
   "id": "5beb2f7d-1bd1-4765-bf70-d344653b261e",
   "metadata": {},
   "source": [
    "#### Question: Write a regular expression that matches any string that starts with one or more ‘1’s, followed by three or more ‘0’s, followed by any number of ones (zero or more), followed by ‘0’s (from one to seven), and then ends with either two or three ‘1’s."
   ]
  },
  {
   "cell_type": "code",
   "execution_count": 37,
   "id": "f7a19436-c630-4f98-873e-ea70d8cff863",
   "metadata": {},
   "outputs": [
    {
     "name": "stdout",
     "output_type": "stream",
     "text": [
      "Pattern Not Found!\n",
      "<re.Match object; span=(0, 14), match='11000011000111'>\n"
     ]
    }
   ],
   "source": [
    "print(find_pattern('^1{1,}0{3,}1*0{1,7}1{2,3}$','00001100011111'))\n",
    "print(find_pattern('^1{1,}0{3,}1*0{1,7}1{2,3}$','11000011000111'))"
   ]
  },
  {
   "cell_type": "markdown",
   "id": "708cea28-7d0e-44a8-8df1-e9fa7e5f5abe",
   "metadata": {},
   "source": [
    "## Wildcards\n",
    "\n",
    "There is one special character in regular expressions that acts as a placeholder and can match any character (literally!) in the given input string. It’s the ‘.’ (dot) character that is also called the wildcard character."
   ]
  },
  {
   "cell_type": "code",
   "execution_count": 38,
   "id": "f245f6b9-fe10-4e86-ae5b-44a0748bbe02",
   "metadata": {},
   "outputs": [
    {
     "name": "stdout",
     "output_type": "stream",
     "text": [
      "<re.Match object; span=(0, 1), match='a'>\n",
      "<re.Match object; span=(0, 1), match='#'>\n",
      "<re.Match object; span=(0, 1), match='1'>\n",
      "Pattern Not Found\n"
     ]
    }
   ],
   "source": [
    "print(find_pattern_ignorecase('.','adaadad'))\n",
    "print(find_pattern_ignorecase('.','#'))\n",
    "print(find_pattern_ignorecase('.','123233'))\n",
    "print(find_pattern_ignorecase('.',''))"
   ]
  },
  {
   "cell_type": "markdown",
   "id": "340724e9-4a78-4847-bca6-8a7f93867e86",
   "metadata": {},
   "source": [
    "#### Question: Write a regular expression to match first names (consider only first names, i.e. there are no spaces in a name) that have length between three and fifteen characters.\n",
    "\n",
    "Sample positive match:\n",
    "Amandeep\n",
    "Krishna\n",
    "\n",
    "Sample negative match:\n",
    "Balasubrahmanyam"
   ]
  },
  {
   "cell_type": "code",
   "execution_count": 39,
   "id": "ee56ddd4-8449-4dcd-9e2b-e3e97d34099c",
   "metadata": {},
   "outputs": [
    {
     "name": "stdout",
     "output_type": "stream",
     "text": [
      "<re.Match object; span=(0, 8), match='Amandeep'>\n",
      "Pattern Not Found!\n"
     ]
    }
   ],
   "source": [
    "print(find_pattern('^.{3,15}$','Amandeep'))\n",
    "print(find_pattern('^.{3,15}$','Balasubrahmanyam'))"
   ]
  },
  {
   "cell_type": "markdown",
   "id": "e0d934ac-9e1b-4f1f-815b-5a5efee217ac",
   "metadata": {},
   "source": [
    "## Character Sets\n",
    "\n",
    "For example, say we want to match phone numbers in a large document. We know that the numbers may contain hyphens, plus symbol etc. (e.g. +91-9930839123), but it will not have any alphabet. We need to somehow specify that we are looking only for numerics and some other symbols, but avoid alphabets.\n",
    "\n",
    "To handle such situations, we can use what are called character sets in regular expression jargon."
   ]
  },
  {
   "cell_type": "code",
   "execution_count": 40,
   "id": "7182f26f-9862-4a1c-8559-091234c5c2e8",
   "metadata": {},
   "outputs": [
    {
     "name": "stdout",
     "output_type": "stream",
     "text": [
      "<re.Match object; span=(0, 1), match='a'>\n",
      "<re.Match object; span=(0, 1), match='c'>\n",
      "Pattern Not Found!\n",
      "<re.Match object; span=(0, 3), match='ted'>\n",
      "<re.Match object; span=(1, 4), match='ted'>\n"
     ]
    }
   ],
   "source": [
    "print(find_pattern('[abc]','a'))\n",
    "print(find_pattern('[a-c]','c'))\n",
    "print(find_pattern('[a-c]','d'))\n",
    "print(find_pattern('[a-z]ed','ted'))\n",
    "print(find_pattern('[a-z]ed','ated'))"
   ]
  },
  {
   "cell_type": "code",
   "execution_count": 41,
   "id": "15561e71-ef57-468d-adf8-4f7caff77870",
   "metadata": {},
   "outputs": [
    {
     "name": "stdout",
     "output_type": "stream",
     "text": [
      "Pattern Not Found!\n",
      "<re.Match object; span=(0, 3), match='ted'>\n"
     ]
    }
   ],
   "source": [
    "# character set with anchors\n",
    "print(find_pattern('^[a-z]ed','ated'))\n",
    "print(find_pattern('^[a-z]ed','ted'))"
   ]
  },
  {
   "cell_type": "markdown",
   "id": "f132a83b-f701-4257-a651-c6cee88d3213",
   "metadata": {},
   "source": [
    "#### Note that a quantifier loses its special meaning when it’s present inside the character set. Inside square brackets, it is treated as any other character."
   ]
  },
  {
   "cell_type": "code",
   "execution_count": 42,
   "id": "739b74fe-7b5b-4918-a07b-fc8f318e30e1",
   "metadata": {},
   "outputs": [
    {
     "name": "stdout",
     "output_type": "stream",
     "text": [
      "<re.Match object; span=(1, 4), match='ted'>\n",
      "<re.Match object; span=(2, 5), match='*ed'>\n"
     ]
    }
   ],
   "source": [
    "print(find_pattern('[a-z*]ed','ated'))\n",
    "print(find_pattern('[a-z*]ed','at*ed'))"
   ]
  },
  {
   "cell_type": "markdown",
   "id": "40f0d847-3f34-490f-ba77-2d6436a675d8",
   "metadata": {},
   "source": [
    "#### Complement operator in a character set\n",
    "\n",
    "^ when used inside a character set, it acts as a complement operator, i.e. it specifies that it will match any character other than the ones mentioned inside the character set"
   ]
  },
  {
   "cell_type": "code",
   "execution_count": 43,
   "id": "ebdedb28-77d2-433d-801d-a296d75cd28b",
   "metadata": {},
   "outputs": [
    {
     "name": "stdout",
     "output_type": "stream",
     "text": [
      "Pattern Not Found!\n",
      "<re.Match object; span=(0, 1), match='d'>\n"
     ]
    }
   ],
   "source": [
    "print(find_pattern('[^abc]','a'))  # return true if neither of these is present - a,b or c\n",
    "print(find_pattern('[^abc]','d'))  # return true if neither of these is present - a,b or c"
   ]
  },
  {
   "cell_type": "markdown",
   "id": "35935670-3142-45ea-a3b8-04c5d93cbd9b",
   "metadata": {},
   "source": [
    "### Character sets\n",
    "| Pattern  | Matches                                                                                    |\n",
    "|----------|--------------------------------------------------------------------------------------------|\n",
    "| [abc]    | Matches either an a, b or c character                                                      |\n",
    "| [abcABC] | Matches either an a, A, b, B, c or C character                                             |\n",
    "| [a-z]    | Matches any characters between a and z, including a and z                                  |\n",
    "| [A-Z]    | Matches any characters between A and Z, including A and Z                                  |\n",
    "| [a-zA-Z] | Matches any characters between a and z, including a and z ignoring cases of the characters |\n",
    "| [0-9]    | Matches any character which is a number between 0 and 9                                    |"
   ]
  },
  {
   "cell_type": "markdown",
   "id": "7c37592b-353c-4229-9161-49168e1bbde9",
   "metadata": {},
   "source": [
    "## Meta Sequences\n",
    "\n",
    "It is a shorthand way to write commonly used character sets in regular expressions.\n",
    "\n",
    "| Pattern  | Equivalent to    |\n",
    "|----------|------------------|\n",
    "| \\s       | [ \\t\\n\\r\\f\\v]    |\n",
    "| \\S       | [^ \\t\\n\\r\\f\\v]   |\n",
    "| \\d       | [0-9]            |\n",
    "| \\D       | [^0-9]           |\n",
    "| \\w       | [a-zA-Z0-9_]     |\n",
    "| \\W       | [^a-zA-Z0-9_]    |\n",
    "\n",
    "\n",
    "We can use meta-sequences in two ways:\n",
    "\n",
    "\n",
    "- We can either use them without the square brackets. For example, the pattern ‘\\w+’ will match any alphanumeric character.\n",
    "\n",
    "- Or we can use it inside the square brackets. For example, the pattern ‘[\\w]+’ is same as ‘\\w+’. But when we use meta-sequences inside a square bracket, they’re commonly used along with other meta-sequences. For example, the ‘[\\w\\s]+’ matches both alphanumeric characters and whitespaces. The square brackets are used to group these two meta-sequences into one."
   ]
  },
  {
   "cell_type": "code",
   "execution_count": 44,
   "id": "eac9c126-d436-4379-82ee-8902c42440ad",
   "metadata": {},
   "outputs": [
    {
     "name": "stdout",
     "output_type": "stream",
     "text": [
      "Pattern Not Found!\n",
      "<re.Match object; span=(4, 5), match=' '>\n",
      "Pattern Not Found!\n",
      "<re.Match object; span=(16, 20), match='2025'>\n",
      "<re.Match object; span=(4, 5), match=' '>\n"
     ]
    }
   ],
   "source": [
    "print(find_pattern('\\s+','Data')) \n",
    "print(find_pattern('\\s+','Data Science')) \n",
    "print(find_pattern('\\d+','Data'))\n",
    "print(find_pattern('\\d+','Data Science in 2025'))\n",
    "print(find_pattern('[\\s\\d+]','Data Science in 2025'))"
   ]
  },
  {
   "cell_type": "markdown",
   "id": "ced44575-6124-4d1e-8784-8d516ef06fd9",
   "metadata": {},
   "source": [
    "#### Question: Write a regular expression with the help of meta-sequences that matches usernames of the users of a database. The username starts with alphabets of length one to ten characters long and then followed by a number of length 4.\n",
    "\n",
    "Sample positive matches:\n",
    "\n",
    "- sam2340 \n",
    "- irfann2590 \n",
    "\n",
    "Sample negative matches:\n",
    "\n",
    "- 8730 \n",
    "- bobby9073834 \n",
    "- sameer728 \n",
    "- radhagopalaswamy7890 "
   ]
  },
  {
   "cell_type": "code",
   "execution_count": 45,
   "id": "194531f7-730a-4990-9d79-8d50949a8f00",
   "metadata": {},
   "outputs": [
    {
     "name": "stdout",
     "output_type": "stream",
     "text": [
      "<re.Match object; span=(0, 7), match='sam2340'>\n",
      "<re.Match object; span=(0, 10), match='irfann2590'>\n",
      "Pattern Not Found!\n",
      "Pattern Not Found!\n",
      "Pattern Not Found!\n",
      "Pattern Not Found!\n"
     ]
    }
   ],
   "source": [
    "print(find_pattern('^[a-zA-Z]{1,10}\\d{4}$','sam2340')) \n",
    "print(find_pattern('^[a-zA-Z]{1,10}\\d{4}$','irfann2590')) \n",
    "print(find_pattern('^[a-zA-Z]{1,10}\\d{4}$','8730')) \n",
    "print(find_pattern('^[a-zA-Z]{1,10}\\d{4}$','bobby9073834')) \n",
    "print(find_pattern('^[a-zA-Z]{1,10}\\d{4}$','sameer728')) \n",
    "print(find_pattern('^[a-zA-Z]{1,10}\\d{4}$','radhagopalaswamy7890')) "
   ]
  },
  {
   "cell_type": "markdown",
   "id": "4eea8c6f-e113-4a1a-9246-053846b499c9",
   "metadata": {},
   "source": [
    "## Greedy v/s Non-Greedy Search\n",
    "\n",
    "When we use a regular expression to match a string, the regex greedily tries to look for the longest pattern possible in the string. For example, when we specify the pattern 'ab{3,5}' to match the string 'abbbbb', it will look for the maximum number of occurrences of 'b' (in this case 5).\n",
    "\n",
    "This is called a 'greedy approach'. By default, a regular expression is greedy in nature.\n",
    "\n",
    "There is another approach called the non-greedy approach, also called the lazy approach, where the regex stops looking for the pattern once a particular condition is satisfied."
   ]
  },
  {
   "cell_type": "code",
   "execution_count": 46,
   "id": "2a1922ba-aa5e-461f-b13f-429fa8ba68c0",
   "metadata": {},
   "outputs": [
    {
     "name": "stdout",
     "output_type": "stream",
     "text": [
      "<re.Match object; span=(1, 7), match='abbbbb'>\n"
     ]
    }
   ],
   "source": [
    "# Greedy Search\n",
    "print(find_pattern('ab{3,5}','aabbbbbbc'))"
   ]
  },
  {
   "cell_type": "code",
   "execution_count": 47,
   "id": "e6b182fc-61f9-4797-a8be-dcae509c0471",
   "metadata": {},
   "outputs": [
    {
     "name": "stdout",
     "output_type": "stream",
     "text": [
      "<re.Match object; span=(1, 5), match='abbb'>\n"
     ]
    }
   ],
   "source": [
    "# Non-Greedy Search - achieved with ?\n",
    "print(find_pattern('ab{3,5}?','aabbbbbbc'))"
   ]
  },
  {
   "cell_type": "code",
   "execution_count": 48,
   "id": "fd1c93e7-a162-4441-ac5d-ad28bfc7311c",
   "metadata": {},
   "outputs": [
    {
     "name": "stdout",
     "output_type": "stream",
     "text": [
      "<re.Match object; span=(0, 35), match='<HTML><TITLE>My Page</TITLE></HTML>'>\n"
     ]
    }
   ],
   "source": [
    "# Real time this can be used for searching text from a web page\n",
    "\n",
    "print(re.search(\"<.*>\",\"<HTML><TITLE>My Page</TITLE></HTML>\"))"
   ]
  },
  {
   "cell_type": "code",
   "execution_count": 49,
   "id": "82a01f48-2a4e-4bca-9a0e-bf03caa68d3a",
   "metadata": {},
   "outputs": [
    {
     "name": "stdout",
     "output_type": "stream",
     "text": [
      "<re.Match object; span=(0, 6), match='<HTML>'>\n"
     ]
    }
   ],
   "source": [
    "# In the above example, since its sample HTML content, it is fine to retrieve entire text but in real time it would have thousands of characters. Hence we can use lazy search approach as below\n",
    "\n",
    "print(re.search(\"<.*?>\",\"<HTML><TITLE>My Page</TITLE></HTML>\"))"
   ]
  },
  {
   "cell_type": "markdown",
   "id": "d6a54e01-acd7-4f4a-9123-06f0e54d8f8a",
   "metadata": {},
   "source": [
    "#### It is important to not confuse the greedy approach with matching multiple strings in a large piece of text - these are different use cases. Similarly,  the lazy approach is different from matching only the first match.\n",
    "\n",
    "For example, take the string ‘One batsman among many batsmen.’. If we run the patterns ‘bat*’ and ‘bat*?’ on this text, the pattern ‘bat*’ will match the substring ‘bat’ in ‘batsman’ and ‘bat’ in ‘batsmen’ while the pattern ‘bat*?’ will match the substring ‘ba’ in batsman and ‘ba’ in ‘batsmen’. The pattern ‘bat*’ means look for the term ‘ba’ followed by zero or more ‘t’s so it greedily looks for as many ‘t’s as possible and the search ends at the substring ‘bat’. On the other hand, the pattern ‘bat*?’ will look for as few ‘t’s as possible. Since ‘*’ indicates zero or more, the lazy approach stops the search at ‘ba’."
   ]
  },
  {
   "cell_type": "code",
   "execution_count": 50,
   "id": "503af64a-219d-47e2-b8ef-a87d08669e52",
   "metadata": {},
   "outputs": [
    {
     "name": "stdout",
     "output_type": "stream",
     "text": [
      "<re.Match object; span=(4, 7), match='bat'>\n"
     ]
    }
   ],
   "source": [
    "print(find_pattern('bat*','One batsman among many batsmen.'))"
   ]
  },
  {
   "cell_type": "code",
   "execution_count": 51,
   "id": "113e2a55-ccc4-4732-8f2e-dd397c66090d",
   "metadata": {},
   "outputs": [
    {
     "name": "stdout",
     "output_type": "stream",
     "text": [
      "<re.Match object; span=(4, 6), match='ba'>\n"
     ]
    }
   ],
   "source": [
    "print(find_pattern('bat*?','One batsman among many batsmen.'))"
   ]
  },
  {
   "cell_type": "markdown",
   "id": "39eaba47-c856-4489-a774-2c1431811a77",
   "metadata": {},
   "source": [
    "## Function of re\n",
    "\n",
    "- match() Determine if the regular expression matches at the beginning of the string\n",
    "\n",
    "- search() Scan through a string, looking for any location where this regular expression matches\n",
    "\n",
    "- sub() Find all substrings where the regular expression matches and substitute them with the given string\n",
    "\n",
    "- finditer() Find all substrings where regular expression matches and return them as an iterator\n",
    "\n",
    "- findall() Find all the substrings where the regular expression matches, and return them as a list"
   ]
  },
  {
   "cell_type": "markdown",
   "id": "6bf4417e-10a2-4be8-a7a8-edccaeaf759a",
   "metadata": {},
   "source": [
    "#### re.search() v/s re.match()"
   ]
  },
  {
   "cell_type": "code",
   "execution_count": 52,
   "id": "64e19208-f710-4caf-b25c-bc2e150709c1",
   "metadata": {},
   "outputs": [],
   "source": [
    "def match_pattern(pattern, text):\n",
    "    if re.match(pattern, text):\n",
    "        return re.match(pattern, text)\n",
    "    else:\n",
    "        return ('Match Not found!')"
   ]
  },
  {
   "cell_type": "code",
   "execution_count": 53,
   "id": "d26449dd-a410-45c1-83c7-7582b67eb33e",
   "metadata": {},
   "outputs": [
    {
     "name": "stdout",
     "output_type": "stream",
     "text": [
      "<re.Match object; span=(1, 3), match='bb'>\n"
     ]
    }
   ],
   "source": [
    "# using re.search()\n",
    "print(find_pattern('b+','abbc'))"
   ]
  },
  {
   "cell_type": "code",
   "execution_count": 54,
   "id": "689dc680-c5a1-40a8-acbd-cfc90a2a242b",
   "metadata": {},
   "outputs": [
    {
     "name": "stdout",
     "output_type": "stream",
     "text": [
      "Match Not found!\n"
     ]
    }
   ],
   "source": [
    "# using re.match()\n",
    "print(match_pattern('b+','abbc')) "
   ]
  },
  {
   "cell_type": "markdown",
   "id": "cf311eb9-9cd1-4dc3-8fc2-8813cc5a59cf",
   "metadata": {},
   "source": [
    "#### re.sub()\n",
    "\n",
    "The re.sub() function is used to substitute a part of our string using a regex pattern. It is often the case when we want to replace a substring of our string where the substring has a particular pattern that can be matched by the regex engine and then it is replaced by the re.sub() command. "
   ]
  },
  {
   "cell_type": "code",
   "execution_count": 55,
   "id": "a6c2ab3c-6ed2-4466-bc41-aa992cf0a654",
   "metadata": {},
   "outputs": [
    {
     "data": {
      "text/plain": [
       "'16D Rajajinagar Main Rd'"
      ]
     },
     "execution_count": 55,
     "metadata": {},
     "output_type": "execute_result"
    }
   ],
   "source": [
    "# Replace text Road with Rd\n",
    "address = '16D Rajajinagar Main Road'\n",
    "re.sub('Road','Rd', address)"
   ]
  },
  {
   "cell_type": "code",
   "execution_count": 56,
   "id": "7f1fb553-65c7-4c9e-8b83-6ad8c2e3ce36",
   "metadata": {},
   "outputs": [
    {
     "data": {
      "text/plain": [
       "'16D Rd Main Rd'"
      ]
     },
     "execution_count": 56,
     "metadata": {},
     "output_type": "execute_result"
    }
   ],
   "source": [
    "# Lets try with a pattern for above example\n",
    "address = '16D Rajajinagar Main Road'\n",
    "re.sub('R\\w+','Rd', address)"
   ]
  },
  {
   "cell_type": "markdown",
   "id": "78c0d422-650f-4a31-ae66-a1f585e505cd",
   "metadata": {},
   "source": [
    "#### re.finditer() & re.finalall()\n",
    "\n",
    "The match and search command returns only one match. But we often need to extract all the matches rather than only the first match, and that's when we use the other methods - findall() and finditer()\n",
    "\n",
    "The result of the findall() function is a list of all the matches and the finditer() function is used in a 'for' loop to iterate through each separate match one by one."
   ]
  },
  {
   "cell_type": "code",
   "execution_count": 57,
   "id": "b1f48078-6be4-4f8a-bca0-0a3657e4c2bc",
   "metadata": {},
   "outputs": [
    {
     "name": "stdout",
     "output_type": "stream",
     "text": [
      "START - 12 END - 20\n",
      "START - 42 END - 50\n"
     ]
    }
   ],
   "source": [
    "# Example usage of finditer(). Find all occurrences of word Festival in given sentence\n",
    "\n",
    "text = 'Diwali is a festival of lights, Holi is a festival of colors!'\n",
    "pattern = 'festival'\n",
    "\n",
    "for match in re.finditer(pattern,text):\n",
    "    print('START -', match.start(), end=\" \")\n",
    "    print('END -', match.end())"
   ]
  },
  {
   "cell_type": "code",
   "execution_count": 58,
   "id": "c3e9e9da-f2a2-4498-baa4-8b3aa2128ef9",
   "metadata": {},
   "outputs": [
    {
     "data": {
      "text/plain": [
       "['festival', 'festival']"
      ]
     },
     "execution_count": 58,
     "metadata": {},
     "output_type": "execute_result"
    }
   ],
   "source": [
    "# using findall\n",
    "re.findall(pattern,text)"
   ]
  },
  {
   "cell_type": "code",
   "execution_count": 59,
   "id": "5484f36b-32db-4f5e-866d-a0c8156f7d74",
   "metadata": {},
   "outputs": [
    {
     "name": "stdout",
     "output_type": "stream",
     "text": [
      "[('2017', '10', '28'), ('2017', '05', '12')]\n"
     ]
    }
   ],
   "source": [
    "# Another example usage of findall(). In the given URL find all dates\n",
    "url = \"http://www.telegraph.co.uk/formula-1/2017/10/28/mexican-grand-prix-2017-time-does-start-tv-channel-odds-lewisl/2017/05/12\"\n",
    "date_regex = '(\\d{4})/(\\d{1,2})/(\\d{1,2})'\n",
    "print(re.findall(date_regex, url))"
   ]
  },
  {
   "cell_type": "markdown",
   "id": "8a88bf5c-98ae-4993-a23d-98905d38f0d6",
   "metadata": {},
   "source": [
    "## Regular Expressions Grouping\n",
    "\n",
    "Sometimes we need to extract sub-patterns out of a larger pattern. This can be done by using grouping. Suppose we have textual data with dates in it and we want to extract only the year from the dates. We can use a regular expression pattern with grouping to match dates and then we can extract the component elements such as the day, month or the year from the date.\n",
    "\n",
    "Grouping is achieved using the parenthesis operators."
   ]
  },
  {
   "cell_type": "code",
   "execution_count": 60,
   "id": "0fda0443-d2b4-4bad-ab1a-aef7f82ead86",
   "metadata": {},
   "outputs": [],
   "source": [
    "result = re.search(date_regex, url)"
   ]
  },
  {
   "cell_type": "code",
   "execution_count": 61,
   "id": "c476d46c-9347-456a-bdfd-d0086212396d",
   "metadata": {},
   "outputs": [
    {
     "data": {
      "text/plain": [
       "'2017/10/28'"
      ]
     },
     "execution_count": 61,
     "metadata": {},
     "output_type": "execute_result"
    }
   ],
   "source": [
    "result.group(0) # returns the default search string"
   ]
  },
  {
   "cell_type": "code",
   "execution_count": 62,
   "id": "c94c2240-54a4-438d-b2c3-fc4bc992bdc6",
   "metadata": {},
   "outputs": [
    {
     "data": {
      "text/plain": [
       "'2017'"
      ]
     },
     "execution_count": 62,
     "metadata": {},
     "output_type": "execute_result"
    }
   ],
   "source": [
    "result.group(1)"
   ]
  },
  {
   "cell_type": "code",
   "execution_count": 63,
   "id": "58a2a9fc-cb9c-41a8-82a0-37bf5ef962d7",
   "metadata": {},
   "outputs": [
    {
     "data": {
      "text/plain": [
       "'10'"
      ]
     },
     "execution_count": 63,
     "metadata": {},
     "output_type": "execute_result"
    }
   ],
   "source": [
    "result.group(2)"
   ]
  },
  {
   "cell_type": "code",
   "execution_count": 64,
   "id": "83b18b44-1e05-4ae4-b3de-eaa9e5734304",
   "metadata": {},
   "outputs": [
    {
     "data": {
      "text/plain": [
       "'28'"
      ]
     },
     "execution_count": 64,
     "metadata": {},
     "output_type": "execute_result"
    }
   ],
   "source": [
    "result.group(3)"
   ]
  },
  {
   "cell_type": "code",
   "execution_count": 65,
   "id": "a2048bad-39c7-4f0f-b575-c350a3be7802",
   "metadata": {},
   "outputs": [],
   "source": [
    "# Another example\n",
    "result = re.search('(\\d{2})-(\\d{2})-(\\d{4})','I have a flight on 14-09-2018')"
   ]
  },
  {
   "cell_type": "code",
   "execution_count": 66,
   "id": "d4103f4f-754d-43a1-adc3-edabb76f49e2",
   "metadata": {},
   "outputs": [
    {
     "data": {
      "text/plain": [
       "'2018'"
      ]
     },
     "execution_count": 66,
     "metadata": {},
     "output_type": "execute_result"
    }
   ],
   "source": [
    "result.group(3)"
   ]
  },
  {
   "cell_type": "code",
   "execution_count": null,
   "id": "8846a784-15b7-413e-a502-be2126351dab",
   "metadata": {},
   "outputs": [],
   "source": []
  }
 ],
 "metadata": {
  "kernelspec": {
   "display_name": "Python 3 (ipykernel)",
   "language": "python",
   "name": "python3"
  },
  "language_info": {
   "codemirror_mode": {
    "name": "ipython",
    "version": 3
   },
   "file_extension": ".py",
   "mimetype": "text/x-python",
   "name": "python",
   "nbconvert_exporter": "python",
   "pygments_lexer": "ipython3",
   "version": "3.12.1"
  }
 },
 "nbformat": 4,
 "nbformat_minor": 5
}
