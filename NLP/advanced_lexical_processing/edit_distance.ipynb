{
 "cells": [
  {
   "cell_type": "markdown",
   "id": "079203ee-2e33-4c77-9b83-9a8e4c5c067e",
   "metadata": {},
   "source": [
    "# Edit Distance\n",
    "\n",
    "As Phonetic Hashing helps in dealing with different pronunciations of a particular word, similarly we need a technique to deal with misspellings which needs to be corrected in order to be stem or lemmatize efficiently. \n",
    "\n",
    "In other words, all misspelt words need to be canonicalised to the base form, which is the correct spelling of that word. This can be achieved with the concept of <b>Edit Distance</b>.\n",
    "\n",
    "An <b>edit distance</b> is the minimum number of edits required to convert one string to another. Possible edits are \n",
    "\n",
    "- Insertion of a letter: To convert ‘color’ to ‘colour’, we need to insert the letter ‘u’ in the source string.\n",
    "\n",
    "- Deletion of a letter: To convert ‘Matt’ to ‘Mat’, we need to delete one of the ‘t’s from the source string.\n",
    "\n",
    "- Modification/Substitution of a letter: To convert ‘Iran’ to ‘Iraq’, you need to substitute ‘n’ with ‘q’\n",
    "\n",
    "It is also called as Levenshtein edit distance."
   ]
  },
  {
   "cell_type": "code",
   "execution_count": 1,
   "id": "6f9c8c03-cd4e-467f-8288-41a6623d159f",
   "metadata": {},
   "outputs": [],
   "source": [
    "def lev_distance(source='', target=''):\n",
    "    \"\"\"Make a Levenshtein Distances Matrix\"\"\"\n",
    "    \n",
    "    # get length of both strings\n",
    "    n1, n2 = len(source), len(target)\n",
    "    \n",
    "    # create matrix using length of both strings - source string sits on columns, target string sits on rows\n",
    "    matrix = [ [ 0 for i1 in range(n1 + 1) ] for i2 in range(n2 + 1) ]\n",
    "    \n",
    "    # fill the first row - (0 to n1-1)\n",
    "    for i1 in range(1, n1 + 1):\n",
    "        matrix[0][i1] = i1\n",
    "    \n",
    "    # fill the first column - (0 to n2-1)\n",
    "    for i2 in range(1, n2 + 1):\n",
    "        matrix[i2][0] = i2\n",
    "    \n",
    "    # fill the matrix\n",
    "    for i2 in range(1, n2 + 1):\n",
    "        for i1 in range(1, n1 + 1):\n",
    "            \n",
    "            # check whether letters being compared are same\n",
    "            if (source[i1-1] == target[i2-1]):\n",
    "                value = matrix[i2-1][i1-1]               # top-left cell value\n",
    "            else:\n",
    "                value = min(matrix[i2-1][i1]   + 1,      # left cell value     + 1\n",
    "                            matrix[i2][i1-1]   + 1,      # top cell  value     + 1\n",
    "                            matrix[i2-1][i1-1] + 1)      # top-left cell value + 1\n",
    "            \n",
    "            matrix[i2][i1] = value\n",
    "    \n",
    "    # return bottom-right cell value\n",
    "    return matrix[-1][-1]"
   ]
  },
  {
   "cell_type": "code",
   "execution_count": 2,
   "id": "eb2124e3-b136-4b66-ae27-0efd2c956887",
   "metadata": {},
   "outputs": [
    {
     "data": {
      "text/plain": [
       "2"
      ]
     },
     "execution_count": 2,
     "metadata": {},
     "output_type": "execute_result"
    }
   ],
   "source": [
    "lev_distance('cat', 'cta')"
   ]
  },
  {
   "cell_type": "markdown",
   "id": "b01a0e5b-ad86-4a12-ae03-cf81a7c41858",
   "metadata": {},
   "source": [
    "## Levenshtein distance in nltk library"
   ]
  },
  {
   "cell_type": "code",
   "execution_count": 3,
   "id": "c0132d7a-92cc-40dc-90c8-0281bbcc2c8a",
   "metadata": {},
   "outputs": [],
   "source": [
    "# import the required library\n",
    "from nltk.metrics.distance import edit_distance"
   ]
  },
  {
   "cell_type": "code",
   "execution_count": 5,
   "id": "968703c9-8aa1-4c7f-a89f-dba9f74b3538",
   "metadata": {},
   "outputs": [
    {
     "data": {
      "text/plain": [
       "2"
      ]
     },
     "execution_count": 5,
     "metadata": {},
     "output_type": "execute_result"
    }
   ],
   "source": [
    "edit_distance('apple','appel')"
   ]
  },
  {
   "cell_type": "code",
   "execution_count": 9,
   "id": "ad958400-e8d0-4058-a014-25bb14f804dc",
   "metadata": {},
   "outputs": [
    {
     "data": {
      "text/plain": [
       "4"
      ]
     },
     "execution_count": 9,
     "metadata": {},
     "output_type": "execute_result"
    }
   ],
   "source": [
    "edit_distance('Mountain','Mountbatten')"
   ]
  },
  {
   "cell_type": "code",
   "execution_count": 11,
   "id": "3def8ee4-1285-4fcf-957c-aa02336a4670",
   "metadata": {},
   "outputs": [
    {
     "data": {
      "text/plain": [
       "10"
      ]
     },
     "execution_count": 11,
     "metadata": {},
     "output_type": "execute_result"
    }
   ],
   "source": [
    "edit_distance('Damerau','Levenshtein')"
   ]
  },
  {
   "cell_type": "markdown",
   "id": "cca5cf3d-96d0-4c48-a9cf-a9c578df8c6a",
   "metadata": {},
   "source": [
    "## Damerau-Levenshtein Distance\n",
    "\n",
    "It allows transposition(swap of two letters which are adjacent to each other) apart from allowing the three edit operations"
   ]
  },
  {
   "cell_type": "code",
   "execution_count": 7,
   "id": "6259865a-8606-404b-a086-cbf506f008c4",
   "metadata": {},
   "outputs": [
    {
     "data": {
      "text/plain": [
       "1"
      ]
     },
     "execution_count": 7,
     "metadata": {},
     "output_type": "execute_result"
    }
   ],
   "source": [
    "edit_distance('apple','appel', transpositions=True)"
   ]
  },
  {
   "cell_type": "code",
   "execution_count": 8,
   "id": "328aa970-b3d2-4818-9ad4-0028d36c9c6a",
   "metadata": {},
   "outputs": [
    {
     "data": {
      "text/plain": [
       "4"
      ]
     },
     "execution_count": 8,
     "metadata": {},
     "output_type": "execute_result"
    }
   ],
   "source": [
    "edit_distance('Mountain','Mountbatten', transpositions=True)"
   ]
  },
  {
   "cell_type": "code",
   "execution_count": 10,
   "id": "c6253735-8689-474a-ba18-64b8f8cd0c4c",
   "metadata": {},
   "outputs": [
    {
     "data": {
      "text/plain": [
       "10"
      ]
     },
     "execution_count": 10,
     "metadata": {},
     "output_type": "execute_result"
    }
   ],
   "source": [
    "edit_distance('Damerau','Levenshtein', transpositions=True)"
   ]
  },
  {
   "cell_type": "code",
   "execution_count": null,
   "id": "abe31670-c219-41c7-8852-ab0f1aed65dd",
   "metadata": {},
   "outputs": [],
   "source": []
  }
 ],
 "metadata": {
  "kernelspec": {
   "display_name": "Python 3 (ipykernel)",
   "language": "python",
   "name": "python3"
  },
  "language_info": {
   "codemirror_mode": {
    "name": "ipython",
    "version": 3
   },
   "file_extension": ".py",
   "mimetype": "text/x-python",
   "name": "python",
   "nbconvert_exporter": "python",
   "pygments_lexer": "ipython3",
   "version": "3.12.1"
  }
 },
 "nbformat": 4,
 "nbformat_minor": 5
}
