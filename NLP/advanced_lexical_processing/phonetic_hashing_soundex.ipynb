{
 "cells": [
  {
   "cell_type": "markdown",
   "id": "8f3edcb8-de72-436b-abc2-70f371856d7d",
   "metadata": {},
   "source": [
    "# Phonetic Hashing\n",
    "\n",
    "It is a technique to reduce a word to its base form. Stemming and Lemmatisation are types of Canonicalisation. Stemming tries to reduce a word to its root form. Lemmatization tries to reduce a word to its lemma. The root and the lemma are nothing but the base forms of the inflected words.\n",
    "\n",
    "But there are some cases that can’t be handled either by stemming nor lemmatization. We need another preprocessing method in order to stem or lemmatize the words efficiently.\n",
    "\n",
    "The problem of pronunciation which has to do with different dialects present in the same language. For example, the word ‘colour’ is used in British English, while ‘color’ is used in American English. Both are correct spellings, but ‘colouring’ and ‘coloring’ will result in different stems and lemma.\n",
    "\n",
    "To deal with different spellings that occur due to different pronunciations, <b>phonetic hashing</b> which be helpful to canonicalise different versions of the same word to a base word.\n",
    "\n",
    "Phonetic hashing buckets all the similar phonemes (words with similar sound or pronunciation) into a single bucket and gives all these variations a single hash code. Hence, the word ‘Dilli’ and ‘Delhi’ will have the same code."
   ]
  },
  {
   "cell_type": "markdown",
   "id": "58c5cab3-c18b-47d3-adeb-5ef5a69cadd7",
   "metadata": {},
   "source": [
    "# Soundex Algorithm\n",
    "\n",
    "Phonetic hashing is done using the Soundex algorithm. American Soundex is the most popular Soundex algorithm. It buckets British and American spellings of a word to a common code. It doesn't matter which language the input word comes from - as long as the words sound similar, they will get the same hash code.\n",
    "\n",
    "Algorithm is as below:\n",
    "\n",
    "- Phonetic hashing is a four-letter code. The first letter of the code is the first letter of the input word. Hence it is retained as is.\n",
    "\n",
    "- Now, we need to map all the consonant letters (except the first letter) as below\n",
    "\n",
    "\n",
    "              1. b,f,p,v => 1\n",
    "\n",
    "              2. c,g,j,k,q,s,x,z => 2\n",
    "\n",
    "              3. d,t => 3\n",
    "\n",
    "              4. l => 4\n",
    "\n",
    "              5. m,n => 5\n",
    "\n",
    "              6. r => 6\n",
    "\n",
    "              7. h,w,y => encoded\n",
    "\n",
    "    \n",
    "- The third step is to remove all the vowels.\n",
    "\n",
    "- The fourth step is to force the code to make it a four-letter code. We either need to pad it with zeroes in case it is less than four characters in length. Or we need to truncate it from the right side in case it is more than four characters in length. "
   ]
  },
  {
   "cell_type": "code",
   "execution_count": 1,
   "id": "27f79db1-e1c3-4cbf-84b2-0887ab8f831d",
   "metadata": {},
   "outputs": [],
   "source": [
    "def get_soundex(token):\n",
    "\n",
    "    token = token.upper()\n",
    "\n",
    "    soundex = ''\n",
    "\n",
    "    # take the first letter of the token\n",
    "    soundex =  soundex + token[0]\n",
    "\n",
    "    # create a dictionary which maps letters to respective soundex codes. Vowels, H, W and Y will be represented with .\n",
    "    consonant_dict = {\"BFPV\": \"1\", \"CGJKQSXZ\":\"2\", \"DT\":\"3\", \"L\":\"4\", \"MN\":\"5\", \"R\":\"6\", \"AEIOUHWY\":\".\"}\n",
    "\n",
    "    for char in token[1:]:\n",
    "        for key in consonant_dict.keys():\n",
    "            if char in key:\n",
    "                code = consonant_dict[key]\n",
    "                if code != soundex[-1]:\n",
    "                    soundex = soundex + code\n",
    "\n",
    "    # remove vowels and 'H', 'W' and 'Y' from soundex\n",
    "    soundex = soundex.replace(\".\", \"\")\n",
    "    \n",
    "    # trim or pad to make soundex a 4-character code\n",
    "    soundex = soundex[:4].ljust(4, \"0\")\n",
    "        \n",
    "    return soundex\n",
    "    "
   ]
  },
  {
   "cell_type": "code",
   "execution_count": 3,
   "id": "1c5be409-53f4-4221-a3e1-7b3a53182e80",
   "metadata": {},
   "outputs": [
    {
     "name": "stdout",
     "output_type": "stream",
     "text": [
      "B510\n",
      "B510\n"
     ]
    }
   ],
   "source": [
    "# Lets validate\n",
    "print(get_soundex(\"Bombay\"))\n",
    "print(get_soundex(\"Bambai\"))"
   ]
  },
  {
   "cell_type": "code",
   "execution_count": 4,
   "id": "1a0782cc-128d-4337-a6f0-8b01313254b8",
   "metadata": {},
   "outputs": [
    {
     "name": "stdout",
     "output_type": "stream",
     "text": [
      "A264\n",
      "A264\n",
      "A264\n",
      "A264\n"
     ]
    }
   ],
   "source": [
    "print(get_soundex(\"Aggrawal\"))\n",
    "print(get_soundex(\"Agrawal\"))\n",
    "print(get_soundex(\"Aggarwal\"))\n",
    "print(get_soundex(\"Agarwal\"))"
   ]
  },
  {
   "cell_type": "code",
   "execution_count": null,
   "id": "c45cb55f-b9b7-4fb0-be54-c1b614d92687",
   "metadata": {},
   "outputs": [],
   "source": []
  }
 ],
 "metadata": {
  "kernelspec": {
   "display_name": "Python 3 (ipykernel)",
   "language": "python",
   "name": "python3"
  },
  "language_info": {
   "codemirror_mode": {
    "name": "ipython",
    "version": 3
   },
   "file_extension": ".py",
   "mimetype": "text/x-python",
   "name": "python",
   "nbconvert_exporter": "python",
   "pygments_lexer": "ipython3",
   "version": "3.12.1"
  }
 },
 "nbformat": 4,
 "nbformat_minor": 5
}
