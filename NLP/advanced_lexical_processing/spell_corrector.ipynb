{
 "cells": [
  {
   "cell_type": "markdown",
   "id": "2ae997da-3671-4e8c-b411-e4c447e747be",
   "metadata": {},
   "source": [
    "# Spell Corrector\n",
    "\n",
    "A spell corrector is a widely used application that we see almost everywhere on the internet. Spell correction is an important part of lexical processing. In many applications, spell correction forms an initial preprocessing layer. For example, if we are making a chatbot to book flights, and we get the user request 'Book a flight from Mumbai to Bangalor', you want to gracefully handle that spelling error and return relevant results.\n",
    "\n",
    "Here we will be working on Norvig’s spell corrector."
   ]
  },
  {
   "cell_type": "code",
   "execution_count": 1,
   "id": "310aa1eb-10df-4134-bd09-bf7b777fb04c",
   "metadata": {},
   "outputs": [],
   "source": [
    "# import required libraries\n",
    "import re\n",
    "from collections import Counter"
   ]
  },
  {
   "cell_type": "code",
   "execution_count": 2,
   "id": "878a2257-9086-4ee1-b9fb-83cf44e2f09d",
   "metadata": {},
   "outputs": [],
   "source": [
    "# function to tokenize the words\n",
    "def words(document):\n",
    "    return re.findall(r'\\w+', document.lower())"
   ]
  },
  {
   "cell_type": "code",
   "execution_count": 3,
   "id": "069719bf-a1fb-4e83-9a16-e04bad2df087",
   "metadata": {},
   "outputs": [],
   "source": [
    "# create a frequency table of all the words of the document\n",
    "all_words = Counter(words(open('big.txt').read()))"
   ]
  },
  {
   "cell_type": "code",
   "execution_count": 4,
   "id": "9b1ea16f-9200-43f0-abcc-1f70d4e4a97a",
   "metadata": {},
   "outputs": [
    {
     "data": {
      "text/plain": [
       "collections.Counter"
      ]
     },
     "execution_count": 4,
     "metadata": {},
     "output_type": "execute_result"
    }
   ],
   "source": [
    "type(all_words)"
   ]
  },
  {
   "cell_type": "code",
   "execution_count": 5,
   "id": "bda6773e-4755-45e6-97b7-8582a139a188",
   "metadata": {},
   "outputs": [
    {
     "name": "stdout",
     "output_type": "stream",
     "text": [
      "6488665\n",
      "32198\n"
     ]
    }
   ],
   "source": [
    "print(len(open('big.txt').read()))\n",
    "print(len(all_words))"
   ]
  },
  {
   "cell_type": "code",
   "execution_count": 6,
   "id": "9e462250-8c33-4730-bd8c-3efbcc004cd1",
   "metadata": {},
   "outputs": [
    {
     "data": {
      "text/plain": [
       "55"
      ]
     },
     "execution_count": 6,
     "metadata": {},
     "output_type": "execute_result"
    }
   ],
   "source": [
    "# check the frequency of a random word, say 'bought'\n",
    "all_words['bought']"
   ]
  },
  {
   "cell_type": "code",
   "execution_count": 7,
   "id": "7222876b-412a-4fee-8ade-78888e11592b",
   "metadata": {},
   "outputs": [
    {
     "data": {
      "text/plain": [
       "[('the', 79809),\n",
       " ('of', 40024),\n",
       " ('and', 38312),\n",
       " ('to', 28765),\n",
       " ('in', 22023),\n",
       " ('a', 21124),\n",
       " ('that', 12512),\n",
       " ('he', 12401),\n",
       " ('was', 11410),\n",
       " ('it', 10681)]"
      ]
     },
     "execution_count": 7,
     "metadata": {},
     "output_type": "execute_result"
    }
   ],
   "source": [
    "# look at top 10 frequent words in the document\n",
    "all_words.most_common(10)"
   ]
  },
  {
   "cell_type": "code",
   "execution_count": 8,
   "id": "0771d46c-c291-4a87-8073-7e4e93265bfd",
   "metadata": {},
   "outputs": [],
   "source": [
    "# Create all edits that are one edit away from word passed\n",
    "def edits_one(word):\n",
    "    alphabets    = 'abcdefghijklmnopqrstuvwxyz'\n",
    "    splits     = [(word[:i], word[i:])                   for i in range(len(word) + 1)]\n",
    "    deletes    = [left + right[1:]                       for left, right in splits if right]\n",
    "    inserts    = [left + c + right                       for left, right in splits for c in alphabets]\n",
    "    replaces   = [left + c + right[1:]                   for left, right in splits if right for c in alphabets]\n",
    "    transposes = [left + right[1] + right[0] + right[2:] for left, right in splits if len(right)>1]\n",
    "    return set(deletes + inserts + replaces + transposes)"
   ]
  },
  {
   "cell_type": "code",
   "execution_count": 9,
   "id": "b52e0280-4f06-4d72-bbae-42b735a61bfd",
   "metadata": {},
   "outputs": [],
   "source": [
    "# Create all edits that are two edits away from word passed\n",
    "def edits_two(word):\n",
    "    return (e2 for e1 in edits_one(word) for e2 in edits_one(e1))"
   ]
  },
  {
   "cell_type": "code",
   "execution_count": 10,
   "id": "332a6618-bf5e-45fc-a042-e7fdd4eb2f96",
   "metadata": {},
   "outputs": [],
   "source": [
    "# The subset of `words` that appear in the `all_words`\n",
    "def known(words):\n",
    "    return set(word for word in words if word in all_words)"
   ]
  },
  {
   "cell_type": "code",
   "execution_count": 11,
   "id": "3b973a62-85e0-4da1-8215-13a4b79f68d2",
   "metadata": {},
   "outputs": [],
   "source": [
    "# Generate possible spelling corrections for word\n",
    "def possible_corrections(word):\n",
    "    return (known([word]) or known(edits_one(word)) or known(edits_two(word)) or [word])"
   ]
  },
  {
   "cell_type": "code",
   "execution_count": 12,
   "id": "ebf9470d-1f74-4bce-a3a7-398e2956585e",
   "metadata": {},
   "outputs": [],
   "source": [
    "# Probability of `word`: Number of appearances of 'word' / total number of tokens\n",
    "def prob(word, N=sum(all_words.values())): \n",
    "    return all_words[word] / N"
   ]
  },
  {
   "cell_type": "code",
   "execution_count": 13,
   "id": "fa6b0f2d-4045-4add-ad92-de803b1e22cb",
   "metadata": {},
   "outputs": [
    {
     "name": "stdout",
     "output_type": "stream",
     "text": [
      "336\n",
      "{'monjney', 'mxonney', 'monndy', 'monncy', 'monnely', 'mponney', 'aonney', 'monmney', 'mohney', 'mdonney', 'mobnney', 'mkonney', 'motnney', 'monhey', 'monbey', 'hmonney', 'lonney', 'monxey', 'monneys', 'mosney', 'mnney', 'mwonney', 'moanney', 'monuney', 'monqey', 'mdnney', 'umonney', 'monneny', 'mtonney', 'monnhey', 'mojnney', 'monneuy', 'monnye', 'vmonney', 'donney', 'mondey', 'tmonney', 'monnsy', 'monvey', 'monpey', 'mobney', 'monyney', 'molnney', 'mooney', 'monnen', 'monnewy', 'amonney', 'uonney', 'monnep', 'monwey', 'moenney', 'monrney', 'moncey', 'myonney', 'monnezy', 'monnvy', 'mtnney', 'movnney', 'maonney', 'monnegy', 'monnwy', 'imonney', 'monrey', 'monnery', 'mhnney', 'monzney', 'cmonney', 'monnsey', 'monneyw', 'bmonney', 'monner', 'monnky', 'monnbey', 'monnpey', 'monnaey', 'monneyy', 'moneey', 'monneyd', 'monneey', 'xmonney', 'mouney', 'monneyx', 'monpney', 'momnney', 'monniey', 'monnecy', 'monaey', 'oonney', 'moonney', 'menney', 'monnex', 'mopney', 'monneiy', 'monwney', 'monnuy', 'moaney', 'moneny', 'monneyo', 'monneya', 'mrnney', 'monnxey', 'momney', 'monnee', 'monzey', 'mpnney', 'omonney', 'mvnney', 'jmonney', 'monnev', 'monneqy', 'honney', 'monnny', 'mocney', 'mofnney', 'monneyf', 'mznney', 'monneyh', 'monnea', 'monnety', 'gmonney', 'monnef', 'mogney', 'bonney', 'fmonney', 'ponney', 'moniney', 'monny', 'monnexy', 'moniey', 'monnwey', 'molney', 'onney', 'monneyu', 'monsney', 'mondney', 'monnkey', 'monnjey', 'mounney', 'moznney', 'monned', 'monnet', 'mlonney', 'monlney', 'mionney', 'ronney', 'monneyq', 'moxney', 'monnrey', 'munney', 'monneoy', 'monkey', 'smonney', 'monnek', 'monntey', 'monkney', 'mowney', 'mhonney', 'monnmey', 'monoey', 'monnly', 'monneyp', 'moinney', 'moknney', 'tonney', 'monneym', 'pmonney', 'monnfey', 'monndey', 'mknney', 'monnry', 'mognney', 'monvney', 'emonney', 'monnley', 'monnevy', 'monneyc', 'monsey', 'mvonney', 'monnty', 'monnfy', 'monnei', 'mfonney', 'vonney', 'movney', 'monyey', 'moncney', 'monnefy', 'zonney', 'mojney', 'monnyey', 'mynney', 'motney', 'monnem', 'qonney', 'monneyz', 'monne', 'monnay', 'monneyr', 'monqney', 'monnemy', 'monneky', 'monley', 'mnnney', 'monfey', 'muonney', 'monfney', 'conney', 'xonney', 'monneo', 'mconney', 'monxney', 'monneby', 'meonney', 'monbney', 'monuey', 'eonney', 'mornney', 'moynney', 'mofney', 'monngy', 'mbnney', 'mokney', 'moqney', 'monnepy', 'ionney', 'monnejy', 'mqonney', 'mwnney', 'monnoy', 'monnzy', 'monneyl', 'morney', 'msnney', 'monnuey', 'monnez', 'monnjy', 'monneyt', 'monmey', 'mopnney', 'mongey', 'monnesy', 'monneyn', 'modney', 'mzonney', 'omnney', 'mozney', 'mfnney', 'mmnney', 'mgnney', 'monnyy', 'rmonney', 'monniy', 'monneyv', 'monnhy', 'monnmy', 'mmonney', 'monnew', 'msonney', 'monnes', 'lmonney', 'monneh', 'nmonney', 'monnehy', 'monnby', 'monncey', 'moeney', 'mocnney', 'monnqey', 'monney', 'monnedy', 'moqnney', 'mronney', 'zmonney', 'mnonney', 'mgonney', 'monneu', 'wonney', 'mjonney', 'monnqy', 'monneay', 'monnej', 'monnpy', 'monaney', 'dmonney', 'jonney', 'mononey', 'moxnney', 'monnvey', 'monneb', 'nonney', 'yonney', 'monnney', 'fonney', 'monjey', 'montey', 'monnec', 'mxnney', 'mnoney', 'mqnney', 'mosnney', 'sonney', 'monneg', 'mcnney', 'monneyj', 'manney', 'monhney', 'mohnney', 'mownney', 'mongney', 'monneye', 'monneq', 'qmonney', 'monneyb', 'konney', 'monngey', 'montney', 'monneyg', 'minney', 'monnel', 'mbonney', 'wmonney', 'money', 'modnney', 'monneyi', 'kmonney', 'monneyk', 'monnxy', 'ymonney', 'monnzey', 'mlnney', 'moiney', 'gonney', 'monnoey', 'moneney', 'mjnney', 'moyney'}\n"
     ]
    }
   ],
   "source": [
    "# Let us test with sample text\n",
    "\n",
    "print(len(set(edits_one(\"monney\"))))\n",
    "print(edits_one(\"monney\"))"
   ]
  },
  {
   "cell_type": "code",
   "execution_count": 14,
   "id": "ebc1b826-6163-4882-bba8-154f2b427547",
   "metadata": {},
   "outputs": [
    {
     "name": "stdout",
     "output_type": "stream",
     "text": [
      "51013\n",
      "<generator object edits_two.<locals>.<genexpr> at 0x10fd54ac0>\n"
     ]
    }
   ],
   "source": [
    "print(len(set(edits_two(\"monney\"))))\n",
    "print(edits_two(\"monney\"))"
   ]
  },
  {
   "cell_type": "code",
   "execution_count": 15,
   "id": "2425a8f3-910a-41cf-9c73-bd0c4aaffadd",
   "metadata": {},
   "outputs": [
    {
     "name": "stdout",
     "output_type": "stream",
     "text": [
      "{'monkey', 'money'}\n"
     ]
    }
   ],
   "source": [
    "# Let's look at possible corrections of a word\n",
    "print(possible_corrections(\"monney\"))"
   ]
  },
  {
   "cell_type": "code",
   "execution_count": 16,
   "id": "ffd9f7c6-a212-4169-99ed-13bdf0d68cdd",
   "metadata": {},
   "outputs": [
    {
     "name": "stdout",
     "output_type": "stream",
     "text": [
      "0.0002922233626303688\n",
      "5.378344097491451e-06\n"
     ]
    }
   ],
   "source": [
    "# Let's look at probability of a word\n",
    "print(prob(\"money\"))\n",
    "print(prob(\"monkey\"))"
   ]
  },
  {
   "cell_type": "code",
   "execution_count": 17,
   "id": "4b7a5530-fa58-4eb3-9184-c1e85df9dfa5",
   "metadata": {},
   "outputs": [],
   "source": [
    "# Let us build the spell corrector by printing the most probable spelling correction for `word` out of all the `possible_corrections`\n",
    "def spell_check(word):\n",
    "    correct_word = max(possible_corrections(word), key=prob)\n",
    "    if correct_word != word:\n",
    "        return \"Did you mean \" + correct_word + \"?\"\n",
    "    else:\n",
    "        return \"Correct spelling.\""
   ]
  },
  {
   "cell_type": "code",
   "execution_count": 18,
   "id": "043e62da-99af-4b2e-b139-f8cc35153fbe",
   "metadata": {},
   "outputs": [
    {
     "name": "stdout",
     "output_type": "stream",
     "text": [
      "Did you mean money?\n"
     ]
    }
   ],
   "source": [
    "# test spell check\n",
    "print(spell_check(\"monney\"))"
   ]
  },
  {
   "cell_type": "code",
   "execution_count": 19,
   "id": "899c7566-b6cc-418e-8de0-96ddf4b916bd",
   "metadata": {},
   "outputs": [
    {
     "name": "stdout",
     "output_type": "stream",
     "text": [
      "Did you mean acquire?\n"
     ]
    }
   ],
   "source": [
    "# test spell check\n",
    "print(spell_check(\"aquire\"))"
   ]
  },
  {
   "cell_type": "code",
   "execution_count": null,
   "id": "f0de44a6-151c-477b-a65f-4b3a0d81e6dc",
   "metadata": {},
   "outputs": [],
   "source": []
  }
 ],
 "metadata": {
  "kernelspec": {
   "display_name": "Python 3 (ipykernel)",
   "language": "python",
   "name": "python3"
  },
  "language_info": {
   "codemirror_mode": {
    "name": "ipython",
    "version": 3
   },
   "file_extension": ".py",
   "mimetype": "text/x-python",
   "name": "python",
   "nbconvert_exporter": "python",
   "pygments_lexer": "ipython3",
   "version": "3.12.1"
  }
 },
 "nbformat": 4,
 "nbformat_minor": 5
}
