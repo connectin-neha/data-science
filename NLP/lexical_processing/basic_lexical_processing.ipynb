{
 "cells": [
  {
   "cell_type": "markdown",
   "id": "87ced204-8811-40e5-9120-214c636cd1aa",
   "metadata": {},
   "source": [
    "# Basic Lexical Processing\n",
    "\n",
    "As an exercise to perform basic lexical processing, we would be using the text from an ebook \"Alice in Wonderland\" from the URL https://www.gutenberg.org/\n",
    "\n",
    "Steps involved are:\n",
    "\n",
    "- Plot the word frequency of the book for top 15 words\n",
    "- Remove the stop words from that\n",
    "- Re-plot the word frequency with available significant words post removal of stop words"
   ]
  },
  {
   "cell_type": "markdown",
   "id": "b0cd8e2b-7017-40e5-922e-b4c939835dd9",
   "metadata": {},
   "source": [
    "### Plotting Word Frequencies"
   ]
  },
  {
   "cell_type": "code",
   "execution_count": 1,
   "id": "5c184290-6554-4d51-a7fa-4ead3144c41f",
   "metadata": {},
   "outputs": [],
   "source": [
    "# import the required libraries\n",
    "import requests\n",
    "from nltk import FreqDist #nltk (Natural Language Tool Kit is used for NLP processing)\n",
    "import seaborn as sns"
   ]
  },
  {
   "cell_type": "code",
   "execution_count": 2,
   "id": "6a610a65-0939-4074-91dd-09757df03fea",
   "metadata": {
    "scrolled": true
   },
   "outputs": [],
   "source": [
    "# read the book from the url\n",
    "url = \"https://www.gutenberg.org/files/11/11-0.txt\"\n",
    "aliceInWonderland = requests.get(url)\n",
    "#print(aliceInWonderland.text)"
   ]
  },
  {
   "cell_type": "code",
   "execution_count": 3,
   "id": "004aded0-9038-4b44-970b-835738bf8246",
   "metadata": {},
   "outputs": [],
   "source": [
    "# Define a function to plot bar graph of the top 10 word frequncies\n",
    "\n",
    "def plot_word_frequency(words, top_n=10):\n",
    "    word_freq = FreqDist(words)\n",
    "    labels = [element[0] for element in word_freq.most_common(top_n)]\n",
    "    counts = [element[1] for element in word_freq.most_common(top_n)]\n",
    "    plot = sns.barplot(x=labels, y=counts)\n",
    "    return plot"
   ]
  },
  {
   "cell_type": "code",
   "execution_count": 4,
   "id": "74c353c9-4039-4cb7-b74a-fe7f190551ec",
   "metadata": {},
   "outputs": [],
   "source": [
    "# Split the text in the book to get the words\n",
    "words_in_book = aliceInWonderland.text.split()"
   ]
  },
  {
   "cell_type": "code",
   "execution_count": 5,
   "id": "db20f1ff-9bc9-461c-96f9-925d0fd562b4",
   "metadata": {},
   "outputs": [
    {
     "data": {
      "text/plain": [
       "<Axes: >"
      ]
     },
     "execution_count": 5,
     "metadata": {},
     "output_type": "execute_result"
    },
    {
     "data": {
      "image/png": "[encoded data removed]",
      "text/plain": [
       "<Figure size 640x480 with 1 Axes>"
      ]
     },
     "metadata": {},
     "output_type": "display_data"
    }
   ],
   "source": [
    "plot_word_frequency(words_in_book, 15)"
   ]
  },
  {
   "cell_type": "markdown",
   "id": "78911dbb-7b29-476d-b304-669eb692cee0",
   "metadata": {},
   "source": [
    "### Stopwords"
   ]
  },
  {
   "cell_type": "code",
   "execution_count": 6,
   "id": "44e7020e-7382-4cfa-b6f3-a289c5dcb96b",
   "metadata": {},
   "outputs": [],
   "source": [
    "import nltk\n",
    "from nltk.corpus import stopwords"
   ]
  },
  {
   "cell_type": "code",
   "execution_count": 7,
   "id": "fc25dc3a-3626-4176-833e-b78625f71902",
   "metadata": {},
   "outputs": [
    {
     "name": "stderr",
     "output_type": "stream",
     "text": [
      "[nltk_data] Downloading package stopwords to\n",
      "[nltk_data]     /Users/nehaverma/nltk_data...\n",
      "[nltk_data]   Package stopwords is already up-to-date!\n"
     ]
    },
    {
     "data": {
      "text/plain": [
       "True"
      ]
     },
     "execution_count": 7,
     "metadata": {},
     "output_type": "execute_result"
    }
   ],
   "source": [
    "# Let us download the stopwords corpus from the Natural Language Toolkit (NLTK) repository to your local system. This corpus contains predefined lists of stopwords for multiple languages, which can be used in various NLP tasks\n",
    "nltk.download('stopwords')"
   ]
  },
  {
   "cell_type": "code",
   "execution_count": 8,
   "id": "2e41c623-f467-42ab-9c15-58c697f8fe65",
   "metadata": {},
   "outputs": [
    {
     "name": "stdout",
     "output_type": "stream",
     "text": [
      "['i', 'me', 'my', 'myself', 'we', 'our', 'ours', 'ourselves', 'you', \"you're\", \"you've\", \"you'll\", \"you'd\", 'your', 'yours', 'yourself', 'yourselves', 'he', 'him', 'his', 'himself', 'she', \"she's\", 'her', 'hers', 'herself', 'it', \"it's\", 'its', 'itself', 'they', 'them', 'their', 'theirs', 'themselves', 'what', 'which', 'who', 'whom', 'this', 'that', \"that'll\", 'these', 'those', 'am', 'is', 'are', 'was', 'were', 'be', 'been', 'being', 'have', 'has', 'had', 'having', 'do', 'does', 'did', 'doing', 'a', 'an', 'the', 'and', 'but', 'if', 'or', 'because', 'as', 'until', 'while', 'of', 'at', 'by', 'for', 'with', 'about', 'against', 'between', 'into', 'through', 'during', 'before', 'after', 'above', 'below', 'to', 'from', 'up', 'down', 'in', 'out', 'on', 'off', 'over', 'under', 'again', 'further', 'then', 'once', 'here', 'there', 'when', 'where', 'why', 'how', 'all', 'any', 'both', 'each', 'few', 'more', 'most', 'other', 'some', 'such', 'no', 'nor', 'not', 'only', 'own', 'same', 'so', 'than', 'too', 'very', 's', 't', 'can', 'will', 'just', 'don', \"don't\", 'should', \"should've\", 'now', 'd', 'll', 'm', 'o', 're', 've', 'y', 'ain', 'aren', \"aren't\", 'couldn', \"couldn't\", 'didn', \"didn't\", 'doesn', \"doesn't\", 'hadn', \"hadn't\", 'hasn', \"hasn't\", 'haven', \"haven't\", 'isn', \"isn't\", 'ma', 'mightn', \"mightn't\", 'mustn', \"mustn't\", 'needn', \"needn't\", 'shan', \"shan't\", 'shouldn', \"shouldn't\", 'wasn', \"wasn't\", 'weren', \"weren't\", 'won', \"won't\", 'wouldn', \"wouldn't\"]\n"
     ]
    }
   ],
   "source": [
    "print(stopwords.words('english'))"
   ]
  },
  {
   "cell_type": "code",
   "execution_count": 9,
   "id": "fbf794e5-0ef0-401c-8f42-480b8622c09a",
   "metadata": {},
   "outputs": [
    {
     "name": "stdout",
     "output_type": "stream",
     "text": [
      "['au', 'aux', 'avec', 'ce', 'ces', 'dans', 'de', 'des', 'du', 'elle', 'en', 'et', 'eux', 'il', 'ils', 'je', 'la', 'le', 'les', 'leur', 'lui', 'ma', 'mais', 'me', 'même', 'mes', 'moi', 'mon', 'ne', 'nos', 'notre', 'nous', 'on', 'ou', 'par', 'pas', 'pour', 'qu', 'que', 'qui', 'sa', 'se', 'ses', 'son', 'sur', 'ta', 'te', 'tes', 'toi', 'ton', 'tu', 'un', 'une', 'vos', 'votre', 'vous', 'c', 'd', 'j', 'l', 'à', 'm', 'n', 's', 't', 'y', 'été', 'étée', 'étées', 'étés', 'étant', 'étante', 'étants', 'étantes', 'suis', 'es', 'est', 'sommes', 'êtes', 'sont', 'serai', 'seras', 'sera', 'serons', 'serez', 'seront', 'serais', 'serait', 'serions', 'seriez', 'seraient', 'étais', 'était', 'étions', 'étiez', 'étaient', 'fus', 'fut', 'fûmes', 'fûtes', 'furent', 'sois', 'soit', 'soyons', 'soyez', 'soient', 'fusse', 'fusses', 'fût', 'fussions', 'fussiez', 'fussent', 'ayant', 'ayante', 'ayantes', 'ayants', 'eu', 'eue', 'eues', 'eus', 'ai', 'as', 'avons', 'avez', 'ont', 'aurai', 'auras', 'aura', 'aurons', 'aurez', 'auront', 'aurais', 'aurait', 'aurions', 'auriez', 'auraient', 'avais', 'avait', 'avions', 'aviez', 'avaient', 'eut', 'eûmes', 'eûtes', 'eurent', 'aie', 'aies', 'ait', 'ayons', 'ayez', 'aient', 'eusse', 'eusses', 'eût', 'eussions', 'eussiez', 'eussent']\n"
     ]
    }
   ],
   "source": [
    "print(stopwords.words('french'))"
   ]
  },
  {
   "cell_type": "code",
   "execution_count": 10,
   "id": "852046d3-bf89-4abb-82ea-f9ac6fa8ffb9",
   "metadata": {},
   "outputs": [
    {
     "name": "stdout",
     "output_type": "stream",
     "text": [
      "Words in the sentence -  ['Education', 'is', 'the', 'most', 'powerful', 'weapon', 'which', 'you', 'can', 'use', 'to', 'change', 'the', 'world']\n",
      "\n",
      "Words in the sentence without stop words -  ['Education', 'powerful', 'weapon', 'use', 'change', 'world']\n"
     ]
    }
   ],
   "source": [
    "# Example to remove stop words from a sentence\n",
    "\n",
    "string = \"Education is the most powerful weapon which you can use to change the world\"\n",
    "\n",
    "words = string.split()\n",
    "print(\"Words in the sentence - \", words)\n",
    "\n",
    "words_without_stopwords = [word for word in words if word not in stopwords.words('english')]\n",
    "print(\"\\nWords in the sentence without stop words - \", words_without_stopwords)"
   ]
  },
  {
   "cell_type": "code",
   "execution_count": 11,
   "id": "adfc4810-a1ba-49b5-ba77-6c098940d5d8",
   "metadata": {},
   "outputs": [
    {
     "name": "stdout",
     "output_type": "stream",
     "text": [
      "Education powerful weapon use change world\n"
     ]
    }
   ],
   "source": [
    "text_without_stopwords = \" \".join(words_without_stopwords)\n",
    "print(text_without_stopwords)"
   ]
  },
  {
   "cell_type": "code",
   "execution_count": 12,
   "id": "880789cf-ef9e-42e9-83fc-449896656ef3",
   "metadata": {},
   "outputs": [
    {
     "data": {
      "text/plain": [
       "<Axes: >"
      ]
     },
     "execution_count": 12,
     "metadata": {},
     "output_type": "execute_result"
    },
    {
     "data": {
      "image/png": "[encoded data removed]",
      "text/plain": [
       "<Figure size 640x480 with 1 Axes>"
      ]
     },
     "metadata": {},
     "output_type": "display_data"
    }
   ],
   "source": [
    "#### Similarly lets remove the stop words from the Alice in Wonderland book text\n",
    "\n",
    "words_in_book_no_stop = [word for word in words_in_book if word not in stopwords.words('english')]\n",
    "\n",
    "plot_word_frequency(words_in_book_no_stop, 10)\n"
   ]
  },
  {
   "cell_type": "markdown",
   "id": "5cda8346-e49a-4181-b1d5-c3c79c5d210b",
   "metadata": {},
   "source": [
    "#### As see there are few punctuations and also stop words coming up due to case difference"
   ]
  },
  {
   "cell_type": "code",
   "execution_count": 13,
   "id": "6911144c-6cad-44cc-9fdb-fee642e9b2ed",
   "metadata": {},
   "outputs": [],
   "source": [
    "# Lets re-run out pre-processing by correcting this\n",
    "\n",
    "words_in_book = aliceInWonderland.text.lower().split()\n",
    "\n",
    "words_in_book_no_stop = [word for word in words_in_book if word not in stopwords.words('english')]\n"
   ]
  },
  {
   "cell_type": "code",
   "execution_count": 14,
   "id": "15bb0758-7f0c-4625-a668-a67df056f565",
   "metadata": {},
   "outputs": [
    {
     "data": {
      "text/plain": [
       "<Axes: >"
      ]
     },
     "execution_count": 14,
     "metadata": {},
     "output_type": "execute_result"
    },
    {
     "data": {
      "image/png": "[encoded data removed]",
      "text/plain": [
       "<Figure size 640x480 with 1 Axes>"
      ]
     },
     "metadata": {},
     "output_type": "display_data"
    }
   ],
   "source": [
    "plot_word_frequency(words_in_book_no_stop, 10)"
   ]
  },
  {
   "cell_type": "code",
   "execution_count": null,
   "id": "0a4a535a-1c90-4b14-9274-a2d6abe03c81",
   "metadata": {},
   "outputs": [],
   "source": []
  }
 ],
 "metadata": {
  "kernelspec": {
   "display_name": "Python 3 (ipykernel)",
   "language": "python",
   "name": "python3"
  },
  "language_info": {
   "codemirror_mode": {
    "name": "ipython",
    "version": 3
   },
   "file_extension": ".py",
   "mimetype": "text/x-python",
   "name": "python",
   "nbconvert_exporter": "python",
   "pygments_lexer": "ipython3",
   "version": "3.12.1"
  }
 },
 "nbformat": 4,
 "nbformat_minor": 5
}
